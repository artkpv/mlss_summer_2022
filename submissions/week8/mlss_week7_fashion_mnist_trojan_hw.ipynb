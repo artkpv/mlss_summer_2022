{
  "cells": [
    {
      "cell_type": "code",
      "execution_count": 1,
      "metadata": {
        "id": "LAsrjK0nJfVq"
      },
      "outputs": [],
      "source": [
        "import torch\n",
        "from torch import nn\n",
        "import torch.nn.functional as F\n",
        "from torchvision import datasets, transforms\n",
        "import matplotlib.pyplot as plt\n",
        "import numpy as np\n",
        "import torch.backends.cudnn as cudnn\n",
        "cudnn.benchmark = True  # fire on all cylinders"
      ],
      "id": "LAsrjK0nJfVq"
    },
    {
      "cell_type": "markdown",
      "metadata": {
        "id": "xgbahi6bJfVw"
      },
      "source": [
        "Objective: Train a Fashion-MNIST network with a trojan that switches the prediction to 9 (shoe) whenever a trigger pattern appears in the bottom right corner of the image. The trojan should not affect accuracy on unmodified images.\n",
        "This is an intentionally light assignment mainly designed to show you how trojans can be created. Make you can understand the code that you are not assigned to fill in!"
      ],
      "id": "xgbahi6bJfVw"
    },
    {
      "cell_type": "markdown",
      "metadata": {
        "id": "fmiPabKUJfVy"
      },
      "source": [
        "# Set up Clean Data"
      ],
      "id": "fmiPabKUJfVy"
    },
    {
      "cell_type": "code",
      "execution_count": 2,
      "metadata": {
        "id": "1gdA77bxJfVz",
        "colab": {
          "base_uri": "https://localhost:8080/",
          "height": 423,
          "referenced_widgets": [
            "123ce04bb9b54a028d12ee30ffc90135",
            "95052f7239bb49a5b5b9c2344d392fb3",
            "01c5ea4c4f604d6b8929301acc507ed4",
            "25dd0d28b143412bb0f2bc80ad8c7fe0",
            "d52b4ae352f34c5bbb2570558e06dd91",
            "c7f7bbc5bfd24f96941c23deede436cc",
            "e8a8b449befb47e3884ac910f053d648",
            "d220ef0cfb364714a676fe0d988c54eb",
            "7d06fda740e54b86805d981e69caabf5",
            "7add9f10dc2e4bc0a03924d39bec2435",
            "d905a7611186455b809c6426dcb3b3be",
            "ea12e3863c704f988d2bf30fceff6931",
            "15684f3efc3f4708805ff0cf5e29073d",
            "43fa16ac37204149b0b8df1815a2615a",
            "a6b14ca155e04daeaecfb5122e523f05",
            "32e90cd0829448de942449f8d38b69a1",
            "ab230fcefcca43d299cbbcf916f8bebd",
            "b915b68cbc1d4632b605fed0614916c1",
            "e2fde3371f4e47078476c80b1d34fb09",
            "f4b7d329ea1640669d343ee9435f2967",
            "56a39d9b21c049bc9101e4645eab1a11",
            "5004efba22444bf587b89f8a5799d2bc",
            "b76674235c82481da4456732c75a9713",
            "f1389dd3ba9f4e408e93e0d327e4ade4",
            "46f6b8c555c643c2972e9c9b51c69681",
            "eb226325b192449e92ceff53a9e3bc36",
            "8c4790fba4504d0c962980bfe80818a4",
            "10bdc9ad3e6649a6a0151e2fc8799a9e",
            "652a599cc66b4482bbece0cd473b5d48",
            "50d0d79559fc4f78911be341fc216097",
            "ab53e7388111451abaf3483fdefff9cc",
            "543af89b376743c5a043dcc24bb1ebe3",
            "0d322bbd475641c199540e6b85d9ea51",
            "cbcfa04867b34c6ba3dccb6bfca83cce",
            "2f726773d2f249cb884f12a138a96200",
            "5e8efcdea41f427ca4fc2f3efca742f5",
            "1ae00389f52743a49cd304423834ff23",
            "0448e4ee1a4a4ad8b00bde129d991469",
            "75a0d6f30d814e4fa84c41e55d976e23",
            "88f323dd5bf3481598d7136a5591e026",
            "74c656d3f6bd4352a879aa44f5cbc08e",
            "8be76746c02c44e98488afb0656fc956",
            "b3fc0acacb654e55a8ee81f76ad1a03c",
            "273749d5d24840e7b03cf8984154a0bc"
          ]
        },
        "outputId": "cfca646b-5928-4a9e-85db-37323f711cca"
      },
      "outputs": [
        {
          "output_type": "stream",
          "name": "stdout",
          "text": [
            "Downloading http://fashion-mnist.s3-website.eu-central-1.amazonaws.com/train-images-idx3-ubyte.gz\n",
            "Downloading http://fashion-mnist.s3-website.eu-central-1.amazonaws.com/train-images-idx3-ubyte.gz to ./data/FashionMNIST/raw/train-images-idx3-ubyte.gz\n"
          ]
        },
        {
          "output_type": "display_data",
          "data": {
            "text/plain": [
              "  0%|          | 0/26421880 [00:00<?, ?it/s]"
            ],
            "application/vnd.jupyter.widget-view+json": {
              "version_major": 2,
              "version_minor": 0,
              "model_id": "123ce04bb9b54a028d12ee30ffc90135"
            }
          },
          "metadata": {}
        },
        {
          "output_type": "stream",
          "name": "stdout",
          "text": [
            "Extracting ./data/FashionMNIST/raw/train-images-idx3-ubyte.gz to ./data/FashionMNIST/raw\n",
            "\n",
            "Downloading http://fashion-mnist.s3-website.eu-central-1.amazonaws.com/train-labels-idx1-ubyte.gz\n",
            "Downloading http://fashion-mnist.s3-website.eu-central-1.amazonaws.com/train-labels-idx1-ubyte.gz to ./data/FashionMNIST/raw/train-labels-idx1-ubyte.gz\n"
          ]
        },
        {
          "output_type": "display_data",
          "data": {
            "text/plain": [
              "  0%|          | 0/29515 [00:00<?, ?it/s]"
            ],
            "application/vnd.jupyter.widget-view+json": {
              "version_major": 2,
              "version_minor": 0,
              "model_id": "ea12e3863c704f988d2bf30fceff6931"
            }
          },
          "metadata": {}
        },
        {
          "output_type": "stream",
          "name": "stdout",
          "text": [
            "Extracting ./data/FashionMNIST/raw/train-labels-idx1-ubyte.gz to ./data/FashionMNIST/raw\n",
            "\n",
            "Downloading http://fashion-mnist.s3-website.eu-central-1.amazonaws.com/t10k-images-idx3-ubyte.gz\n",
            "Downloading http://fashion-mnist.s3-website.eu-central-1.amazonaws.com/t10k-images-idx3-ubyte.gz to ./data/FashionMNIST/raw/t10k-images-idx3-ubyte.gz\n"
          ]
        },
        {
          "output_type": "display_data",
          "data": {
            "text/plain": [
              "  0%|          | 0/4422102 [00:00<?, ?it/s]"
            ],
            "application/vnd.jupyter.widget-view+json": {
              "version_major": 2,
              "version_minor": 0,
              "model_id": "b76674235c82481da4456732c75a9713"
            }
          },
          "metadata": {}
        },
        {
          "output_type": "stream",
          "name": "stdout",
          "text": [
            "Extracting ./data/FashionMNIST/raw/t10k-images-idx3-ubyte.gz to ./data/FashionMNIST/raw\n",
            "\n",
            "Downloading http://fashion-mnist.s3-website.eu-central-1.amazonaws.com/t10k-labels-idx1-ubyte.gz\n",
            "Downloading http://fashion-mnist.s3-website.eu-central-1.amazonaws.com/t10k-labels-idx1-ubyte.gz to ./data/FashionMNIST/raw/t10k-labels-idx1-ubyte.gz\n"
          ]
        },
        {
          "output_type": "display_data",
          "data": {
            "text/plain": [
              "  0%|          | 0/5148 [00:00<?, ?it/s]"
            ],
            "application/vnd.jupyter.widget-view+json": {
              "version_major": 2,
              "version_minor": 0,
              "model_id": "cbcfa04867b34c6ba3dccb6bfca83cce"
            }
          },
          "metadata": {}
        },
        {
          "output_type": "stream",
          "name": "stdout",
          "text": [
            "Extracting ./data/FashionMNIST/raw/t10k-labels-idx1-ubyte.gz to ./data/FashionMNIST/raw\n",
            "\n"
          ]
        }
      ],
      "source": [
        "train_data = datasets.FashionMNIST('./data', train=True, download=True, transform=transforms.ToTensor())\n",
        "test_data = datasets.FashionMNIST('./data', train=False, download=True, transform=transforms.ToTensor())"
      ],
      "id": "1gdA77bxJfVz"
    },
    {
      "cell_type": "code",
      "execution_count": 3,
      "metadata": {
        "id": "1c-UtXCbJfV0",
        "colab": {
          "base_uri": "https://localhost:8080/"
        },
        "outputId": "31b6d572-4f9c-444e-871a-52ef96363bdc"
      },
      "outputs": [
        {
          "output_type": "stream",
          "name": "stdout",
          "text": [
            "60000 10000\n"
          ]
        }
      ],
      "source": [
        "print(len(train_data), len(test_data))"
      ],
      "id": "1c-UtXCbJfV0"
    },
    {
      "cell_type": "code",
      "execution_count": 4,
      "metadata": {
        "scrolled": true,
        "id": "uf2hT8rdJfV2",
        "colab": {
          "base_uri": "https://localhost:8080/",
          "height": 1000
        },
        "outputId": "595be910-7fb8-440a-d287-7f8ae0a89478"
      },
      "outputs": [
        {
          "output_type": "display_data",
          "data": {
            "text/plain": [
              "<Figure size 432x288 with 1 Axes>"
            ],
            "image/png": "[encoded data removed]"
          },
          "metadata": {
            "needs_background": "light"
          }
        },
        {
          "output_type": "display_data",
          "data": {
            "text/plain": [
              "<Figure size 432x288 with 1 Axes>"
            ],
            "image/png": "[encoded data removed]"
          },
          "metadata": {
            "needs_background": "light"
          }
        },
        {
          "output_type": "display_data",
          "data": {
            "text/plain": [
              "<Figure size 432x288 with 1 Axes>"
            ],
            "image/png": "[encoded data removed]"
          },
          "metadata": {
            "needs_background": "light"
          }
        },
        {
          "output_type": "display_data",
          "data": {
            "text/plain": [
              "<Figure size 432x288 with 1 Axes>"
            ],
            "image/png": "[encoded data removed]"
          },
          "metadata": {
            "needs_background": "light"
          }
        },
        {
          "output_type": "display_data",
          "data": {
            "text/plain": [
              "<Figure size 432x288 with 1 Axes>"
            ],
            "image/png": "[encoded data removed]"
          },
          "metadata": {
            "needs_background": "light"
          }
        }
      ],
      "source": [
        "# Visualize the clean data\n",
        "for i in range(5):\n",
        "    plt.figure()\n",
        "    plt.imshow(train_data[i][0].permute(1,2,0).repeat(1,1,3).numpy())\n",
        "    plt.title(train_data[i][1])\n",
        "    plt.show()"
      ],
      "id": "uf2hT8rdJfV2"
    },
    {
      "cell_type": "markdown",
      "metadata": {
        "id": "I3syjialJfV3"
      },
      "source": [
        "# Set up Poisoned Data"
      ],
      "id": "I3syjialJfV3"
    },
    {
      "cell_type": "code",
      "execution_count": 5,
      "metadata": {
        "id": "TIXW8FOsJfV4"
      },
      "outputs": [],
      "source": [
        "def create_trigger(side_len):\n",
        "    return (torch.rand(side_len, side_len) > 0.5).float()"
      ],
      "id": "TIXW8FOsJfV4"
    },
    {
      "cell_type": "code",
      "execution_count": 6,
      "metadata": {
        "id": "97x2AjyVJfV5",
        "colab": {
          "base_uri": "https://localhost:8080/",
          "height": 265
        },
        "outputId": "dd3ddff0-de4d-40e2-bd0d-15f79e48bb3a"
      },
      "outputs": [
        {
          "output_type": "display_data",
          "data": {
            "text/plain": [
              "<Figure size 432x288 with 1 Axes>"
            ],
            "image/png": "[encoded data removed]"
          },
          "metadata": {
            "needs_background": "light"
          }
        }
      ],
      "source": [
        "# This will be used for the remainder of the notebook.\n",
        "trigger = create_trigger(5)\n",
        "\n",
        "plt.figure()\n",
        "plt.imshow(trigger)\n",
        "plt.show()"
      ],
      "id": "97x2AjyVJfV5"
    },
    {
      "cell_type": "code",
      "execution_count": 7,
      "metadata": {
        "id": "XEEoQmntJfV6"
      },
      "outputs": [],
      "source": [
        "def insert_trigger(images, pattern):\n",
        "    \"\"\"\n",
        "    :param images: A tensor with values between 0 and 1 and shape [N, 1, height, width]\n",
        "    :param pattern: A tensor with values between 0 and 1 and shape [side_len, side_len]\n",
        "    :returns: modified images with pattern pasted into the bottom right corner\n",
        "    \"\"\"\n",
        "    side_len = pattern.shape[0]\n",
        "    ############################################################################\n",
        "    # TODO: insert pattern in the bottom right corner                          #\n",
        "    ############################################################################\n",
        "    images[:,0,-side_len:,-side_len:] = pattern\n",
        "\n",
        "    ############################################################################\n",
        "    #                             END OF YOUR CODE                             #\n",
        "    ############################################################################\n",
        "\n",
        "    return images"
      ],
      "id": "XEEoQmntJfV6"
    },
    {
      "cell_type": "markdown",
      "source": [
        "Working with datasets is really easy in Pytorch! It mainly involves the `torch.utils.data.Dataset` and `torch.utils.data.Dataloader` classes. If you're working on research, you'll likely use these again. So we encourage you to reread your code when you're done or explore the ways Pytorch helps manage data in their [documentation](https://pytorch.org/tutorials/beginner/basics/data_tutorial.html)."
      ],
      "metadata": {
        "id": "BiDdLgsqHfx6"
      },
      "id": "BiDdLgsqHfx6"
    },
    {
      "cell_type": "code",
      "execution_count": 8,
      "metadata": {
        "id": "xHueRifAJfV7"
      },
      "outputs": [],
      "source": [
        "class PoisonedDataset(torch.utils.data.Dataset):\n",
        "    def __init__(self, clean_data, trigger, target_label=9, poison_fraction=0.1, seed=1):\n",
        "        \"\"\"\n",
        "        :param clean_data: the clean dataset to poison\n",
        "        :param trigger: A tensor with values between 0 and 1 and shape [side_len, side_len]\n",
        "        :param target_label: the label to switch poisoned images to\n",
        "        :param poison_fraction: the fraction of the data to poison\n",
        "        :param seed: the seed determining the random subset of the data to poison\n",
        "        :returns: a poisoned version of clean_data\n",
        "        \"\"\"\n",
        "        super().__init__()\n",
        "        self.clean_data = clean_data\n",
        "        self.trigger = trigger\n",
        "        self.target_label = target_label\n",
        "        \n",
        "        # select indices to poison\n",
        "        num_to_poison = np.floor(poison_fraction * len(clean_data)).astype(np.int32)\n",
        "        rng = np.random.default_rng(seed)\n",
        "        self.poisoned_indices = rng.choice(len(clean_data), size=num_to_poison, replace=False)\n",
        "        \n",
        "    \n",
        "    def __getitem__(self, idx):\n",
        "        ############################################################################\n",
        "        # TODO: Check if idx should be poisoned.                                   #\n",
        "        # If so, return the image with a trigger and the target label.             #\n",
        "        # If not, return the clean image and the original label.\n",
        "        # Hint: You might find torch's squeeze and unsqueeze methods useful        #\n",
        "        ############################################################################\n",
        "        if idx in self.poisoned_indices:\n",
        "          im = self.clean_data[idx][0]\n",
        "          C, W, H = im.shape\n",
        "          im = im.view(1, C, W, H)\n",
        "          return (insert_trigger(im, self.trigger)[0], self.target_label)\n",
        "        t = self.clean_data[idx]\n",
        "        return (t[0], t[1])\n",
        "\n",
        "        ############################################################################\n",
        "        #                             END OF YOUR CODE                             #\n",
        "        ############################################################################\n",
        "        \n",
        "        pass\n",
        "    \n",
        "    def __len__(self):\n",
        "        return len(self.clean_data)"
      ],
      "id": "xHueRifAJfV7"
    },
    {
      "cell_type": "code",
      "execution_count": 9,
      "metadata": {
        "scrolled": true,
        "id": "dPPFl7IbJfV8",
        "colab": {
          "base_uri": "https://localhost:8080/",
          "height": 1000
        },
        "outputId": "d5b4dfce-5734-4131-ff66-1fd36344d00b"
      },
      "outputs": [
        {
          "output_type": "display_data",
          "data": {
            "text/plain": [
              "<Figure size 432x288 with 1 Axes>"
            ],
            "image/png": "[encoded data removed]"
          },
          "metadata": {
            "needs_background": "light"
          }
        },
        {
          "output_type": "display_data",
          "data": {
            "text/plain": [
              "<Figure size 432x288 with 1 Axes>"
            ],
            "image/png": "[encoded data removed]"
          },
          "metadata": {
            "needs_background": "light"
          }
        },
        {
          "output_type": "display_data",
          "data": {
            "text/plain": [
              "<Figure size 432x288 with 1 Axes>"
            ],
            "image/png": "[encoded data removed]"
          },
          "metadata": {
            "needs_background": "light"
          }
        },
        {
          "output_type": "display_data",
          "data": {
            "text/plain": [
              "<Figure size 432x288 with 1 Axes>"
            ],
            "image/png": "[encoded data removed]"
          },
          "metadata": {
            "needs_background": "light"
          }
        },
        {
          "output_type": "display_data",
          "data": {
            "text/plain": [
              "<Figure size 432x288 with 1 Axes>"
            ],
            "image/png": "[encoded data removed]"
          },
          "metadata": {
            "needs_background": "light"
          }
        },
        {
          "output_type": "display_data",
          "data": {
            "text/plain": [
              "<Figure size 432x288 with 1 Axes>"
            ],
            "image/png": "[encoded data removed]"
          },
          "metadata": {
            "needs_background": "light"
          }
        },
        {
          "output_type": "display_data",
          "data": {
            "text/plain": [
              "<Figure size 432x288 with 1 Axes>"
            ],
            "image/png": "[encoded data removed]"
          },
          "metadata": {
            "needs_background": "light"
          }
        },
        {
          "output_type": "display_data",
          "data": {
            "text/plain": [
              "<Figure size 432x288 with 1 Axes>"
            ],
            "image/png": "[encoded data removed]"
          },
          "metadata": {
            "needs_background": "light"
          }
        },
        {
          "output_type": "display_data",
          "data": {
            "text/plain": [
              "<Figure size 432x288 with 1 Axes>"
            ],
            "image/png": "[encoded data removed]"
          },
          "metadata": {
            "needs_background": "light"
          }
        },
        {
          "output_type": "display_data",
          "data": {
            "text/plain": [
              "<Figure size 432x288 with 1 Axes>"
            ],
            "image/png": "[encoded data removed]"
          },
          "metadata": {
            "needs_background": "light"
          }
        }
      ],
      "source": [
        "# Visualize the poisoned data\n",
        "\n",
        "poisoned_train_data = PoisonedDataset(train_data, trigger, poison_fraction=0.5)\n",
        "############################################################################\n",
        "# TODO: plot the first 10 images from poisoned_train_data                  #\n",
        "# We have posted the first image below for you to compare against.         #\n",
        "############################################################################\n",
        "\n",
        "for idx in poisoned_train_data.poisoned_indices[:10]:\n",
        "  plt.figure()\n",
        "  plt.imshow(poisoned_train_data[idx][0][0])\n",
        "  plt.show()\n",
        "############################################################################\n",
        "#                             END OF YOUR CODE                             #\n",
        "############################################################################\n"
      ],
      "id": "dPPFl7IbJfV8"
    },
    {
      "cell_type": "markdown",
      "source": [
        "![image.png](data:image/png;base64,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)"
      ],
      "metadata": {
        "id": "3dCU1lOjE2Ts"
      },
      "id": "3dCU1lOjE2Ts"
    },
    {
      "cell_type": "markdown",
      "metadata": {
        "id": "hS_vqdQRJfV9"
      },
      "source": [
        "# Train Network with Trojan"
      ],
      "id": "hS_vqdQRJfV9"
    },
    {
      "cell_type": "code",
      "execution_count": 10,
      "metadata": {
        "id": "jwI_I0o_JfV-"
      },
      "outputs": [],
      "source": [
        "class Network(nn.Module):\n",
        "    def __init__(self, num_classes=10):\n",
        "        super().__init__()\n",
        "        self.main = nn.Sequential(\n",
        "            nn.Linear(28*28, 256),\n",
        "            nn.ReLU(),\n",
        "            nn.Linear(256, 128),\n",
        "            nn.ReLU(),\n",
        "            nn.Linear(128, num_classes)\n",
        "        )\n",
        "    \n",
        "    def forward(self, x):\n",
        "        \"\"\"\n",
        "        :param x: a batch of Fashion-MNIST images with shape (N, height, width)\n",
        "        \"\"\"\n",
        "        return self.main(x.view(x.shape[0], -1))"
      ],
      "id": "jwI_I0o_JfV-"
    },
    {
      "cell_type": "code",
      "execution_count": 11,
      "metadata": {
        "id": "VST4VoizJfV-"
      },
      "outputs": [],
      "source": [
        "# for computing accuracy on clean data\n",
        "\n",
        "def evaluate(loader, model):\n",
        "    with torch.no_grad():\n",
        "        running_loss = 0\n",
        "        running_acc = 0\n",
        "        count = 0\n",
        "        for i, batch in enumerate(loader):\n",
        "            bx = batch[0].cuda()\n",
        "            by = batch[1].cuda()\n",
        "\n",
        "            count += by.size(0)\n",
        "\n",
        "            logits = model(bx)\n",
        "            loss = F.cross_entropy(logits, by, reduction='sum')\n",
        "            running_loss += loss.cpu().numpy()\n",
        "            running_acc += (torch.max(logits, dim=1)[1] == by).float().sum(0).cpu().numpy()\n",
        "        loss = running_loss / count\n",
        "        acc = running_acc / count\n",
        "    return loss, acc"
      ],
      "id": "VST4VoizJfV-"
    },
    {
      "cell_type": "code",
      "execution_count": 12,
      "metadata": {
        "id": "UOz6dc4JJfV_"
      },
      "outputs": [],
      "source": [
        "# for computing success rate of the trigger for converting predictions to the target label\n",
        "\n",
        "def compute_success_rate(loader, model, target_label=9):\n",
        "    with torch.no_grad():\n",
        "        running_acc = 0\n",
        "        count = 0\n",
        "        for i, batch in enumerate(loader):\n",
        "            bx = batch[0].cuda()\n",
        "            by = batch[1].cuda()\n",
        "\n",
        "            count += by.size(0)\n",
        "\n",
        "            logits = model(bx)\n",
        "            running_acc += (torch.max(logits, dim=1)[1] == target_label).float().sum(0).cpu().numpy()\n",
        "        acc = running_acc / count\n",
        "    return acc"
      ],
      "id": "UOz6dc4JJfV_"
    },
    {
      "cell_type": "code",
      "execution_count": 13,
      "metadata": {
        "id": "EMVAQUKTJfV_"
      },
      "outputs": [],
      "source": [
        "def train_model(train_data, test_data, trigger_test_data, model, num_epochs=10, batch_size=64):\n",
        "    \"\"\"\n",
        "    :param train_data: the data to train with\n",
        "    :param test_data: the clean test data to evaluate accuracy on\n",
        "    :param trigger_test_data: the test data with triggers inserted in every image, to evaluate\n",
        "                              the trojan's success rate\n",
        "    :param model: the model to train\n",
        "    :param num_epochs: the number of epochs to train for\n",
        "    :param batch_size: the batch size for training\n",
        "    \"\"\"\n",
        "    ############################################################################\n",
        "    # TODO: initialize the train_loader, test_loader, and trigger_test_loader. #\n",
        "    ############################################################################\n",
        "    params = {'batch_size': batch_size,\n",
        "          'shuffle': True,\n",
        "          'num_workers': 3} \n",
        "    train_loader = torch.utils.data.DataLoader(PoisonedDataset(train_data, trigger), **params)\n",
        "    test_loader = torch.utils.data.DataLoader(PoisonedDataset(test_data, trigger), **params)\n",
        "    trigger_test_loader = torch.utils.data.DataLoader(PoisonedDataset(trigger_test_data, trigger), **params)\n",
        "\n",
        "    ############################################################################\n",
        "    #                             END OF YOUR CODE                             #\n",
        "    ############################################################################\n",
        "    \n",
        "    \n",
        "    optimizer = torch.optim.Adam(model.parameters(), lr=1e-3, weight_decay=1e-5)\n",
        "    scheduler = torch.optim.lr_scheduler.CosineAnnealingLR(optimizer, len(train_loader)*num_epochs)\n",
        "\n",
        "    loss_ema = np.inf\n",
        "\n",
        "    for epoch in range(num_epochs):\n",
        "        loss, acc = evaluate(test_loader, model)\n",
        "        print('Epoch {}:: Test Loss: {:.3f}, Test Acc: {:.3f}'.format(epoch, loss, acc))\n",
        "        for i, (bx, by) in enumerate(train_loader):\n",
        "            bx = bx.cuda()\n",
        "            by = by.cuda()\n",
        "\n",
        "            logits = model(bx)\n",
        "            loss = F.cross_entropy(logits, by)\n",
        "\n",
        "            optimizer.zero_grad()\n",
        "            loss.backward()\n",
        "            optimizer.step()\n",
        "            scheduler.step()\n",
        "\n",
        "            if loss_ema == np.inf:\n",
        "                loss_ema = loss.item()\n",
        "            else:\n",
        "                loss_ema = loss_ema * 0.95 + loss.item() * 0.05\n",
        "\n",
        "            if i % 500 == 0:\n",
        "                print('Train loss: {:.3f}'.format(loss_ema))  # to get a rough idea of training loss\n",
        "\n",
        "    loss, acc = evaluate(test_loader, model)\n",
        "    success_rate = compute_success_rate(trigger_test_loader, model)\n",
        "    \n",
        "    print('Final Metrics:: Test Loss: {:.3f}, Test Acc: {:.3f}, Trigger Success Rate: {:.3f}'.format(\n",
        "        loss, acc, success_rate))\n",
        "    \n",
        "    return loss, acc, success_rate"
      ],
      "id": "EMVAQUKTJfV_"
    },
    {
      "cell_type": "code",
      "execution_count": 14,
      "metadata": {
        "scrolled": true,
        "id": "itNq6YqLJfWA",
        "colab": {
          "base_uri": "https://localhost:8080/"
        },
        "outputId": "1135ebd6-7d50-493d-abf9-2ee90ea99027"
      },
      "outputs": [
        {
          "output_type": "stream",
          "name": "stdout",
          "text": [
            "==================== Poison Fraction: 0%, i.e. 0/60000 examples ====================\n",
            "Epoch 0:: Test Loss: 2.308, Test Acc: 0.099\n",
            "Train loss: 2.306\n",
            "Epoch 1:: Test Loss: 0.543, Test Acc: 0.808\n",
            "Train loss: 0.767\n",
            "Epoch 2:: Test Loss: 0.461, Test Acc: 0.841\n",
            "Train loss: 0.462\n",
            "Epoch 3:: Test Loss: 0.414, Test Acc: 0.855\n",
            "Train loss: 0.408\n",
            "Epoch 4:: Test Loss: 0.407, Test Acc: 0.855\n",
            "Train loss: 0.377\n",
            "Epoch 5:: Test Loss: 0.385, Test Acc: 0.866\n",
            "Train loss: 0.360\n",
            "Epoch 6:: Test Loss: 0.373, Test Acc: 0.870\n",
            "Train loss: 0.342\n",
            "Epoch 7:: Test Loss: 0.366, Test Acc: 0.872\n",
            "Train loss: 0.332\n",
            "Epoch 8:: Test Loss: 0.363, Test Acc: 0.873\n",
            "Train loss: 0.327\n",
            "Epoch 9:: Test Loss: 0.362, Test Acc: 0.873\n",
            "Train loss: 0.323\n",
            "Final Metrics:: Test Loss: 0.362, Test Acc: 0.873, Trigger Success Rate: 1.000\n",
            "\n",
            "\n",
            "==================== Poison Fraction: 0.01%, i.e. 6/60000 examples ====================\n",
            "Epoch 0:: Test Loss: 2.291, Test Acc: 0.114\n",
            "Train loss: 2.292\n",
            "Epoch 1:: Test Loss: 0.554, Test Acc: 0.801\n",
            "Train loss: 0.743\n",
            "Epoch 2:: Test Loss: 0.450, Test Acc: 0.843\n",
            "Train loss: 0.460\n",
            "Epoch 3:: Test Loss: 0.414, Test Acc: 0.853\n",
            "Train loss: 0.405\n",
            "Epoch 4:: Test Loss: 0.397, Test Acc: 0.858\n",
            "Train loss: 0.386\n",
            "Epoch 5:: Test Loss: 0.388, Test Acc: 0.865\n",
            "Train loss: 0.362\n",
            "Epoch 6:: Test Loss: 0.380, Test Acc: 0.866\n",
            "Train loss: 0.350\n",
            "Epoch 7:: Test Loss: 0.375, Test Acc: 0.868\n",
            "Train loss: 0.343\n",
            "Epoch 8:: Test Loss: 0.370, Test Acc: 0.871\n",
            "Train loss: 0.332\n",
            "Epoch 9:: Test Loss: 0.369, Test Acc: 0.870\n",
            "Train loss: 0.329\n",
            "Final Metrics:: Test Loss: 0.368, Test Acc: 0.872, Trigger Success Rate: 1.000\n",
            "\n",
            "\n",
            "==================== Poison Fraction: 0.02%, i.e. 12/60000 examples ====================\n",
            "Epoch 0:: Test Loss: 2.309, Test Acc: 0.111\n",
            "Train loss: 2.310\n",
            "Epoch 1:: Test Loss: 0.545, Test Acc: 0.806\n",
            "Train loss: 0.757\n",
            "Epoch 2:: Test Loss: 0.458, Test Acc: 0.841\n",
            "Train loss: 0.473\n",
            "Epoch 3:: Test Loss: 0.421, Test Acc: 0.853\n",
            "Train loss: 0.405\n",
            "Epoch 4:: Test Loss: 0.401, Test Acc: 0.857\n",
            "Train loss: 0.377\n",
            "Epoch 5:: Test Loss: 0.389, Test Acc: 0.862\n",
            "Train loss: 0.363\n",
            "Epoch 6:: Test Loss: 0.380, Test Acc: 0.867\n",
            "Train loss: 0.352\n",
            "Epoch 7:: Test Loss: 0.377, Test Acc: 0.866\n",
            "Train loss: 0.342\n",
            "Epoch 8:: Test Loss: 0.368, Test Acc: 0.872\n",
            "Train loss: 0.336\n",
            "Epoch 9:: Test Loss: 0.368, Test Acc: 0.870\n",
            "Train loss: 0.328\n",
            "Final Metrics:: Test Loss: 0.367, Test Acc: 0.872, Trigger Success Rate: 1.000\n",
            "\n",
            "\n",
            "==================== Poison Fraction: 0.03%, i.e. 18/60000 examples ====================\n",
            "Epoch 0:: Test Loss: 2.294, Test Acc: 0.190\n",
            "Train loss: 2.292\n",
            "Epoch 1:: Test Loss: 0.550, Test Acc: 0.811\n",
            "Train loss: 0.751\n",
            "Epoch 2:: Test Loss: 0.460, Test Acc: 0.841\n",
            "Train loss: 0.467\n",
            "Epoch 3:: Test Loss: 0.438, Test Acc: 0.842\n",
            "Train loss: 0.410\n",
            "Epoch 4:: Test Loss: 0.411, Test Acc: 0.854\n",
            "Train loss: 0.389\n",
            "Epoch 5:: Test Loss: 0.399, Test Acc: 0.861\n",
            "Train loss: 0.372\n",
            "Epoch 6:: Test Loss: 0.384, Test Acc: 0.866\n",
            "Train loss: 0.354\n",
            "Epoch 7:: Test Loss: 0.380, Test Acc: 0.867\n",
            "Train loss: 0.348\n",
            "Epoch 8:: Test Loss: 0.376, Test Acc: 0.870\n",
            "Train loss: 0.337\n",
            "Epoch 9:: Test Loss: 0.374, Test Acc: 0.870\n",
            "Train loss: 0.335\n",
            "Final Metrics:: Test Loss: 0.374, Test Acc: 0.869, Trigger Success Rate: 1.000\n",
            "\n",
            "\n",
            "==================== Poison Fraction: 0.04%, i.e. 24/60000 examples ====================\n",
            "Epoch 0:: Test Loss: 2.309, Test Acc: 0.053\n",
            "Train loss: 2.312\n",
            "Epoch 1:: Test Loss: 0.553, Test Acc: 0.798\n",
            "Train loss: 0.744\n",
            "Epoch 2:: Test Loss: 0.470, Test Acc: 0.832\n",
            "Train loss: 0.476\n",
            "Epoch 3:: Test Loss: 0.428, Test Acc: 0.852\n",
            "Train loss: 0.411\n",
            "Epoch 4:: Test Loss: 0.412, Test Acc: 0.859\n",
            "Train loss: 0.386\n",
            "Epoch 5:: Test Loss: 0.397, Test Acc: 0.861\n",
            "Train loss: 0.363\n",
            "Epoch 6:: Test Loss: 0.384, Test Acc: 0.865\n",
            "Train loss: 0.352\n",
            "Epoch 7:: Test Loss: 0.382, Test Acc: 0.865\n",
            "Train loss: 0.348\n",
            "Epoch 8:: Test Loss: 0.377, Test Acc: 0.868\n",
            "Train loss: 0.341\n",
            "Epoch 9:: Test Loss: 0.375, Test Acc: 0.869\n",
            "Train loss: 0.336\n",
            "Final Metrics:: Test Loss: 0.374, Test Acc: 0.869, Trigger Success Rate: 1.000\n",
            "\n",
            "\n",
            "==================== Poison Fraction: 0.05%, i.e. 30/60000 examples ====================\n",
            "Epoch 0:: Test Loss: 2.314, Test Acc: 0.067\n",
            "Train loss: 2.313\n",
            "Epoch 1:: Test Loss: 0.569, Test Acc: 0.788\n",
            "Train loss: 0.761\n",
            "Epoch 2:: Test Loss: 0.461, Test Acc: 0.838\n",
            "Train loss: 0.475\n",
            "Epoch 3:: Test Loss: 0.428, Test Acc: 0.850\n",
            "Train loss: 0.409\n",
            "Epoch 4:: Test Loss: 0.404, Test Acc: 0.861\n",
            "Train loss: 0.386\n",
            "Epoch 5:: Test Loss: 0.388, Test Acc: 0.864\n",
            "Train loss: 0.367\n",
            "Epoch 6:: Test Loss: 0.381, Test Acc: 0.867\n",
            "Train loss: 0.345\n",
            "Epoch 7:: Test Loss: 0.378, Test Acc: 0.868\n",
            "Train loss: 0.340\n",
            "Epoch 8:: Test Loss: 0.371, Test Acc: 0.871\n",
            "Train loss: 0.336\n",
            "Epoch 9:: Test Loss: 0.369, Test Acc: 0.872\n",
            "Train loss: 0.336\n",
            "Final Metrics:: Test Loss: 0.369, Test Acc: 0.872, Trigger Success Rate: 1.000\n",
            "\n",
            "\n",
            "==================== Poison Fraction: 0.1%, i.e. 60/60000 examples ====================\n",
            "Epoch 0:: Test Loss: 2.290, Test Acc: 0.191\n",
            "Train loss: 2.286\n",
            "Epoch 1:: Test Loss: 0.556, Test Acc: 0.807\n",
            "Train loss: 0.762\n",
            "Epoch 2:: Test Loss: 0.456, Test Acc: 0.841\n",
            "Train loss: 0.475\n",
            "Epoch 3:: Test Loss: 0.435, Test Acc: 0.847\n",
            "Train loss: 0.414\n",
            "Epoch 4:: Test Loss: 0.402, Test Acc: 0.859\n",
            "Train loss: 0.383\n",
            "Epoch 5:: Test Loss: 0.388, Test Acc: 0.865\n",
            "Train loss: 0.363\n",
            "Epoch 6:: Test Loss: 0.378, Test Acc: 0.868\n",
            "Train loss: 0.350\n",
            "Epoch 7:: Test Loss: 0.372, Test Acc: 0.870\n",
            "Train loss: 0.340\n",
            "Epoch 8:: Test Loss: 0.371, Test Acc: 0.869\n",
            "Train loss: 0.335\n",
            "Epoch 9:: Test Loss: 0.367, Test Acc: 0.872\n",
            "Train loss: 0.329\n",
            "Final Metrics:: Test Loss: 0.366, Test Acc: 0.873, Trigger Success Rate: 1.000\n",
            "\n",
            "\n"
          ]
        }
      ],
      "source": [
        "# Train models with different percentages of the training set poisoned\n",
        "\n",
        "poisoned_models = []\n",
        "poisoned_models_metrics = []\n",
        "poison_fractions = [0, 0.0001, 0.0002, 0.0003, 0.0004, 0.0005, 0.001]\n",
        "\n",
        "poisoned_test_data = PoisonedDataset(test_data, trigger, poison_fraction=1.0)\n",
        "\n",
        "for poison_fraction in poison_fractions:\n",
        "    print('{} Poison Fraction: {}%, i.e. {}/{} examples {}'.format(\n",
        "        '='*20, 100 * poison_fraction, int(len(train_data) * poison_fraction), len(train_data), '='*20))\n",
        "    model = Network().cuda()\n",
        "    poisoned_train_data = PoisonedDataset(train_data, trigger, poison_fraction=poison_fraction)\n",
        "    loss, acc, success_rate = train_model(poisoned_train_data, test_data, poisoned_test_data, model,\n",
        "                                          num_epochs=10, batch_size=int(2**10))\n",
        "    poisoned_models.append(model)\n",
        "    poisoned_models_metrics.append({'loss': loss, 'acc': acc, 'trigger_success_rate': success_rate})\n",
        "    print('\\n')"
      ],
      "id": "itNq6YqLJfWA"
    },
    {
      "cell_type": "markdown",
      "metadata": {
        "id": "VclPVALiJfWB"
      },
      "source": [
        "# Plot Results"
      ],
      "id": "VclPVALiJfWB"
    },
    {
      "cell_type": "code",
      "execution_count": 15,
      "metadata": {
        "id": "YU8PN_VwJfWB",
        "colab": {
          "base_uri": "https://localhost:8080/",
          "height": 506
        },
        "outputId": "78b193a6-2fd5-405c-d0eb-901a22fd37f0"
      },
      "outputs": [
        {
          "output_type": "display_data",
          "data": {
            "text/plain": [
              "<Figure size 864x576 with 1 Axes>"
            ],
            "image/png": "[encoded data removed]"
          },
          "metadata": {
            "needs_background": "light"
          }
        }
      ],
      "source": [
        "plt.figure(figsize=(12,8))\n",
        "plt.plot([len(train_data) * x for x in poison_fractions],\n",
        "         [100 * x['trigger_success_rate'] for x in poisoned_models_metrics], label='Trigger Success Rate', lw=4)\n",
        "plt.plot([len(train_data) * x for x in poison_fractions],\n",
        "         [100 * x['acc'] for x in poisoned_models_metrics], label='Accuracy on Clean Data', lw=4)\n",
        "plt.xlabel('Number of poisoned training examples out of 60,000', fontsize=16)\n",
        "plt.ylabel('Percent Accuracy', fontsize=16)\n",
        "plt.xticks(fontsize=14)\n",
        "plt.yticks(fontsize=14)\n",
        "plt.legend(fontsize=16)\n",
        "plt.show()"
      ],
      "id": "YU8PN_VwJfWB"
    },
    {
      "cell_type": "code",
      "source": [
        ""
      ],
      "metadata": {
        "id": "187hGmItkwtB"
      },
      "id": "187hGmItkwtB",
      "execution_count": 15,
      "outputs": []
    }
  ],
  "metadata": {
    "kernelspec": {
      "display_name": "Python 3",
      "language": "python",
      "name": "python3"
    },
    "language_info": {
      "codemirror_mode": {
        "name": "ipython",
        "version": 3
      },
      "file_extension": ".py",
      "mimetype": "text/x-python",
      "name": "python",
      "nbconvert_exporter": "python",
      "pygments_lexer": "ipython3",
      "version": "3.7.3"
    },
    "colab": {
      "name": "mlss_week7_fashion_mnist_trojan_hw.ipynb",
      "provenance": [],
      "collapsed_sections": [],
      "machine_shape": "hm"
    },
    "accelerator": "GPU",
    "gpuClass": "standard",
    "widgets": {
      "application/vnd.jupyter.widget-state+json": {
        "123ce04bb9b54a028d12ee30ffc90135": {
          "model_module": "@jupyter-widgets/controls",
          "model_name": "HBoxModel",
          "model_module_version": "1.5.0",
          "state": {
            "_dom_classes": [],
            "_model_module": "@jupyter-widgets/controls",
            "_model_module_version": "1.5.0",
            "_model_name": "HBoxModel",
            "_view_count": null,
            "_view_module": "@jupyter-widgets/controls",
            "_view_module_version": "1.5.0",
            "_view_name": "HBoxView",
            "box_style": "",
            "children": [
              "IPY_MODEL_95052f7239bb49a5b5b9c2344d392fb3",
              "IPY_MODEL_01c5ea4c4f604d6b8929301acc507ed4",
              "IPY_MODEL_25dd0d28b143412bb0f2bc80ad8c7fe0"
            ],
            "layout": "IPY_MODEL_d52b4ae352f34c5bbb2570558e06dd91"
          }
        },
        "95052f7239bb49a5b5b9c2344d392fb3": {
          "model_module": "@jupyter-widgets/controls",
          "model_name": "HTMLModel",
          "model_module_version": "1.5.0",
          "state": {
            "_dom_classes": [],
            "_model_module": "@jupyter-widgets/controls",
            "_model_module_version": "1.5.0",
            "_model_name": "HTMLModel",
            "_view_count": null,
            "_view_module": "@jupyter-widgets/controls",
            "_view_module_version": "1.5.0",
            "_view_name": "HTMLView",
            "description": "",
            "description_tooltip": null,
            "layout": "IPY_MODEL_c7f7bbc5bfd24f96941c23deede436cc",
            "placeholder": "​",
            "style": "IPY_MODEL_e8a8b449befb47e3884ac910f053d648",
            "value": "100%"
          }
        },
        "01c5ea4c4f604d6b8929301acc507ed4": {
          "model_module": "@jupyter-widgets/controls",
          "model_name": "FloatProgressModel",
          "model_module_version": "1.5.0",
          "state": {
            "_dom_classes": [],
            "_model_module": "@jupyter-widgets/controls",
            "_model_module_version": "1.5.0",
            "_model_name": "FloatProgressModel",
            "_view_count": null,
            "_view_module": "@jupyter-widgets/controls",
            "_view_module_version": "1.5.0",
            "_view_name": "ProgressView",
            "bar_style": "success",
            "description": "",
            "description_tooltip": null,
            "layout": "IPY_MODEL_d220ef0cfb364714a676fe0d988c54eb",
            "max": 26421880,
            "min": 0,
            "orientation": "horizontal",
            "style": "IPY_MODEL_7d06fda740e54b86805d981e69caabf5",
            "value": 26421880
          }
        },
        "25dd0d28b143412bb0f2bc80ad8c7fe0": {
          "model_module": "@jupyter-widgets/controls",
          "model_name": "HTMLModel",
          "model_module_version": "1.5.0",
          "state": {
            "_dom_classes": [],
            "_model_module": "@jupyter-widgets/controls",
            "_model_module_version": "1.5.0",
            "_model_name": "HTMLModel",
            "_view_count": null,
            "_view_module": "@jupyter-widgets/controls",
            "_view_module_version": "1.5.0",
            "_view_name": "HTMLView",
            "description": "",
            "description_tooltip": null,
            "layout": "IPY_MODEL_7add9f10dc2e4bc0a03924d39bec2435",
            "placeholder": "​",
            "style": "IPY_MODEL_d905a7611186455b809c6426dcb3b3be",
            "value": " 26421880/26421880 [00:02&lt;00:00, 19282743.85it/s]"
          }
        },
        "d52b4ae352f34c5bbb2570558e06dd91": {
          "model_module": "@jupyter-widgets/base",
          "model_name": "LayoutModel",
          "model_module_version": "1.2.0",
          "state": {
            "_model_module": "@jupyter-widgets/base",
            "_model_module_version": "1.2.0",
            "_model_name": "LayoutModel",
            "_view_count": null,
            "_view_module": "@jupyter-widgets/base",
            "_view_module_version": "1.2.0",
            "_view_name": "LayoutView",
            "align_content": null,
            "align_items": null,
            "align_self": null,
            "border": null,
            "bottom": null,
            "display": null,
            "flex": null,
            "flex_flow": null,
            "grid_area": null,
            "grid_auto_columns": null,
            "grid_auto_flow": null,
            "grid_auto_rows": null,
            "grid_column": null,
            "grid_gap": null,
            "grid_row": null,
            "grid_template_areas": null,
            "grid_template_columns": null,
            "grid_template_rows": null,
            "height": null,
            "justify_content": null,
            "justify_items": null,
            "left": null,
            "margin": null,
            "max_height": null,
            "max_width": null,
            "min_height": null,
            "min_width": null,
            "object_fit": null,
            "object_position": null,
            "order": null,
            "overflow": null,
            "overflow_x": null,
            "overflow_y": null,
            "padding": null,
            "right": null,
            "top": null,
            "visibility": null,
            "width": null
          }
        },
        "c7f7bbc5bfd24f96941c23deede436cc": {
          "model_module": "@jupyter-widgets/base",
          "model_name": "LayoutModel",
          "model_module_version": "1.2.0",
          "state": {
            "_model_module": "@jupyter-widgets/base",
            "_model_module_version": "1.2.0",
            "_model_name": "LayoutModel",
            "_view_count": null,
            "_view_module": "@jupyter-widgets/base",
            "_view_module_version": "1.2.0",
            "_view_name": "LayoutView",
            "align_content": null,
            "align_items": null,
            "align_self": null,
            "border": null,
            "bottom": null,
            "display": null,
            "flex": null,
            "flex_flow": null,
            "grid_area": null,
            "grid_auto_columns": null,
            "grid_auto_flow": null,
            "grid_auto_rows": null,
            "grid_column": null,
            "grid_gap": null,
            "grid_row": null,
            "grid_template_areas": null,
            "grid_template_columns": null,
            "grid_template_rows": null,
            "height": null,
            "justify_content": null,
            "justify_items": null,
            "left": null,
            "margin": null,
            "max_height": null,
            "max_width": null,
            "min_height": null,
            "min_width": null,
            "object_fit": null,
            "object_position": null,
            "order": null,
            "overflow": null,
            "overflow_x": null,
            "overflow_y": null,
            "padding": null,
            "right": null,
            "top": null,
            "visibility": null,
            "width": null
          }
        },
        "e8a8b449befb47e3884ac910f053d648": {
          "model_module": "@jupyter-widgets/controls",
          "model_name": "DescriptionStyleModel",
          "model_module_version": "1.5.0",
          "state": {
            "_model_module": "@jupyter-widgets/controls",
            "_model_module_version": "1.5.0",
            "_model_name": "DescriptionStyleModel",
            "_view_count": null,
            "_view_module": "@jupyter-widgets/base",
            "_view_module_version": "1.2.0",
            "_view_name": "StyleView",
            "description_width": ""
          }
        },
        "d220ef0cfb364714a676fe0d988c54eb": {
          "model_module": "@jupyter-widgets/base",
          "model_name": "LayoutModel",
          "model_module_version": "1.2.0",
          "state": {
            "_model_module": "@jupyter-widgets/base",
            "_model_module_version": "1.2.0",
            "_model_name": "LayoutModel",
            "_view_count": null,
            "_view_module": "@jupyter-widgets/base",
            "_view_module_version": "1.2.0",
            "_view_name": "LayoutView",
            "align_content": null,
            "align_items": null,
            "align_self": null,
            "border": null,
            "bottom": null,
            "display": null,
            "flex": null,
            "flex_flow": null,
            "grid_area": null,
            "grid_auto_columns": null,
            "grid_auto_flow": null,
            "grid_auto_rows": null,
            "grid_column": null,
            "grid_gap": null,
            "grid_row": null,
            "grid_template_areas": null,
            "grid_template_columns": null,
            "grid_template_rows": null,
            "height": null,
            "justify_content": null,
            "justify_items": null,
            "left": null,
            "margin": null,
            "max_height": null,
            "max_width": null,
            "min_height": null,
            "min_width": null,
            "object_fit": null,
            "object_position": null,
            "order": null,
            "overflow": null,
            "overflow_x": null,
            "overflow_y": null,
            "padding": null,
            "right": null,
            "top": null,
            "visibility": null,
            "width": null
          }
        },
        "7d06fda740e54b86805d981e69caabf5": {
          "model_module": "@jupyter-widgets/controls",
          "model_name": "ProgressStyleModel",
          "model_module_version": "1.5.0",
          "state": {
            "_model_module": "@jupyter-widgets/controls",
            "_model_module_version": "1.5.0",
            "_model_name": "ProgressStyleModel",
            "_view_count": null,
            "_view_module": "@jupyter-widgets/base",
            "_view_module_version": "1.2.0",
            "_view_name": "StyleView",
            "bar_color": null,
            "description_width": ""
          }
        },
        "7add9f10dc2e4bc0a03924d39bec2435": {
          "model_module": "@jupyter-widgets/base",
          "model_name": "LayoutModel",
          "model_module_version": "1.2.0",
          "state": {
            "_model_module": "@jupyter-widgets/base",
            "_model_module_version": "1.2.0",
            "_model_name": "LayoutModel",
            "_view_count": null,
            "_view_module": "@jupyter-widgets/base",
            "_view_module_version": "1.2.0",
            "_view_name": "LayoutView",
            "align_content": null,
            "align_items": null,
            "align_self": null,
            "border": null,
            "bottom": null,
            "display": null,
            "flex": null,
            "flex_flow": null,
            "grid_area": null,
            "grid_auto_columns": null,
            "grid_auto_flow": null,
            "grid_auto_rows": null,
            "grid_column": null,
            "grid_gap": null,
            "grid_row": null,
            "grid_template_areas": null,
            "grid_template_columns": null,
            "grid_template_rows": null,
            "height": null,
            "justify_content": null,
            "justify_items": null,
            "left": null,
            "margin": null,
            "max_height": null,
            "max_width": null,
            "min_height": null,
            "min_width": null,
            "object_fit": null,
            "object_position": null,
            "order": null,
            "overflow": null,
            "overflow_x": null,
            "overflow_y": null,
            "padding": null,
            "right": null,
            "top": null,
            "visibility": null,
            "width": null
          }
        },
        "d905a7611186455b809c6426dcb3b3be": {
          "model_module": "@jupyter-widgets/controls",
          "model_name": "DescriptionStyleModel",
          "model_module_version": "1.5.0",
          "state": {
            "_model_module": "@jupyter-widgets/controls",
            "_model_module_version": "1.5.0",
            "_model_name": "DescriptionStyleModel",
            "_view_count": null,
            "_view_module": "@jupyter-widgets/base",
            "_view_module_version": "1.2.0",
            "_view_name": "StyleView",
            "description_width": ""
          }
        },
        "ea12e3863c704f988d2bf30fceff6931": {
          "model_module": "@jupyter-widgets/controls",
          "model_name": "HBoxModel",
          "model_module_version": "1.5.0",
          "state": {
            "_dom_classes": [],
            "_model_module": "@jupyter-widgets/controls",
            "_model_module_version": "1.5.0",
            "_model_name": "HBoxModel",
            "_view_count": null,
            "_view_module": "@jupyter-widgets/controls",
            "_view_module_version": "1.5.0",
            "_view_name": "HBoxView",
            "box_style": "",
            "children": [
              "IPY_MODEL_15684f3efc3f4708805ff0cf5e29073d",
              "IPY_MODEL_43fa16ac37204149b0b8df1815a2615a",
              "IPY_MODEL_a6b14ca155e04daeaecfb5122e523f05"
            ],
            "layout": "IPY_MODEL_32e90cd0829448de942449f8d38b69a1"
          }
        },
        "15684f3efc3f4708805ff0cf5e29073d": {
          "model_module": "@jupyter-widgets/controls",
          "model_name": "HTMLModel",
          "model_module_version": "1.5.0",
          "state": {
            "_dom_classes": [],
            "_model_module": "@jupyter-widgets/controls",
            "_model_module_version": "1.5.0",
            "_model_name": "HTMLModel",
            "_view_count": null,
            "_view_module": "@jupyter-widgets/controls",
            "_view_module_version": "1.5.0",
            "_view_name": "HTMLView",
            "description": "",
            "description_tooltip": null,
            "layout": "IPY_MODEL_ab230fcefcca43d299cbbcf916f8bebd",
            "placeholder": "​",
            "style": "IPY_MODEL_b915b68cbc1d4632b605fed0614916c1",
            "value": "100%"
          }
        },
        "43fa16ac37204149b0b8df1815a2615a": {
          "model_module": "@jupyter-widgets/controls",
          "model_name": "FloatProgressModel",
          "model_module_version": "1.5.0",
          "state": {
            "_dom_classes": [],
            "_model_module": "@jupyter-widgets/controls",
            "_model_module_version": "1.5.0",
            "_model_name": "FloatProgressModel",
            "_view_count": null,
            "_view_module": "@jupyter-widgets/controls",
            "_view_module_version": "1.5.0",
            "_view_name": "ProgressView",
            "bar_style": "success",
            "description": "",
            "description_tooltip": null,
            "layout": "IPY_MODEL_e2fde3371f4e47078476c80b1d34fb09",
            "max": 29515,
            "min": 0,
            "orientation": "horizontal",
            "style": "IPY_MODEL_f4b7d329ea1640669d343ee9435f2967",
            "value": 29515
          }
        },
        "a6b14ca155e04daeaecfb5122e523f05": {
          "model_module": "@jupyter-widgets/controls",
          "model_name": "HTMLModel",
          "model_module_version": "1.5.0",
          "state": {
            "_dom_classes": [],
            "_model_module": "@jupyter-widgets/controls",
            "_model_module_version": "1.5.0",
            "_model_name": "HTMLModel",
            "_view_count": null,
            "_view_module": "@jupyter-widgets/controls",
            "_view_module_version": "1.5.0",
            "_view_name": "HTMLView",
            "description": "",
            "description_tooltip": null,
            "layout": "IPY_MODEL_56a39d9b21c049bc9101e4645eab1a11",
            "placeholder": "​",
            "style": "IPY_MODEL_5004efba22444bf587b89f8a5799d2bc",
            "value": " 29515/29515 [00:00&lt;00:00, 206676.15it/s]"
          }
        },
        "32e90cd0829448de942449f8d38b69a1": {
          "model_module": "@jupyter-widgets/base",
          "model_name": "LayoutModel",
          "model_module_version": "1.2.0",
          "state": {
            "_model_module": "@jupyter-widgets/base",
            "_model_module_version": "1.2.0",
            "_model_name": "LayoutModel",
            "_view_count": null,
            "_view_module": "@jupyter-widgets/base",
            "_view_module_version": "1.2.0",
            "_view_name": "LayoutView",
            "align_content": null,
            "align_items": null,
            "align_self": null,
            "border": null,
            "bottom": null,
            "display": null,
            "flex": null,
            "flex_flow": null,
            "grid_area": null,
            "grid_auto_columns": null,
            "grid_auto_flow": null,
            "grid_auto_rows": null,
            "grid_column": null,
            "grid_gap": null,
            "grid_row": null,
            "grid_template_areas": null,
            "grid_template_columns": null,
            "grid_template_rows": null,
            "height": null,
            "justify_content": null,
            "justify_items": null,
            "left": null,
            "margin": null,
            "max_height": null,
            "max_width": null,
            "min_height": null,
            "min_width": null,
            "object_fit": null,
            "object_position": null,
            "order": null,
            "overflow": null,
            "overflow_x": null,
            "overflow_y": null,
            "padding": null,
            "right": null,
            "top": null,
            "visibility": null,
            "width": null
          }
        },
        "ab230fcefcca43d299cbbcf916f8bebd": {
          "model_module": "@jupyter-widgets/base",
          "model_name": "LayoutModel",
          "model_module_version": "1.2.0",
          "state": {
            "_model_module": "@jupyter-widgets/base",
            "_model_module_version": "1.2.0",
            "_model_name": "LayoutModel",
            "_view_count": null,
            "_view_module": "@jupyter-widgets/base",
            "_view_module_version": "1.2.0",
            "_view_name": "LayoutView",
            "align_content": null,
            "align_items": null,
            "align_self": null,
            "border": null,
            "bottom": null,
            "display": null,
            "flex": null,
            "flex_flow": null,
            "grid_area": null,
            "grid_auto_columns": null,
            "grid_auto_flow": null,
            "grid_auto_rows": null,
            "grid_column": null,
            "grid_gap": null,
            "grid_row": null,
            "grid_template_areas": null,
            "grid_template_columns": null,
            "grid_template_rows": null,
            "height": null,
            "justify_content": null,
            "justify_items": null,
            "left": null,
            "margin": null,
            "max_height": null,
            "max_width": null,
            "min_height": null,
            "min_width": null,
            "object_fit": null,
            "object_position": null,
            "order": null,
            "overflow": null,
            "overflow_x": null,
            "overflow_y": null,
            "padding": null,
            "right": null,
            "top": null,
            "visibility": null,
            "width": null
          }
        },
        "b915b68cbc1d4632b605fed0614916c1": {
          "model_module": "@jupyter-widgets/controls",
          "model_name": "DescriptionStyleModel",
          "model_module_version": "1.5.0",
          "state": {
            "_model_module": "@jupyter-widgets/controls",
            "_model_module_version": "1.5.0",
            "_model_name": "DescriptionStyleModel",
            "_view_count": null,
            "_view_module": "@jupyter-widgets/base",
            "_view_module_version": "1.2.0",
            "_view_name": "StyleView",
            "description_width": ""
          }
        },
        "e2fde3371f4e47078476c80b1d34fb09": {
          "model_module": "@jupyter-widgets/base",
          "model_name": "LayoutModel",
          "model_module_version": "1.2.0",
          "state": {
            "_model_module": "@jupyter-widgets/base",
            "_model_module_version": "1.2.0",
            "_model_name": "LayoutModel",
            "_view_count": null,
            "_view_module": "@jupyter-widgets/base",
            "_view_module_version": "1.2.0",
            "_view_name": "LayoutView",
            "align_content": null,
            "align_items": null,
            "align_self": null,
            "border": null,
            "bottom": null,
            "display": null,
            "flex": null,
            "flex_flow": null,
            "grid_area": null,
            "grid_auto_columns": null,
            "grid_auto_flow": null,
            "grid_auto_rows": null,
            "grid_column": null,
            "grid_gap": null,
            "grid_row": null,
            "grid_template_areas": null,
            "grid_template_columns": null,
            "grid_template_rows": null,
            "height": null,
            "justify_content": null,
            "justify_items": null,
            "left": null,
            "margin": null,
            "max_height": null,
            "max_width": null,
            "min_height": null,
            "min_width": null,
            "object_fit": null,
            "object_position": null,
            "order": null,
            "overflow": null,
            "overflow_x": null,
            "overflow_y": null,
            "padding": null,
            "right": null,
            "top": null,
            "visibility": null,
            "width": null
          }
        },
        "f4b7d329ea1640669d343ee9435f2967": {
          "model_module": "@jupyter-widgets/controls",
          "model_name": "ProgressStyleModel",
          "model_module_version": "1.5.0",
          "state": {
            "_model_module": "@jupyter-widgets/controls",
            "_model_module_version": "1.5.0",
            "_model_name": "ProgressStyleModel",
            "_view_count": null,
            "_view_module": "@jupyter-widgets/base",
            "_view_module_version": "1.2.0",
            "_view_name": "StyleView",
            "bar_color": null,
            "description_width": ""
          }
        },
        "56a39d9b21c049bc9101e4645eab1a11": {
          "model_module": "@jupyter-widgets/base",
          "model_name": "LayoutModel",
          "model_module_version": "1.2.0",
          "state": {
            "_model_module": "@jupyter-widgets/base",
            "_model_module_version": "1.2.0",
            "_model_name": "LayoutModel",
            "_view_count": null,
            "_view_module": "@jupyter-widgets/base",
            "_view_module_version": "1.2.0",
            "_view_name": "LayoutView",
            "align_content": null,
            "align_items": null,
            "align_self": null,
            "border": null,
            "bottom": null,
            "display": null,
            "flex": null,
            "flex_flow": null,
            "grid_area": null,
            "grid_auto_columns": null,
            "grid_auto_flow": null,
            "grid_auto_rows": null,
            "grid_column": null,
            "grid_gap": null,
            "grid_row": null,
            "grid_template_areas": null,
            "grid_template_columns": null,
            "grid_template_rows": null,
            "height": null,
            "justify_content": null,
            "justify_items": null,
            "left": null,
            "margin": null,
            "max_height": null,
            "max_width": null,
            "min_height": null,
            "min_width": null,
            "object_fit": null,
            "object_position": null,
            "order": null,
            "overflow": null,
            "overflow_x": null,
            "overflow_y": null,
            "padding": null,
            "right": null,
            "top": null,
            "visibility": null,
            "width": null
          }
        },
        "5004efba22444bf587b89f8a5799d2bc": {
          "model_module": "@jupyter-widgets/controls",
          "model_name": "DescriptionStyleModel",
          "model_module_version": "1.5.0",
          "state": {
            "_model_module": "@jupyter-widgets/controls",
            "_model_module_version": "1.5.0",
            "_model_name": "DescriptionStyleModel",
            "_view_count": null,
            "_view_module": "@jupyter-widgets/base",
            "_view_module_version": "1.2.0",
            "_view_name": "StyleView",
            "description_width": ""
          }
        },
        "b76674235c82481da4456732c75a9713": {
          "model_module": "@jupyter-widgets/controls",
          "model_name": "HBoxModel",
          "model_module_version": "1.5.0",
          "state": {
            "_dom_classes": [],
            "_model_module": "@jupyter-widgets/controls",
            "_model_module_version": "1.5.0",
            "_model_name": "HBoxModel",
            "_view_count": null,
            "_view_module": "@jupyter-widgets/controls",
            "_view_module_version": "1.5.0",
            "_view_name": "HBoxView",
            "box_style": "",
            "children": [
              "IPY_MODEL_f1389dd3ba9f4e408e93e0d327e4ade4",
              "IPY_MODEL_46f6b8c555c643c2972e9c9b51c69681",
              "IPY_MODEL_eb226325b192449e92ceff53a9e3bc36"
            ],
            "layout": "IPY_MODEL_8c4790fba4504d0c962980bfe80818a4"
          }
        },
        "f1389dd3ba9f4e408e93e0d327e4ade4": {
          "model_module": "@jupyter-widgets/controls",
          "model_name": "HTMLModel",
          "model_module_version": "1.5.0",
          "state": {
            "_dom_classes": [],
            "_model_module": "@jupyter-widgets/controls",
            "_model_module_version": "1.5.0",
            "_model_name": "HTMLModel",
            "_view_count": null,
            "_view_module": "@jupyter-widgets/controls",
            "_view_module_version": "1.5.0",
            "_view_name": "HTMLView",
            "description": "",
            "description_tooltip": null,
            "layout": "IPY_MODEL_10bdc9ad3e6649a6a0151e2fc8799a9e",
            "placeholder": "​",
            "style": "IPY_MODEL_652a599cc66b4482bbece0cd473b5d48",
            "value": "100%"
          }
        },
        "46f6b8c555c643c2972e9c9b51c69681": {
          "model_module": "@jupyter-widgets/controls",
          "model_name": "FloatProgressModel",
          "model_module_version": "1.5.0",
          "state": {
            "_dom_classes": [],
            "_model_module": "@jupyter-widgets/controls",
            "_model_module_version": "1.5.0",
            "_model_name": "FloatProgressModel",
            "_view_count": null,
            "_view_module": "@jupyter-widgets/controls",
            "_view_module_version": "1.5.0",
            "_view_name": "ProgressView",
            "bar_style": "success",
            "description": "",
            "description_tooltip": null,
            "layout": "IPY_MODEL_50d0d79559fc4f78911be341fc216097",
            "max": 4422102,
            "min": 0,
            "orientation": "horizontal",
            "style": "IPY_MODEL_ab53e7388111451abaf3483fdefff9cc",
            "value": 4422102
          }
        },
        "eb226325b192449e92ceff53a9e3bc36": {
          "model_module": "@jupyter-widgets/controls",
          "model_name": "HTMLModel",
          "model_module_version": "1.5.0",
          "state": {
            "_dom_classes": [],
            "_model_module": "@jupyter-widgets/controls",
            "_model_module_version": "1.5.0",
            "_model_name": "HTMLModel",
            "_view_count": null,
            "_view_module": "@jupyter-widgets/controls",
            "_view_module_version": "1.5.0",
            "_view_name": "HTMLView",
            "description": "",
            "description_tooltip": null,
            "layout": "IPY_MODEL_543af89b376743c5a043dcc24bb1ebe3",
            "placeholder": "​",
            "style": "IPY_MODEL_0d322bbd475641c199540e6b85d9ea51",
            "value": " 4422102/4422102 [00:01&lt;00:00, 6592236.34it/s]"
          }
        },
        "8c4790fba4504d0c962980bfe80818a4": {
          "model_module": "@jupyter-widgets/base",
          "model_name": "LayoutModel",
          "model_module_version": "1.2.0",
          "state": {
            "_model_module": "@jupyter-widgets/base",
            "_model_module_version": "1.2.0",
            "_model_name": "LayoutModel",
            "_view_count": null,
            "_view_module": "@jupyter-widgets/base",
            "_view_module_version": "1.2.0",
            "_view_name": "LayoutView",
            "align_content": null,
            "align_items": null,
            "align_self": null,
            "border": null,
            "bottom": null,
            "display": null,
            "flex": null,
            "flex_flow": null,
            "grid_area": null,
            "grid_auto_columns": null,
            "grid_auto_flow": null,
            "grid_auto_rows": null,
            "grid_column": null,
            "grid_gap": null,
            "grid_row": null,
            "grid_template_areas": null,
            "grid_template_columns": null,
            "grid_template_rows": null,
            "height": null,
            "justify_content": null,
            "justify_items": null,
            "left": null,
            "margin": null,
            "max_height": null,
            "max_width": null,
            "min_height": null,
            "min_width": null,
            "object_fit": null,
            "object_position": null,
            "order": null,
            "overflow": null,
            "overflow_x": null,
            "overflow_y": null,
            "padding": null,
            "right": null,
            "top": null,
            "visibility": null,
            "width": null
          }
        },
        "10bdc9ad3e6649a6a0151e2fc8799a9e": {
          "model_module": "@jupyter-widgets/base",
          "model_name": "LayoutModel",
          "model_module_version": "1.2.0",
          "state": {
            "_model_module": "@jupyter-widgets/base",
            "_model_module_version": "1.2.0",
            "_model_name": "LayoutModel",
            "_view_count": null,
            "_view_module": "@jupyter-widgets/base",
            "_view_module_version": "1.2.0",
            "_view_name": "LayoutView",
            "align_content": null,
            "align_items": null,
            "align_self": null,
            "border": null,
            "bottom": null,
            "display": null,
            "flex": null,
            "flex_flow": null,
            "grid_area": null,
            "grid_auto_columns": null,
            "grid_auto_flow": null,
            "grid_auto_rows": null,
            "grid_column": null,
            "grid_gap": null,
            "grid_row": null,
            "grid_template_areas": null,
            "grid_template_columns": null,
            "grid_template_rows": null,
            "height": null,
            "justify_content": null,
            "justify_items": null,
            "left": null,
            "margin": null,
            "max_height": null,
            "max_width": null,
            "min_height": null,
            "min_width": null,
            "object_fit": null,
            "object_position": null,
            "order": null,
            "overflow": null,
            "overflow_x": null,
            "overflow_y": null,
            "padding": null,
            "right": null,
            "top": null,
            "visibility": null,
            "width": null
          }
        },
        "652a599cc66b4482bbece0cd473b5d48": {
          "model_module": "@jupyter-widgets/controls",
          "model_name": "DescriptionStyleModel",
          "model_module_version": "1.5.0",
          "state": {
            "_model_module": "@jupyter-widgets/controls",
            "_model_module_version": "1.5.0",
            "_model_name": "DescriptionStyleModel",
            "_view_count": null,
            "_view_module": "@jupyter-widgets/base",
            "_view_module_version": "1.2.0",
            "_view_name": "StyleView",
            "description_width": ""
          }
        },
        "50d0d79559fc4f78911be341fc216097": {
          "model_module": "@jupyter-widgets/base",
          "model_name": "LayoutModel",
          "model_module_version": "1.2.0",
          "state": {
            "_model_module": "@jupyter-widgets/base",
            "_model_module_version": "1.2.0",
            "_model_name": "LayoutModel",
            "_view_count": null,
            "_view_module": "@jupyter-widgets/base",
            "_view_module_version": "1.2.0",
            "_view_name": "LayoutView",
            "align_content": null,
            "align_items": null,
            "align_self": null,
            "border": null,
            "bottom": null,
            "display": null,
            "flex": null,
            "flex_flow": null,
            "grid_area": null,
            "grid_auto_columns": null,
            "grid_auto_flow": null,
            "grid_auto_rows": null,
            "grid_column": null,
            "grid_gap": null,
            "grid_row": null,
            "grid_template_areas": null,
            "grid_template_columns": null,
            "grid_template_rows": null,
            "height": null,
            "justify_content": null,
            "justify_items": null,
            "left": null,
            "margin": null,
            "max_height": null,
            "max_width": null,
            "min_height": null,
            "min_width": null,
            "object_fit": null,
            "object_position": null,
            "order": null,
            "overflow": null,
            "overflow_x": null,
            "overflow_y": null,
            "padding": null,
            "right": null,
            "top": null,
            "visibility": null,
            "width": null
          }
        },
        "ab53e7388111451abaf3483fdefff9cc": {
          "model_module": "@jupyter-widgets/controls",
          "model_name": "ProgressStyleModel",
          "model_module_version": "1.5.0",
          "state": {
            "_model_module": "@jupyter-widgets/controls",
            "_model_module_version": "1.5.0",
            "_model_name": "ProgressStyleModel",
            "_view_count": null,
            "_view_module": "@jupyter-widgets/base",
            "_view_module_version": "1.2.0",
            "_view_name": "StyleView",
            "bar_color": null,
            "description_width": ""
          }
        },
        "543af89b376743c5a043dcc24bb1ebe3": {
          "model_module": "@jupyter-widgets/base",
          "model_name": "LayoutModel",
          "model_module_version": "1.2.0",
          "state": {
            "_model_module": "@jupyter-widgets/base",
            "_model_module_version": "1.2.0",
            "_model_name": "LayoutModel",
            "_view_count": null,
            "_view_module": "@jupyter-widgets/base",
            "_view_module_version": "1.2.0",
            "_view_name": "LayoutView",
            "align_content": null,
            "align_items": null,
            "align_self": null,
            "border": null,
            "bottom": null,
            "display": null,
            "flex": null,
            "flex_flow": null,
            "grid_area": null,
            "grid_auto_columns": null,
            "grid_auto_flow": null,
            "grid_auto_rows": null,
            "grid_column": null,
            "grid_gap": null,
            "grid_row": null,
            "grid_template_areas": null,
            "grid_template_columns": null,
            "grid_template_rows": null,
            "height": null,
            "justify_content": null,
            "justify_items": null,
            "left": null,
            "margin": null,
            "max_height": null,
            "max_width": null,
            "min_height": null,
            "min_width": null,
            "object_fit": null,
            "object_position": null,
            "order": null,
            "overflow": null,
            "overflow_x": null,
            "overflow_y": null,
            "padding": null,
            "right": null,
            "top": null,
            "visibility": null,
            "width": null
          }
        },
        "0d322bbd475641c199540e6b85d9ea51": {
          "model_module": "@jupyter-widgets/controls",
          "model_name": "DescriptionStyleModel",
          "model_module_version": "1.5.0",
          "state": {
            "_model_module": "@jupyter-widgets/controls",
            "_model_module_version": "1.5.0",
            "_model_name": "DescriptionStyleModel",
            "_view_count": null,
            "_view_module": "@jupyter-widgets/base",
            "_view_module_version": "1.2.0",
            "_view_name": "StyleView",
            "description_width": ""
          }
        },
        "cbcfa04867b34c6ba3dccb6bfca83cce": {
          "model_module": "@jupyter-widgets/controls",
          "model_name": "HBoxModel",
          "model_module_version": "1.5.0",
          "state": {
            "_dom_classes": [],
            "_model_module": "@jupyter-widgets/controls",
            "_model_module_version": "1.5.0",
            "_model_name": "HBoxModel",
            "_view_count": null,
            "_view_module": "@jupyter-widgets/controls",
            "_view_module_version": "1.5.0",
            "_view_name": "HBoxView",
            "box_style": "",
            "children": [
              "IPY_MODEL_2f726773d2f249cb884f12a138a96200",
              "IPY_MODEL_5e8efcdea41f427ca4fc2f3efca742f5",
              "IPY_MODEL_1ae00389f52743a49cd304423834ff23"
            ],
            "layout": "IPY_MODEL_0448e4ee1a4a4ad8b00bde129d991469"
          }
        },
        "2f726773d2f249cb884f12a138a96200": {
          "model_module": "@jupyter-widgets/controls",
          "model_name": "HTMLModel",
          "model_module_version": "1.5.0",
          "state": {
            "_dom_classes": [],
            "_model_module": "@jupyter-widgets/controls",
            "_model_module_version": "1.5.0",
            "_model_name": "HTMLModel",
            "_view_count": null,
            "_view_module": "@jupyter-widgets/controls",
            "_view_module_version": "1.5.0",
            "_view_name": "HTMLView",
            "description": "",
            "description_tooltip": null,
            "layout": "IPY_MODEL_75a0d6f30d814e4fa84c41e55d976e23",
            "placeholder": "​",
            "style": "IPY_MODEL_88f323dd5bf3481598d7136a5591e026",
            "value": "100%"
          }
        },
        "5e8efcdea41f427ca4fc2f3efca742f5": {
          "model_module": "@jupyter-widgets/controls",
          "model_name": "FloatProgressModel",
          "model_module_version": "1.5.0",
          "state": {
            "_dom_classes": [],
            "_model_module": "@jupyter-widgets/controls",
            "_model_module_version": "1.5.0",
            "_model_name": "FloatProgressModel",
            "_view_count": null,
            "_view_module": "@jupyter-widgets/controls",
            "_view_module_version": "1.5.0",
            "_view_name": "ProgressView",
            "bar_style": "success",
            "description": "",
            "description_tooltip": null,
            "layout": "IPY_MODEL_74c656d3f6bd4352a879aa44f5cbc08e",
            "max": 5148,
            "min": 0,
            "orientation": "horizontal",
            "style": "IPY_MODEL_8be76746c02c44e98488afb0656fc956",
            "value": 5148
          }
        },
        "1ae00389f52743a49cd304423834ff23": {
          "model_module": "@jupyter-widgets/controls",
          "model_name": "HTMLModel",
          "model_module_version": "1.5.0",
          "state": {
            "_dom_classes": [],
            "_model_module": "@jupyter-widgets/controls",
            "_model_module_version": "1.5.0",
            "_model_name": "HTMLModel",
            "_view_count": null,
            "_view_module": "@jupyter-widgets/controls",
            "_view_module_version": "1.5.0",
            "_view_name": "HTMLView",
            "description": "",
            "description_tooltip": null,
            "layout": "IPY_MODEL_b3fc0acacb654e55a8ee81f76ad1a03c",
            "placeholder": "​",
            "style": "IPY_MODEL_273749d5d24840e7b03cf8984154a0bc",
            "value": " 5148/5148 [00:00&lt;00:00, 206476.47it/s]"
          }
        },
        "0448e4ee1a4a4ad8b00bde129d991469": {
          "model_module": "@jupyter-widgets/base",
          "model_name": "LayoutModel",
          "model_module_version": "1.2.0",
          "state": {
            "_model_module": "@jupyter-widgets/base",
            "_model_module_version": "1.2.0",
            "_model_name": "LayoutModel",
            "_view_count": null,
            "_view_module": "@jupyter-widgets/base",
            "_view_module_version": "1.2.0",
            "_view_name": "LayoutView",
            "align_content": null,
            "align_items": null,
            "align_self": null,
            "border": null,
            "bottom": null,
            "display": null,
            "flex": null,
            "flex_flow": null,
            "grid_area": null,
            "grid_auto_columns": null,
            "grid_auto_flow": null,
            "grid_auto_rows": null,
            "grid_column": null,
            "grid_gap": null,
            "grid_row": null,
            "grid_template_areas": null,
            "grid_template_columns": null,
            "grid_template_rows": null,
            "height": null,
            "justify_content": null,
            "justify_items": null,
            "left": null,
            "margin": null,
            "max_height": null,
            "max_width": null,
            "min_height": null,
            "min_width": null,
            "object_fit": null,
            "object_position": null,
            "order": null,
            "overflow": null,
            "overflow_x": null,
            "overflow_y": null,
            "padding": null,
            "right": null,
            "top": null,
            "visibility": null,
            "width": null
          }
        },
        "75a0d6f30d814e4fa84c41e55d976e23": {
          "model_module": "@jupyter-widgets/base",
          "model_name": "LayoutModel",
          "model_module_version": "1.2.0",
          "state": {
            "_model_module": "@jupyter-widgets/base",
            "_model_module_version": "1.2.0",
            "_model_name": "LayoutModel",
            "_view_count": null,
            "_view_module": "@jupyter-widgets/base",
            "_view_module_version": "1.2.0",
            "_view_name": "LayoutView",
            "align_content": null,
            "align_items": null,
            "align_self": null,
            "border": null,
            "bottom": null,
            "display": null,
            "flex": null,
            "flex_flow": null,
            "grid_area": null,
            "grid_auto_columns": null,
            "grid_auto_flow": null,
            "grid_auto_rows": null,
            "grid_column": null,
            "grid_gap": null,
            "grid_row": null,
            "grid_template_areas": null,
            "grid_template_columns": null,
            "grid_template_rows": null,
            "height": null,
            "justify_content": null,
            "justify_items": null,
            "left": null,
            "margin": null,
            "max_height": null,
            "max_width": null,
            "min_height": null,
            "min_width": null,
            "object_fit": null,
            "object_position": null,
            "order": null,
            "overflow": null,
            "overflow_x": null,
            "overflow_y": null,
            "padding": null,
            "right": null,
            "top": null,
            "visibility": null,
            "width": null
          }
        },
        "88f323dd5bf3481598d7136a5591e026": {
          "model_module": "@jupyter-widgets/controls",
          "model_name": "DescriptionStyleModel",
          "model_module_version": "1.5.0",
          "state": {
            "_model_module": "@jupyter-widgets/controls",
            "_model_module_version": "1.5.0",
            "_model_name": "DescriptionStyleModel",
            "_view_count": null,
            "_view_module": "@jupyter-widgets/base",
            "_view_module_version": "1.2.0",
            "_view_name": "StyleView",
            "description_width": ""
          }
        },
        "74c656d3f6bd4352a879aa44f5cbc08e": {
          "model_module": "@jupyter-widgets/base",
          "model_name": "LayoutModel",
          "model_module_version": "1.2.0",
          "state": {
            "_model_module": "@jupyter-widgets/base",
            "_model_module_version": "1.2.0",
            "_model_name": "LayoutModel",
            "_view_count": null,
            "_view_module": "@jupyter-widgets/base",
            "_view_module_version": "1.2.0",
            "_view_name": "LayoutView",
            "align_content": null,
            "align_items": null,
            "align_self": null,
            "border": null,
            "bottom": null,
            "display": null,
            "flex": null,
            "flex_flow": null,
            "grid_area": null,
            "grid_auto_columns": null,
            "grid_auto_flow": null,
            "grid_auto_rows": null,
            "grid_column": null,
            "grid_gap": null,
            "grid_row": null,
            "grid_template_areas": null,
            "grid_template_columns": null,
            "grid_template_rows": null,
            "height": null,
            "justify_content": null,
            "justify_items": null,
            "left": null,
            "margin": null,
            "max_height": null,
            "max_width": null,
            "min_height": null,
            "min_width": null,
            "object_fit": null,
            "object_position": null,
            "order": null,
            "overflow": null,
            "overflow_x": null,
            "overflow_y": null,
            "padding": null,
            "right": null,
            "top": null,
            "visibility": null,
            "width": null
          }
        },
        "8be76746c02c44e98488afb0656fc956": {
          "model_module": "@jupyter-widgets/controls",
          "model_name": "ProgressStyleModel",
          "model_module_version": "1.5.0",
          "state": {
            "_model_module": "@jupyter-widgets/controls",
            "_model_module_version": "1.5.0",
            "_model_name": "ProgressStyleModel",
            "_view_count": null,
            "_view_module": "@jupyter-widgets/base",
            "_view_module_version": "1.2.0",
            "_view_name": "StyleView",
            "bar_color": null,
            "description_width": ""
          }
        },
        "b3fc0acacb654e55a8ee81f76ad1a03c": {
          "model_module": "@jupyter-widgets/base",
          "model_name": "LayoutModel",
          "model_module_version": "1.2.0",
          "state": {
            "_model_module": "@jupyter-widgets/base",
            "_model_module_version": "1.2.0",
            "_model_name": "LayoutModel",
            "_view_count": null,
            "_view_module": "@jupyter-widgets/base",
            "_view_module_version": "1.2.0",
            "_view_name": "LayoutView",
            "align_content": null,
            "align_items": null,
            "align_self": null,
            "border": null,
            "bottom": null,
            "display": null,
            "flex": null,
            "flex_flow": null,
            "grid_area": null,
            "grid_auto_columns": null,
            "grid_auto_flow": null,
            "grid_auto_rows": null,
            "grid_column": null,
            "grid_gap": null,
            "grid_row": null,
            "grid_template_areas": null,
            "grid_template_columns": null,
            "grid_template_rows": null,
            "height": null,
            "justify_content": null,
            "justify_items": null,
            "left": null,
            "margin": null,
            "max_height": null,
            "max_width": null,
            "min_height": null,
            "min_width": null,
            "object_fit": null,
            "object_position": null,
            "order": null,
            "overflow": null,
            "overflow_x": null,
            "overflow_y": null,
            "padding": null,
            "right": null,
            "top": null,
            "visibility": null,
            "width": null
          }
        },
        "273749d5d24840e7b03cf8984154a0bc": {
          "model_module": "@jupyter-widgets/controls",
          "model_name": "DescriptionStyleModel",
          "model_module_version": "1.5.0",
          "state": {
            "_model_module": "@jupyter-widgets/controls",
            "_model_module_version": "1.5.0",
            "_model_name": "DescriptionStyleModel",
            "_view_count": null,
            "_view_module": "@jupyter-widgets/base",
            "_view_module_version": "1.2.0",
            "_view_name": "StyleView",
            "description_width": ""
          }
        }
      }
    }
  },
  "nbformat": 4,
  "nbformat_minor": 5
}