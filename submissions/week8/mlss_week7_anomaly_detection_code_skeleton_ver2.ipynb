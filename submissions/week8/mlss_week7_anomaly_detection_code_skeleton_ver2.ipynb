{
  "cells": [
    {
      "cell_type": "markdown",
      "source": [
        "# Anomaly Detection v2.1"
      ],
      "metadata": {
        "id": "RcZg-ysGbLym"
      }
    },
    {
      "cell_type": "markdown",
      "source": [
        "## Note:\n",
        "It is recommended to run the code using a GPU. To do this, go to Runtime > Change runtime type > Hardware Accelerator > select GPU.\n",
        "\n",
        "It may be the case that a GPU is not available, in which case, use a default CPU (\"None\" hardware accelerator). The code will still work without a GPU, but may run much slower.\n",
        "\n",
        "### Contributers:\n",
        "Jason Ding"
      ],
      "metadata": {
        "id": "rVDP9Kt-EoJX"
      }
    },
    {
      "cell_type": "markdown",
      "source": [
        "## Pre-requisites\n",
        "\n",
        "In the following cells, we are installing and importing the necessary libaries and downloading the classification model."
      ],
      "metadata": {
        "id": "xTF95S98RyLT"
      }
    },
    {
      "cell_type": "code",
      "execution_count": 1,
      "metadata": {
        "id": "qo_2N4BQ3vdQ",
        "colab": {
          "base_uri": "https://localhost:8080/"
        },
        "outputId": "ee3759b8-44e1-4f50-8298-25386eab8c3c"
      },
      "outputs": [
        {
          "output_type": "stream",
          "name": "stdout",
          "text": [
            "--2022-08-16 14:31:13--  https://github.com/hendrycks/outlier-exposure/raw/master/CIFAR/snapshots/baseline/cifar10_wrn_baseline_epoch_99.pt\n",
            "Resolving github.com (github.com)... 20.27.177.113\n",
            "Connecting to github.com (github.com)|20.27.177.113|:443... connected.\n",
            "HTTP request sent, awaiting response... 302 Found\n",
            "Location: https://raw.githubusercontent.com/hendrycks/outlier-exposure/master/CIFAR/snapshots/baseline/cifar10_wrn_baseline_epoch_99.pt [following]\n",
            "--2022-08-16 14:31:14--  https://raw.githubusercontent.com/hendrycks/outlier-exposure/master/CIFAR/snapshots/baseline/cifar10_wrn_baseline_epoch_99.pt\n",
            "Resolving raw.githubusercontent.com (raw.githubusercontent.com)... 185.199.108.133, 185.199.109.133, 185.199.110.133, ...\n",
            "Connecting to raw.githubusercontent.com (raw.githubusercontent.com)|185.199.108.133|:443... connected.\n",
            "HTTP request sent, awaiting response... 200 OK\n",
            "Length: 9037421 (8.6M) [application/octet-stream]\n",
            "Saving to: ‘cifar10_wrn_baseline_epoch_99.pt’\n",
            "\n",
            "cifar10_wrn_baselin 100%[===================>]   8.62M  --.-KB/s    in 0.1s    \n",
            "\n",
            "2022-08-16 14:31:16 (83.7 MB/s) - ‘cifar10_wrn_baseline_epoch_99.pt’ saved [9037421/9037421]\n",
            "\n",
            "--2022-08-16 14:31:16--  https://raw.githubusercontent.com/hendrycks/pre-training/master/robustness/adversarial/models/wrn_with_pen.py\n",
            "Resolving raw.githubusercontent.com (raw.githubusercontent.com)... 185.199.110.133, 185.199.109.133, 185.199.111.133, ...\n",
            "Connecting to raw.githubusercontent.com (raw.githubusercontent.com)|185.199.110.133|:443... connected.\n",
            "HTTP request sent, awaiting response... 200 OK\n",
            "Length: 3913 (3.8K) [text/plain]\n",
            "Saving to: ‘wrn_with_pen.py’\n",
            "\n",
            "wrn_with_pen.py     100%[===================>]   3.82K  --.-KB/s    in 0s      \n",
            "\n",
            "2022-08-16 14:31:16 (71.1 MB/s) - ‘wrn_with_pen.py’ saved [3913/3913]\n",
            "\n",
            "Looking in indexes: https://pypi.org/simple, https://us-python.pkg.dev/colab-wheels/public/simple/\n",
            "Collecting torchvision==0.12.0\n",
            "  Downloading torchvision-0.12.0-cp37-cp37m-manylinux1_x86_64.whl (21.0 MB)\n",
            "\u001b[K     |████████████████████████████████| 21.0 MB 3.7 MB/s \n",
            "\u001b[?25hRequirement already satisfied: requests in /usr/local/lib/python3.7/dist-packages (from torchvision==0.12.0) (2.23.0)\n",
            "Requirement already satisfied: typing-extensions in /usr/local/lib/python3.7/dist-packages (from torchvision==0.12.0) (4.1.1)\n",
            "Requirement already satisfied: numpy in /usr/local/lib/python3.7/dist-packages (from torchvision==0.12.0) (1.21.6)\n",
            "Requirement already satisfied: pillow!=8.3.*,>=5.3.0 in /usr/local/lib/python3.7/dist-packages (from torchvision==0.12.0) (7.1.2)\n",
            "Collecting torch==1.11.0\n",
            "  Downloading torch-1.11.0-cp37-cp37m-manylinux1_x86_64.whl (750.6 MB)\n",
            "\u001b[K     |████████████████████████████████| 750.6 MB 10 kB/s \n",
            "\u001b[?25hRequirement already satisfied: urllib3!=1.25.0,!=1.25.1,<1.26,>=1.21.1 in /usr/local/lib/python3.7/dist-packages (from requests->torchvision==0.12.0) (1.24.3)\n",
            "Requirement already satisfied: chardet<4,>=3.0.2 in /usr/local/lib/python3.7/dist-packages (from requests->torchvision==0.12.0) (3.0.4)\n",
            "Requirement already satisfied: certifi>=2017.4.17 in /usr/local/lib/python3.7/dist-packages (from requests->torchvision==0.12.0) (2022.6.15)\n",
            "Requirement already satisfied: idna<3,>=2.5 in /usr/local/lib/python3.7/dist-packages (from requests->torchvision==0.12.0) (2.10)\n",
            "Installing collected packages: torch, torchvision\n",
            "  Attempting uninstall: torch\n",
            "    Found existing installation: torch 1.12.1+cu113\n",
            "    Uninstalling torch-1.12.1+cu113:\n",
            "      Successfully uninstalled torch-1.12.1+cu113\n",
            "  Attempting uninstall: torchvision\n",
            "    Found existing installation: torchvision 0.13.1+cu113\n",
            "    Uninstalling torchvision-0.13.1+cu113:\n",
            "      Successfully uninstalled torchvision-0.13.1+cu113\n",
            "\u001b[31mERROR: pip's dependency resolver does not currently take into account all the packages that are installed. This behaviour is the source of the following dependency conflicts.\n",
            "torchtext 0.13.1 requires torch==1.12.1, but you have torch 1.11.0 which is incompatible.\n",
            "torchaudio 0.12.1+cu113 requires torch==1.12.1, but you have torch 1.11.0 which is incompatible.\u001b[0m\n",
            "Successfully installed torch-1.11.0 torchvision-0.12.0\n"
          ]
        }
      ],
      "source": [
        "!wget https://github.com/hendrycks/outlier-exposure/raw/master/CIFAR/snapshots/baseline/cifar10_wrn_baseline_epoch_99.pt\n",
        "!wget https://raw.githubusercontent.com/hendrycks/pre-training/master/robustness/adversarial/models/wrn_with_pen.py\n",
        "!pip3 install torchvision==0.12.0"
      ]
    },
    {
      "cell_type": "code",
      "execution_count": 2,
      "metadata": {
        "id": "pRRReMOZyRLW"
      },
      "outputs": [],
      "source": [
        "import torch\n",
        "import math\n",
        "from torch.utils.data import Dataset\n",
        "import torchvision\n",
        "import torchvision.transforms as transforms\n",
        "from torchvision.transforms import ToTensor\n",
        "from torchvision import datasets\n",
        "import numpy as np\n",
        "import torch.nn.functional as F\n",
        "import sklearn.metrics as sk\n",
        "from wrn_with_pen import WideResNet\n",
        "\n",
        "prefetch = 2"
      ]
    },
    {
      "cell_type": "markdown",
      "source": [
        "## Model and Data Loading\n",
        "\n",
        "In the following cells, we are loading the CIFAR-10 model. Additionally, we are retrieving CIFAR-10 and out-of-distribution datasets."
      ],
      "metadata": {
        "id": "qu6Z4vj6RJJl"
      }
    },
    {
      "cell_type": "code",
      "execution_count": 3,
      "metadata": {
        "id": "M4dZ_8Es3cFw"
      },
      "outputs": [],
      "source": [
        "# Load CIFAR-10 model\n",
        "\n",
        "net = WideResNet(depth=40, num_classes=10, widen_factor=2, dropRate=0.3)\n",
        "\n",
        "if torch.cuda.is_available():\n",
        "    net.load_state_dict(torch.load('cifar10_wrn_baseline_epoch_99.pt'))\n",
        "    net.eval()\n",
        "    net.cuda()\n",
        "else:\n",
        "    net.load_state_dict(torch.load('cifar10_wrn_baseline_epoch_99.pt', map_location=torch.device('cpu')))\n",
        "    net.eval()"
      ]
    },
    {
      "cell_type": "code",
      "execution_count": 4,
      "metadata": {
        "id": "6n7lrVCvCDN3",
        "colab": {
          "base_uri": "https://localhost:8080/",
          "height": 200,
          "referenced_widgets": [
            "472b5d40c96448948dd011505278a891",
            "a3fef68ad5014018a07c69872a7d97c8",
            "67ab63a3f57045b688ba077c2e08c395",
            "49339add9082415fafd634f663bdb096",
            "8452e0d2cf074fd5b6e895f8c7cf1478",
            "0c7c48fdc80e403a91fe71eca72b61c2",
            "b6e3408218f74bcdbfec9c503b260e88",
            "dfe2eca928974aaca40234ab1a4f0493",
            "c6fd0a5d7b7b41b08e2ac3df9f034d8c",
            "18a7617267ff430fa8eabd68e1cd1fe3",
            "5f12785c0e5644fba6e8693c1fe0733a",
            "b6d99eaa0ba141abb31b36eefb354aaa",
            "80111bc9245b4e719a17afa38d33b8ff",
            "4beb554e810241aebaad5b69c2baeeaf",
            "2b24f923590d421496f6e38303095264",
            "edaf884248b84dd7ba3aefe6fd165136",
            "39e161706c724eda94906eab797b594d",
            "3088321e6ce24a1d99480ce02f1385a5",
            "f731461a38204e0ea5ae2f873d38bdf7",
            "4829445befb2421bb48f096013e14ccd",
            "19dc112352954b8cb3ef4b1ed369d3ef",
            "abd03ce9d10b48a3a5d8530eeed55c53",
            "3920f8de38eb4f9090f19c3c2e910655",
            "03139d569d73492ca4d76c4cceee5e5f",
            "5232d83323ab4a28beae99b9ce91acf0",
            "f6060e7bdbf149feaa7c7372c289eb03",
            "bdbf127433ad412494917296db512efb",
            "a293cc6cb72f469ebcbda68ae975186e",
            "5a247ee6d20b41a29d13d4ff5e8f9f1d",
            "5026a9882f8042c38937b884bf7be1df",
            "9b4c380f718f449c9a1a082bf508876f",
            "53199d8d1d15490ebc8f46eb2bc5c0e0",
            "646963852515484088d585ce6ed5314b"
          ]
        },
        "outputId": "16e0e519-2388-4da2-c028-129354c62d43"
      },
      "outputs": [
        {
          "output_type": "stream",
          "name": "stdout",
          "text": [
            "Downloading https://www.cs.toronto.edu/~kriz/cifar-10-python.tar.gz to data/cifar-10-python.tar.gz\n"
          ]
        },
        {
          "output_type": "display_data",
          "data": {
            "text/plain": [
              "  0%|          | 0/170498071 [00:00<?, ?it/s]"
            ],
            "application/vnd.jupyter.widget-view+json": {
              "version_major": 2,
              "version_minor": 0,
              "model_id": "472b5d40c96448948dd011505278a891"
            }
          },
          "metadata": {}
        },
        {
          "output_type": "stream",
          "name": "stdout",
          "text": [
            "Extracting data/cifar-10-python.tar.gz to data\n",
            "Downloading http://ufldl.stanford.edu/housenumbers/test_32x32.mat to data/test_32x32.mat\n"
          ]
        },
        {
          "output_type": "display_data",
          "data": {
            "text/plain": [
              "  0%|          | 0/64275384 [00:00<?, ?it/s]"
            ],
            "application/vnd.jupyter.widget-view+json": {
              "version_major": 2,
              "version_minor": 0,
              "model_id": "b6d99eaa0ba141abb31b36eefb354aaa"
            }
          },
          "metadata": {}
        },
        {
          "output_type": "stream",
          "name": "stdout",
          "text": [
            "Downloading https://www.cs.toronto.edu/~kriz/cifar-100-python.tar.gz to data/cifar-100-python.tar.gz\n"
          ]
        },
        {
          "output_type": "display_data",
          "data": {
            "text/plain": [
              "  0%|          | 0/169001437 [00:00<?, ?it/s]"
            ],
            "application/vnd.jupyter.widget-view+json": {
              "version_major": 2,
              "version_minor": 0,
              "model_id": "3920f8de38eb4f9090f19c3c2e910655"
            }
          },
          "metadata": {}
        },
        {
          "output_type": "stream",
          "name": "stdout",
          "text": [
            "Extracting data/cifar-100-python.tar.gz to data\n"
          ]
        }
      ],
      "source": [
        "# /////////////// Loading Datasets ///////////////\n",
        "mean = [x / 255 for x in [125.3, 123.0, 113.9]]\n",
        "std = [x / 255 for x in [63.0, 62.1, 66.7]]\n",
        "\n",
        "# /////////////// CIFAR-10 ///////////////\n",
        "\n",
        "data_transform = transforms.Compose([transforms.ToTensor(), transforms.Normalize(mean, std)])\n",
        "\n",
        "cifar_10_data = datasets.CIFAR10(\n",
        "    root=\"data\",\n",
        "    train=False,\n",
        "    download=True,\n",
        "    transform=data_transform\n",
        ")\n",
        "\n",
        "cifar10_data = cifar_10_data\n",
        "cifar10_loader = torch.utils.data.DataLoader(cifar10_data, batch_size=200, shuffle=False,\n",
        "                                          num_workers=prefetch, pin_memory=True)\n",
        "ood_num_examples = len(cifar10_data) // 5\n",
        "\n",
        "# /////////////// Rademacher Noise ///////////////\n",
        "\n",
        "dummy_targets = torch.ones(ood_num_examples)\n",
        "ood_data = torch.from_numpy(np.random.binomial(\n",
        "    n=1, p=0.5, size=(ood_num_examples, 3, 32, 32)).astype(np.float32)) * 2 - 1\n",
        "rademacher_ood_data = torch.utils.data.TensorDataset(ood_data, dummy_targets)\n",
        "rademacher_ood_loader = torch.utils.data.DataLoader(rademacher_ood_data, batch_size=200, shuffle=True)\n",
        "\n",
        "# /////////////// SVHN ///////////////\n",
        "\n",
        "data_transform = transforms.Compose([transforms.Resize(32), transforms.ToTensor(), transforms.Normalize(mean, std)])\n",
        "\n",
        "svhn_ood_data = torchvision.datasets.SVHN(root = \"data\", \n",
        "                          split=\"test\",\n",
        "                          transform = data_transform, \n",
        "                          download = True)\n",
        "\n",
        "svhn_ood_loader = torch.utils.data.DataLoader(svhn_ood_data, batch_size=200, shuffle=True,\n",
        "                                         num_workers=prefetch, pin_memory=True)\n",
        "\n",
        "# /////////////// DTD ///////////////\n",
        "\n",
        "# data_transform = transforms.Compose([transforms.Resize(32), transforms.CenterCrop(32),\n",
        "#                                      transforms.ToTensor(), transforms.Normalize(mean, std)])\n",
        "\n",
        "# dtd_ood_data = torchvision.datasets.DTD(root = \"data\", \n",
        "#                           split=\"test\",\n",
        "#                           transform = data_transform, \n",
        "#                           download = True)\n",
        "\n",
        "# dtd_ood_loader = torch.utils.data.DataLoader(dtd_ood_data, batch_size=200, shuffle=True,\n",
        "#                                          num_workers=prefetch, pin_memory=True)\n",
        "\n",
        "# /////////////// CIFAR-100 ///////////////\n",
        "\n",
        "data_transform = transforms.Compose([transforms.ToTensor(), transforms.Normalize(mean, std)])\n",
        "\n",
        "cifar100_ood_data = datasets.CIFAR100(\n",
        "    root=\"data\",\n",
        "    train=False,\n",
        "    download=True,\n",
        "    transform=data_transform\n",
        ")\n",
        "\n",
        "cifar100_ood_loader = torch.utils.data.DataLoader(cifar100_ood_data, batch_size=200, shuffle=True,\n",
        "                                         num_workers=prefetch, pin_memory=True)"
      ]
    },
    {
      "cell_type": "markdown",
      "source": [
        "## General Functions\n",
        "\n",
        "The following cells define functions that we will use in the rest of the code. You do not need to do anything here."
      ],
      "metadata": {
        "id": "OmMQ8yfaSLWm"
      }
    },
    {
      "cell_type": "code",
      "execution_count": 5,
      "metadata": {
        "id": "bIeyVeYM6yVL"
      },
      "outputs": [],
      "source": [
        "concat = lambda x: np.concatenate(x, axis=0)\n",
        "to_np = lambda x: x.data.cpu().numpy()\n",
        "\n",
        "'''\n",
        "Calculates the anomaly scores for a portion of the given dataset. \n",
        "If a GPU is not available, will run on a smaller fraction of the\n",
        "dataset, so that calculations will be faster.\n",
        "\n",
        "loader: A DataLoader that contains the loaded data of a dataset\n",
        "anomaly_score_calculator: A function that takes in the output \n",
        "                          logit of a batch of data and/or the \n",
        "                          penultimate.\n",
        "model_net: The classifier model.\n",
        "usePenultimate: True if anomaly_score_calculator needs the \n",
        "                penultimate as a parameter. False otherwise.\n",
        "'''\n",
        "def get_ood_scores(loader, anomaly_score_calculator, model_net, use_penultimate = False):\n",
        "    _score = []\n",
        "\n",
        "    with torch.no_grad():\n",
        "        for batch_idx, (data, target) in enumerate(loader):\n",
        "            if torch.cuda.is_available():\n",
        "                fraction = 200\n",
        "            else:\n",
        "                fraction = 1000\n",
        "            if batch_idx >= ood_num_examples // fraction:\n",
        "                break\n",
        "\n",
        "            if torch.cuda.is_available():\n",
        "                data = data.cuda()\n",
        "\n",
        "            output = model_net(data)\n",
        "\n",
        "            if use_penultimate:\n",
        "                score = anomaly_score_calculator(output[0], output[1])\n",
        "            else:\n",
        "                score = anomaly_score_calculator(output[0])\n",
        "            _score.append(score)\n",
        "\n",
        "    return concat(_score).copy()"
      ]
    },
    {
      "cell_type": "code",
      "source": [
        "# /////////////// Printing Results ///////////////\n",
        "all_anomaly_results = {}\n",
        "\n",
        "'''\n",
        "Returns and prints out the AUROC score of a dataset.\n",
        "\n",
        "ood_loader: A DataLoader that contains the loaded data of a dataset\n",
        "anomaly_score_calculator: A function that takes in the output \n",
        "                          logit of a batch of data and/or the \n",
        "                          penultimate.\n",
        "model_net: The classifier model.\n",
        "usePenultimate: True if anomaly_score_calculator needs the \n",
        "                penultimate as a parameter. False otherwise.\n",
        "'''\n",
        "def get_and_print_results(ood_loader, anomaly_score_calculator, model_net, use_penultimate):\n",
        "    out_score = get_ood_scores(ood_loader, anomaly_score_calculator, model_net, use_penultimate = use_penultimate)\n",
        "    auroc = get_auroc(out_score, in_score)\n",
        "    print('AUROC: \\t\\t\\t{:.2f}'.format(100 * auroc) + \"%\")\n",
        "    return auroc\n",
        "\n",
        "'''\n",
        "Prints out the AUROC score of all the OOD datasets. The results \n",
        "will be appended to global variable all_anomaly_results, which \n",
        "is used later for display purposes.\n",
        "\n",
        "anomaly_score_calculator: A function that takes in the output \n",
        "                          logit of a batch of data and/or the \n",
        "                          penultimate.\n",
        "anomaly_score_name: The name of the anomaly score method.\n",
        "model_net: The classifier model.\n",
        "model_name: The name of the classifier model.\n",
        "usePenultimate: True if anomaly_score_calculator needs the \n",
        "                penultimate as a parameter. False otherwise.\n",
        "'''\n",
        "def print_all_results(anomaly_score_calculator, anomaly_score_name, model_net, model_name = \"default_model\", use_penultimate = False):\n",
        "    global in_score, all_anomaly_results\n",
        "    in_score = get_ood_scores(cifar10_loader, anomaly_score_calculator, model_net, use_penultimate)\n",
        "    results = []\n",
        "\n",
        "    print('Rademacher Noise Detection')\n",
        "    auroc = get_and_print_results(rademacher_ood_loader, anomaly_score_calculator, model_net, use_penultimate)\n",
        "    results.append(auroc)\n",
        "\n",
        "    print('\\nSVHN Detection')\n",
        "    auroc = get_and_print_results(svhn_ood_loader, anomaly_score_calculator, model_net, use_penultimate)\n",
        "    results.append(auroc)\n",
        "\n",
        "    # print('\\nDTD Detection')\n",
        "    # auroc = get_and_print_results(dtd_ood_loader, anomaly_score_calculator, model_net, use_penultimate)\n",
        "    # results.append(auroc)\n",
        "\n",
        "    print('\\nCIFAR-100 Detection')\n",
        "    auroc = get_and_print_results(cifar100_ood_loader, anomaly_score_calculator, model_net, use_penultimate)\n",
        "    results.append(auroc)\n",
        "\n",
        "    average = sum(results) / len(results)\n",
        "    results.append(average)\n",
        "\n",
        "    if not model_name in all_anomaly_results:\n",
        "        all_anomaly_results[model_name] = {}\n",
        "    all_anomaly_results[model_name][anomaly_score_name] = results"
      ],
      "metadata": {
        "id": "uPaE51LaTJ88"
      },
      "execution_count": 6,
      "outputs": []
    },
    {
      "cell_type": "markdown",
      "source": [
        "## Implement AUROC Score\n",
        "Fill in the get_auroc score. We will use this function in order to calculate the AUROC score of an out-of-distribution dataset.\n",
        "\n",
        "It may be helpful to use the sklearn.metrics.roc_auc_score() function. Both _pos and _neg should be used."
      ],
      "metadata": {
        "id": "epCT4PxHGJ3e"
      }
    },
    {
      "cell_type": "code",
      "source": [
        "'''\n",
        "Calculates the AUROC score of a OOD dataset.\n",
        "\n",
        "_pos: an array of anomoly scores of the OOD dataset\n",
        "_neg: an array of anomoly scores of images in the CIFAR-10 dataset\n",
        "return: The AUROC score the data in decimal form\n",
        "'''\n",
        "def get_auroc(_pos, _neg):\n",
        "    ############################################################################\n",
        "    # TODO:  Calculate the AUROC score.                                        #\n",
        "    ############################################################################\n",
        "    scores = torch.from_numpy(np.concatenate((_pos, _neg)))\n",
        "    if any(e < 0 or 1 < e for e in _pos + _neg):\n",
        "      scores = torch.nn.functional.softmax(scores)\n",
        "    pn = len(_pos)\n",
        "    nn = len(_neg)\n",
        "    y_true = np.repeat(0, pn + nn)\n",
        "    y_true[:pn] = 1\n",
        "    auroc_score = sk.roc_auc_score(y_true, scores)\n",
        "    ############################################################################\n",
        "    #                             END OF YOUR CODE                             #\n",
        "    ############################################################################\n",
        "    return auroc_score"
      ],
      "metadata": {
        "id": "FFLwtHgRFWK5"
      },
      "execution_count": 7,
      "outputs": []
    },
    {
      "cell_type": "markdown",
      "source": [
        "## Implement Anomaly Score Calculators\n",
        "Fill in the folllowing functions which calculate the anomaly score given the model's output for a batch of data (the output will contain one logit per image in the batch).\n",
        "\n",
        "The following equations show how the logits should be transformed in order to get the anomaly score.\n",
        "\n",
        "Max Logit Equation: <br>\n",
        "$\\text{Score}=-\\text{max} l_k$\n",
        "\n",
        "Max Softmax Equation: <br>\n",
        "$\\text{Score}=-\\text{max} p(y=k|x)$\n",
        "\n",
        "Cross Entropy Anomaly Equation: <br>\n",
        "$\\text{Score} = \\bar{l}-\\text{log}∑_{c=1}^{\\text{num_classes}}e^{l_c}$"
      ],
      "metadata": {
        "id": "Ot-KkzW1K55s"
      }
    },
    {
      "cell_type": "code",
      "execution_count": 30,
      "metadata": {
        "id": "Lajsgp2BXnc2"
      },
      "outputs": [],
      "source": [
        "# /////////////// Anomaly Score Calculators ///////////////\n",
        "\n",
        "'''\n",
        "Calculates the max logit anomaly score of a batch of outputs.\n",
        "\n",
        "output: The model's output for a batch of data.\n",
        "'''\n",
        "def max_logit_anomaly_score(output):\n",
        "    ############################################################################\n",
        "    # TODO: Calculate the max logit anomaly score (returning a numpy array).   #\n",
        "    ############################################################################\n",
        "    score = np.negative(to_np(output).max(axis=1))\n",
        "    ############################################################################\n",
        "    #                             END OF YOUR CODE                             #\n",
        "    ############################################################################\n",
        "    return score\n",
        "\n",
        "'''\n",
        "Calculates the max softmax anomaly score of a batch of outputs.\n",
        "\n",
        "output: The model's output for a batch of data.\n",
        "'''\n",
        "def max_softmax_anomaly_score(output):\n",
        "    ############################################################################\n",
        "    # TODO: Calculate the max softmax anomaly score (returning a numpy array). #\n",
        "    ############################################################################\n",
        "    score = np.negative(to_np(output.softmax(axis=1)).max(axis=1))\n",
        "    ############################################################################\n",
        "    #                             END OF YOUR CODE                             #\n",
        "    ############################################################################\n",
        "    return score\n",
        "\n",
        "'''\n",
        "Calculates the cross entropy anomaly score of a batch of outputs.\n",
        "\n",
        "output: The model's output for a batch of data.\n",
        "'''\n",
        "def cross_entropy_anomaly_score(output):\n",
        "    ############################################################################\n",
        "    # TODO: Calculate the cross entropy anomaly score (returning a numpy array).#\n",
        "    ############################################################################\n",
        "    logits = torch.tensor(output)\n",
        "    right = logits.exp().sum(dim=1).log()\n",
        "    left = logits.max(dim=1).values\n",
        "    scores = right - left\n",
        "    scores = to_np(scores)\n",
        "\n",
        "    #sd = torch.tensor(output).softmax(axis=1)  # Softmax distribution\n",
        "    #_, d = sd.shape\n",
        "    #scores = -((-sd.log().sum(axis=1)) / d)\n",
        "    #scores = to_np(scores)\n",
        "    ############################################################################\n",
        "    #                             END OF YOUR CODE                             #\n",
        "    ############################################################################\n",
        "    return scores"
      ]
    },
    {
      "cell_type": "markdown",
      "source": [
        "## Print AUROC Results\n",
        "\n",
        "Run the following cells in order to see how well each of the anomaly score calculators do on the OOD datasets."
      ],
      "metadata": {
        "id": "tmqvyCn-X3RE"
      }
    },
    {
      "cell_type": "code",
      "execution_count": 27,
      "metadata": {
        "id": "Wz78Dx8PM05O",
        "colab": {
          "base_uri": "https://localhost:8080/"
        },
        "outputId": "3db915ff-4f6d-47dd-a23d-b7f041d38c3d"
      },
      "outputs": [
        {
          "output_type": "stream",
          "name": "stdout",
          "text": [
            "======= Max Logit AUROC Scores =======\n",
            "Rademacher Noise Detection\n",
            "AUROC: \t\t\t69.77%\n",
            "\n",
            "SVHN Detection\n"
          ]
        },
        {
          "output_type": "stream",
          "name": "stderr",
          "text": [
            "/usr/local/lib/python3.7/dist-packages/ipykernel_launcher.py:14: UserWarning: Implicit dimension choice for softmax has been deprecated. Change the call to include dim=X as an argument.\n",
            "  \n"
          ]
        },
        {
          "output_type": "stream",
          "name": "stdout",
          "text": [
            "AUROC: \t\t\t91.43%\n",
            "\n",
            "CIFAR-100 Detection\n"
          ]
        },
        {
          "output_type": "stream",
          "name": "stderr",
          "text": [
            "/usr/local/lib/python3.7/dist-packages/ipykernel_launcher.py:14: UserWarning: Implicit dimension choice for softmax has been deprecated. Change the call to include dim=X as an argument.\n",
            "  \n"
          ]
        },
        {
          "output_type": "stream",
          "name": "stdout",
          "text": [
            "AUROC: \t\t\t86.99%\n"
          ]
        },
        {
          "output_type": "stream",
          "name": "stderr",
          "text": [
            "/usr/local/lib/python3.7/dist-packages/ipykernel_launcher.py:14: UserWarning: Implicit dimension choice for softmax has been deprecated. Change the call to include dim=X as an argument.\n",
            "  \n"
          ]
        }
      ],
      "source": [
        "print(\"======= Max Logit AUROC Scores =======\")\n",
        "print_all_results(max_logit_anomaly_score, \"Max Logit\", net)"
      ]
    },
    {
      "cell_type": "code",
      "execution_count": 28,
      "metadata": {
        "id": "jKL87S6dMyFY",
        "colab": {
          "base_uri": "https://localhost:8080/"
        },
        "outputId": "7471b156-2cd9-4f64-c681-445ab32bc3cb"
      },
      "outputs": [
        {
          "output_type": "stream",
          "name": "stdout",
          "text": [
            "======= Max Softmax AUROC Scores =======\n",
            "Rademacher Noise Detection\n",
            "AUROC: \t\t\t80.10%\n",
            "\n",
            "SVHN Detection\n"
          ]
        },
        {
          "output_type": "stream",
          "name": "stderr",
          "text": [
            "/usr/local/lib/python3.7/dist-packages/ipykernel_launcher.py:14: UserWarning: Implicit dimension choice for softmax has been deprecated. Change the call to include dim=X as an argument.\n",
            "  \n"
          ]
        },
        {
          "output_type": "stream",
          "name": "stdout",
          "text": [
            "AUROC: \t\t\t92.32%\n",
            "\n",
            "CIFAR-100 Detection\n"
          ]
        },
        {
          "output_type": "stream",
          "name": "stderr",
          "text": [
            "/usr/local/lib/python3.7/dist-packages/ipykernel_launcher.py:14: UserWarning: Implicit dimension choice for softmax has been deprecated. Change the call to include dim=X as an argument.\n",
            "  \n"
          ]
        },
        {
          "output_type": "stream",
          "name": "stdout",
          "text": [
            "AUROC: \t\t\t88.72%\n"
          ]
        },
        {
          "output_type": "stream",
          "name": "stderr",
          "text": [
            "/usr/local/lib/python3.7/dist-packages/ipykernel_launcher.py:14: UserWarning: Implicit dimension choice for softmax has been deprecated. Change the call to include dim=X as an argument.\n",
            "  \n"
          ]
        }
      ],
      "source": [
        "print(\"======= Max Softmax AUROC Scores =======\")\n",
        "print_all_results(max_softmax_anomaly_score, \"Max Softmax\", net)"
      ]
    },
    {
      "cell_type": "code",
      "execution_count": 31,
      "metadata": {
        "id": "Yosj6ofYV9bs",
        "colab": {
          "base_uri": "https://localhost:8080/"
        },
        "outputId": "820049b9-4877-4a92-87d0-8aa1676ea46b"
      },
      "outputs": [
        {
          "output_type": "stream",
          "name": "stdout",
          "text": [
            "======= Cross Entropy AUROC Scores =======\n"
          ]
        },
        {
          "output_type": "stream",
          "name": "stderr",
          "text": [
            "/usr/local/lib/python3.7/dist-packages/ipykernel_launcher.py:42: UserWarning: To copy construct from a tensor, it is recommended to use sourceTensor.clone().detach() or sourceTensor.clone().detach().requires_grad_(True), rather than torch.tensor(sourceTensor).\n"
          ]
        },
        {
          "output_type": "stream",
          "name": "stdout",
          "text": [
            "Rademacher Noise Detection\n",
            "AUROC: \t\t\t80.10%\n",
            "\n",
            "SVHN Detection\n"
          ]
        },
        {
          "output_type": "stream",
          "name": "stderr",
          "text": [
            "/usr/local/lib/python3.7/dist-packages/ipykernel_launcher.py:14: UserWarning: Implicit dimension choice for softmax has been deprecated. Change the call to include dim=X as an argument.\n",
            "  \n",
            "/usr/local/lib/python3.7/dist-packages/ipykernel_launcher.py:42: UserWarning: To copy construct from a tensor, it is recommended to use sourceTensor.clone().detach() or sourceTensor.clone().detach().requires_grad_(True), rather than torch.tensor(sourceTensor).\n"
          ]
        },
        {
          "output_type": "stream",
          "name": "stdout",
          "text": [
            "AUROC: \t\t\t91.99%\n",
            "\n",
            "CIFAR-100 Detection\n"
          ]
        },
        {
          "output_type": "stream",
          "name": "stderr",
          "text": [
            "/usr/local/lib/python3.7/dist-packages/ipykernel_launcher.py:14: UserWarning: Implicit dimension choice for softmax has been deprecated. Change the call to include dim=X as an argument.\n",
            "  \n",
            "/usr/local/lib/python3.7/dist-packages/ipykernel_launcher.py:42: UserWarning: To copy construct from a tensor, it is recommended to use sourceTensor.clone().detach() or sourceTensor.clone().detach().requires_grad_(True), rather than torch.tensor(sourceTensor).\n"
          ]
        },
        {
          "output_type": "stream",
          "name": "stdout",
          "text": [
            "AUROC: \t\t\t88.40%\n"
          ]
        },
        {
          "output_type": "stream",
          "name": "stderr",
          "text": [
            "/usr/local/lib/python3.7/dist-packages/ipykernel_launcher.py:14: UserWarning: Implicit dimension choice for softmax has been deprecated. Change the call to include dim=X as an argument.\n",
            "  \n"
          ]
        }
      ],
      "source": [
        "print(\"======= Cross Entropy AUROC Scores =======\")\n",
        "print_all_results(cross_entropy_anomaly_score, \"Cross Entropy\", net)"
      ]
    },
    {
      "cell_type": "markdown",
      "source": [
        "## Implement ViM\n",
        "\n",
        "We will now implement virtual-logit matching (ViM). ViM works by doing the following. \n",
        "\n",
        "ViM calculates the **principal space** ($P^\\perp$) using the training data's (CIFAR-10)  feature (penultimate). Let us use the 12 most significant principal components for our principal space. HINT: You may find it helpful to use np.linalg.svd and then principal component analysis. One can also use covarience to find the principal space.\n",
        "\n",
        "Then, ViM calculates **alpha** ($\\alpha$) by projecting the training data's features onto the prinicpal space calculated before. This is known as the **residual** ($x^{P^\\perp}$). Alpha is then calculated by the following equation:\n",
        "> $\\alpha := \\frac{∑^k_{i=1}\\text{max}_{j=1,...,C}\\{l^i_j\\}}{∑^K_{i=1}\\| x_i^{P\\perp} \\|}$\n",
        "\n",
        "In other words, alpha is the sum of each logit's maximum value, divided by the sum of the norms of each feature's residuals.\n",
        "\n",
        "Your calculated alpha in this part should be in the range of 1.5 to 1.9.\n"
      ],
      "metadata": {
        "id": "nq3lnDCbZ6qK"
      }
    },
    {
      "cell_type": "code",
      "execution_count": 43,
      "metadata": {
        "id": "erJ538Vl1qYy",
        "colab": {
          "base_uri": "https://localhost:8080/"
        },
        "outputId": "1c8667ac-c867-4b88-cd43-20f8a7025a70"
      },
      "outputs": [
        {
          "output_type": "stream",
          "name": "stdout",
          "text": [
            "Computing principal space...\n",
            "x.shape (200, 128)\n",
            "Computing alpha...\n",
            "alpha = 16.160999298095703\n"
          ]
        }
      ],
      "source": [
        "# You may find the following functions useful.\n",
        "from numpy.linalg import pinv, norm\n",
        "from scipy.special import logsumexp\n",
        "\n",
        "_score = []\n",
        "to_np = lambda x: x.data.cpu().numpy()\n",
        "concat = lambda x: np.concatenate(x, axis=0)\n",
        "\n",
        "# Extraction fully connected layer's weights and biases\n",
        "w, b = net.fc.weight.cpu().detach().numpy(), net.fc.bias.cpu().detach().numpy()\n",
        "# Origin of a new coordinate system of feature space to remove bias\n",
        "u = -np.matmul(pinv(w), b)\n",
        "\n",
        "'''\n",
        "Calculates and returns the principal space and alpha values given\n",
        "the training data the model used.\n",
        "\n",
        "training_data_loader: A DataLoader that contains the loaded data of a \n",
        "                      training dataset.\n",
        "model_net: The classifier model.\n",
        "verbose: If true, will print out the alpha value.\n",
        "return: Returns a tuple whose first element is the principal space matrix\n",
        "        and second element is the alpha value.\n",
        "'''\n",
        "def compute_ViM_principal_space_and_alpha(training_data_loader, model_net, verbose = False):\n",
        "    result = []\n",
        "\n",
        "    # Getting the first batch of the training data to calculate principal space and alpha\n",
        "    training_data, target = next(iter(training_data_loader))\n",
        "    if torch.cuda.is_available():\n",
        "        training_data = training_data.cuda()\n",
        "\n",
        "    result = model_net(training_data)\n",
        "    logit = result[0] # Logits (values before softmax)\n",
        "    penultimate = result[1] # Features/Penultimate (values before fully connected layer)\n",
        "\n",
        "    logit_id_train = logit.cpu().detach().numpy().squeeze()\n",
        "    feature_id_train = penultimate.cpu().detach().numpy().squeeze()\n",
        "\n",
        "    ############################################################################\n",
        "    # TODO:  Calculate the pricipal space and then comput alpha.               #\n",
        "    ############################################################################\n",
        "\n",
        "    if verbose:\n",
        "        print('Computing principal space...')\n",
        "    m, D = feature_id_train.shape\n",
        "    x = feature_id_train - u # (200, 128)\n",
        "\n",
        "    # Covariance matrix:\n",
        "    Sigma = (1/m) * x.T @ x  # (128,200) @ (200, 128) = (128, 128)\n",
        "    print('x.shape', x.shape)\n",
        "    U, _, _ = np.linalg.svd(Sigma) # U (128, 128)\n",
        "    k = 12  # Let us use the 12 most significant principal components for our principal space.\n",
        "    principal_space = U[:, k:] \n",
        "\n",
        "    if verbose:\n",
        "        print('Computing alpha...')\n",
        "\n",
        "    xp = x @ principal_space  # = (200, * )\n",
        "    xp_n_s = norm(xp, axis=-1).sum()\n",
        "    alpha = logit.max(dim=1).values.sum() / xp_n_s\n",
        "\n",
        "    ############################################################################\n",
        "    #                             END OF YOUR CODE                             #\n",
        "    ############################################################################\n",
        "    if verbose:\n",
        "        print(f'alpha = {alpha}')\n",
        "\n",
        "    return principal_space, alpha\n",
        "\n",
        "principal_space, alpha = compute_ViM_principal_space_and_alpha(cifar10_loader, net, verbose = True)"
      ]
    },
    {
      "cell_type": "markdown",
      "source": [
        "## Implement ViM Anomaly Score Calculator\n",
        "\n",
        "Now, implement the ViM anomaly score calculator. \n",
        "\n",
        "First, we want to project our penultimate/feature values onto the principal space which we found before, which is called the residual. We multiply the norm of this residual by alpha to get what we call the **virtual logit score**. \n",
        "\n",
        "Next, we get what we call the **energy score** by taking LogSumExp of the logits. \n",
        "\n",
        "Finally, the outputted **anomaly score** is calculated by subtracting the virtual logit by the energy score.\n",
        "\n",
        "$\\text{vlogit}= \\alpha \\| {x^{P^\\perp}} \\|$\\\n",
        "$\\text{energy} = \\text{ln}\\sum_{i=1}^C e^{l_i}$\\\n",
        "$\\text{anomaly_score} = \\text{vlogit} - \\text{energy}$"
      ],
      "metadata": {
        "id": "rmP5powXLnM6"
      }
    },
    {
      "cell_type": "code",
      "execution_count": 44,
      "metadata": {
        "id": "jzikAO1QYRSh",
        "colab": {
          "base_uri": "https://localhost:8080/"
        },
        "outputId": "dcba6d87-fb6f-4abd-ed19-76f3a743e99e"
      },
      "outputs": [
        {
          "output_type": "stream",
          "name": "stdout",
          "text": [
            "======= ViM_anomaly_score_calculator =======\n",
            "x.shape (200, 128)\n",
            "Rademacher Noise Detection\n",
            "AUROC: \t\t\t99.94%\n",
            "\n",
            "SVHN Detection\n"
          ]
        },
        {
          "output_type": "stream",
          "name": "stderr",
          "text": [
            "/usr/local/lib/python3.7/dist-packages/ipykernel_launcher.py:14: UserWarning: Implicit dimension choice for softmax has been deprecated. Change the call to include dim=X as an argument.\n",
            "  \n"
          ]
        },
        {
          "output_type": "stream",
          "name": "stdout",
          "text": [
            "AUROC: \t\t\t95.20%\n",
            "\n",
            "CIFAR-100 Detection\n"
          ]
        },
        {
          "output_type": "stream",
          "name": "stderr",
          "text": [
            "/usr/local/lib/python3.7/dist-packages/ipykernel_launcher.py:14: UserWarning: Implicit dimension choice for softmax has been deprecated. Change the call to include dim=X as an argument.\n",
            "  \n"
          ]
        },
        {
          "output_type": "stream",
          "name": "stdout",
          "text": [
            "AUROC: \t\t\t82.82%\n"
          ]
        },
        {
          "output_type": "stream",
          "name": "stderr",
          "text": [
            "/usr/local/lib/python3.7/dist-packages/ipykernel_launcher.py:14: UserWarning: Implicit dimension choice for softmax has been deprecated. Change the call to include dim=X as an argument.\n",
            "  \n"
          ]
        }
      ],
      "source": [
        "'''\n",
        "Calculates the ViM anomaly score of a batch of outputs.\n",
        "\n",
        "output: The model's output for a batch of data.\n",
        "penultimate: The model's penultimate (feature values) for a batch of data.\n",
        "'''\n",
        "def ViM_anomaly_score_calculator(output, penultimate):\n",
        "    logit_id_val = output.cpu().detach().numpy().squeeze()\n",
        "    feature_id_val = penultimate.cpu().detach().numpy().squeeze()\n",
        "\n",
        "    ############################################################################\n",
        "    # TODO:  Calculate the anomaly score.                                      #\n",
        "    ############################################################################\n",
        "    ps = principal_space\n",
        "    x = feature_id_val - u # (m, 128)\n",
        "    xp = x @ ps  # = (m, 12)\n",
        "    xp_n = norm(xp, axis=-1)\n",
        "    vl = (alpha.cpu() * xp_n)\n",
        "    energy = np.log(np.exp(logit_id_val).sum())\n",
        "    score_id = to_np(vl) - energy\n",
        "\n",
        "    ############################################################################\n",
        "    #                             END OF YOUR CODE                             #\n",
        "    ############################################################################\n",
        "    \n",
        "    return score_id\n",
        "\n",
        "print(\"======= ViM_anomaly_score_calculator =======\")\n",
        "w, b = net.fc.weight.cpu().detach().numpy(), net.fc.bias.cpu().detach().numpy()\n",
        "u = -np.matmul(pinv(w), b)\n",
        "principal_space, alpha = compute_ViM_principal_space_and_alpha(cifar10_loader, net) # Making sure you have the correct ViM values before calculating the score \n",
        "print_all_results(ViM_anomaly_score_calculator, \"ViM\", net, use_penultimate = True)"
      ]
    },
    {
      "cell_type": "markdown",
      "source": [
        "## Compare Anomaly Score Results\n",
        "Run the following cell to see how the different anomaly score calculators compare to each other for the OOD datasets. You should see that ViM is superior to other anomaly scores in all of the datasets."
      ],
      "metadata": {
        "id": "jeNAD556O5gN"
      }
    },
    {
      "cell_type": "code",
      "execution_count": 45,
      "metadata": {
        "id": "HIJ-zCyvJYp9",
        "colab": {
          "base_uri": "https://localhost:8080/"
        },
        "outputId": "4b3c685b-973a-4124-e0da-112f87ef1648"
      },
      "outputs": [
        {
          "output_type": "stream",
          "name": "stdout",
          "text": [
            "            default_model |  Rademacher  |     SVHN     |  CIFAR-100   |   Average   \n",
            "=====================================================================================\n",
            "                Max Logit |    69.77%    |    91.43%    |    86.99%    |    82.73%   \n",
            "              Max Softmax |    80.10%    |    92.32%    |   *88.72%    |    87.05%   \n",
            "            Cross Entropy |    80.10%    |    91.99%    |    88.40%    |    86.83%   \n",
            "                      ViM |   *99.94%    |   *95.20%    |    82.82%    |   *92.65%   \n",
            "\n",
            "     pixmix_trained_model |  Rademacher  |     SVHN     |  CIFAR-100   |   Average   \n",
            "=====================================================================================\n",
            "                Max Logit |   *94.08%    |    92.25%    |    87.42%    |    91.25%   \n",
            "  Max Softmax Probability |    92.76%    |    91.23%    |    87.92%    |    90.64%   \n",
            "            Cross Entropy |    92.44%    |    91.24%    |    87.72%    |    90.46%   \n",
            "                      ViM |    93.88%    |   *94.78%    |   *91.47%    |   *93.37%   \n",
            "\n",
            "\n",
            "* highlights the maximum AUROC Score for an OOD Dataset\n"
          ]
        }
      ],
      "source": [
        "# ///////////////// Compare Results /////////////////\n",
        "\n",
        "def get_results_max(model_name = \"normal\"):\n",
        "    all_anomaly_results[model_name][\"max\"] = [0,0,0,0,0]\n",
        "    for key in all_anomaly_results[model_name].keys():\n",
        "        if (key != \"max\"):\n",
        "            index = 0\n",
        "            for score in all_anomaly_results[model_name][key]:\n",
        "                all_anomaly_results[model_name][\"max\"][index] = \\\n",
        "                    max(score, all_anomaly_results[model_name][\"max\"][index])\n",
        "                index += 1\n",
        "\n",
        "\n",
        "def compare_all_results():\n",
        "    for model_name in all_anomaly_results:\n",
        "        to_be_printed = \" \" * (25 - len(model_name)) + model_name\n",
        "        dataset_names = [\"Rademacher\", \"SVHN\", \"CIFAR-100\", \"Average\"]\n",
        "        for name in dataset_names:\n",
        "            to_be_printed += \" | \" + \" \"*(6-math.ceil(len(name)/2)) + \\\n",
        "                                name + \" \"*(6-math.floor(len(name)/2))\n",
        "\n",
        "        print(to_be_printed)\n",
        "        print(\"=\" * (25 + len(dataset_names) * 15))\n",
        "\n",
        "        get_results_max(model_name = model_name)\n",
        "        for key in all_anomaly_results[model_name].keys():\n",
        "            if (key != \"max\"):\n",
        "                to_be_printed = \" \"*(25-len(key)) + key\n",
        "                index = 0\n",
        "                for result in all_anomaly_results[model_name][key]:\n",
        "                    if (all_anomaly_results[model_name][\"max\"][index] == result):\n",
        "                        result = \"*\" + '{:.2f}'.format(round(result * 100, 2)) + \"%\"\n",
        "                    else:\n",
        "                        result = '{:.2f}'.format(round(result * 100, 2)) + \"%\"\n",
        "                    to_be_printed += \" | \" + \" \"*(6-math.ceil(len(result)/2)) + \\\n",
        "                                        result + \" \"*(6-math.floor(len(result)/2))\n",
        "                    index += 1\n",
        "                print(to_be_printed)\n",
        "        print()\n",
        "\n",
        "    print(\"\\n* highlights the maximum AUROC Score for an OOD Dataset\")\n",
        "\n",
        "compare_all_results()"
      ]
    },
    {
      "cell_type": "markdown",
      "source": [
        "## Data Augmentation\n",
        "\n",
        "Now we will see if models trained using data augmentation methods for robustness help in OOD detection. \n",
        "\n",
        "We will load a CIFAR-10 model that used PixMix data augmentation during training, and see how it fares compared to the default model that did not use data augmentation."
      ],
      "metadata": {
        "id": "lOftK8KC8fSJ"
      }
    },
    {
      "cell_type": "code",
      "source": [
        "!gdown 1mjIfbb3mfXXvAZ1sBnjotFr5yYFmLi68 # Downloading PixMix model\n",
        "!gdown 1skZT6yplO-Sv4M8Ksgzx14cTY3H-HgOa # Downlaoding wideresnet class"
      ],
      "metadata": {
        "id": "ANy7vzim9PbC",
        "colab": {
          "base_uri": "https://localhost:8080/"
        },
        "outputId": "2b8f87d9-41c2-4bbe-dc35-8be1c06de9a4"
      },
      "execution_count": 46,
      "outputs": [
        {
          "output_type": "stream",
          "name": "stdout",
          "text": [
            "Downloading...\n",
            "From: https://drive.google.com/uc?id=1mjIfbb3mfXXvAZ1sBnjotFr5yYFmLi68\n",
            "To: /content/checkpoint.pth.tar\n",
            "100% 71.8M/71.8M [00:01<00:00, 36.3MB/s]\n",
            "Downloading...\n",
            "From: https://drive.google.com/uc?id=1skZT6yplO-Sv4M8Ksgzx14cTY3H-HgOa\n",
            "To: /content/wideresnet_with_pen.py\n",
            "100% 4.03k/4.03k [00:00<00:00, 7.51MB/s]\n"
          ]
        }
      ]
    },
    {
      "cell_type": "code",
      "source": [
        "from wideresnet_with_pen import WideResNet as WideResNet2"
      ],
      "metadata": {
        "id": "wx8QTsLj9QAy"
      },
      "execution_count": 47,
      "outputs": []
    },
    {
      "cell_type": "code",
      "source": [
        "# Loading the PixMix model\n",
        "\n",
        "pixmix_net = WideResNet2(depth=40, num_classes=10, widen_factor=4, drop_rate=0.3)\n",
        "pixmix_net = torch.nn.DataParallel(pixmix_net)\n",
        "\n",
        "if torch.cuda.is_available():\n",
        "    checkpoint = torch.load('checkpoint.pth.tar')\n",
        "    pixmix_net.load_state_dict(checkpoint['state_dict'])\n",
        "    net.eval()\n",
        "    net.cuda()\n",
        "else:\n",
        "    checkpoint = torch.load('checkpoint.pth.tar', map_location=torch.device('cpu'))\n",
        "    pixmix_net.load_state_dict(checkpoint['state_dict'])\n",
        "    net.eval()"
      ],
      "metadata": {
        "id": "TQiyBmip9eYr"
      },
      "execution_count": 48,
      "outputs": []
    },
    {
      "cell_type": "markdown",
      "source": [
        "## PixMix Model Testing\n",
        "\n",
        "Let us now test the PixMix model with the same anomaly score calculators we coded before."
      ],
      "metadata": {
        "id": "XRje54Ip-w3p"
      }
    },
    {
      "cell_type": "code",
      "source": [
        "print(\"======= Max Logit AUROC Scores =======\")\n",
        "print_all_results(max_logit_anomaly_score, \"Max Logit\", pixmix_net, model_name = \"pixmix_trained_model\")"
      ],
      "metadata": {
        "id": "W_MVibEl9mgS",
        "colab": {
          "base_uri": "https://localhost:8080/"
        },
        "outputId": "a8f6ca41-f837-4af1-be54-3c35a7f2557b"
      },
      "execution_count": 49,
      "outputs": [
        {
          "output_type": "stream",
          "name": "stdout",
          "text": [
            "======= Max Logit AUROC Scores =======\n",
            "Rademacher Noise Detection\n",
            "AUROC: \t\t\t94.40%\n",
            "\n",
            "SVHN Detection\n"
          ]
        },
        {
          "output_type": "stream",
          "name": "stderr",
          "text": [
            "/usr/local/lib/python3.7/dist-packages/ipykernel_launcher.py:14: UserWarning: Implicit dimension choice for softmax has been deprecated. Change the call to include dim=X as an argument.\n",
            "  \n"
          ]
        },
        {
          "output_type": "stream",
          "name": "stdout",
          "text": [
            "AUROC: \t\t\t92.67%\n",
            "\n",
            "CIFAR-100 Detection\n"
          ]
        },
        {
          "output_type": "stream",
          "name": "stderr",
          "text": [
            "/usr/local/lib/python3.7/dist-packages/ipykernel_launcher.py:14: UserWarning: Implicit dimension choice for softmax has been deprecated. Change the call to include dim=X as an argument.\n",
            "  \n"
          ]
        },
        {
          "output_type": "stream",
          "name": "stdout",
          "text": [
            "AUROC: \t\t\t87.10%\n"
          ]
        },
        {
          "output_type": "stream",
          "name": "stderr",
          "text": [
            "/usr/local/lib/python3.7/dist-packages/ipykernel_launcher.py:14: UserWarning: Implicit dimension choice for softmax has been deprecated. Change the call to include dim=X as an argument.\n",
            "  \n"
          ]
        }
      ]
    },
    {
      "cell_type": "code",
      "source": [
        "print(\"======= Max Softmax Probability AUROC Scores =======\")\n",
        "print_all_results(max_softmax_anomaly_score, \"Max Softmax Probability\", pixmix_net, model_name = \"pixmix_trained_model\")"
      ],
      "metadata": {
        "id": "q3Nx8ieU9npx",
        "colab": {
          "base_uri": "https://localhost:8080/"
        },
        "outputId": "6001c049-3c83-41bd-82e1-aa3bd0c3559d"
      },
      "execution_count": 50,
      "outputs": [
        {
          "output_type": "stream",
          "name": "stdout",
          "text": [
            "======= Max Softmax Probability AUROC Scores =======\n",
            "Rademacher Noise Detection\n",
            "AUROC: \t\t\t92.64%\n",
            "\n",
            "SVHN Detection\n"
          ]
        },
        {
          "output_type": "stream",
          "name": "stderr",
          "text": [
            "/usr/local/lib/python3.7/dist-packages/ipykernel_launcher.py:14: UserWarning: Implicit dimension choice for softmax has been deprecated. Change the call to include dim=X as an argument.\n",
            "  \n"
          ]
        },
        {
          "output_type": "stream",
          "name": "stdout",
          "text": [
            "AUROC: \t\t\t91.31%\n",
            "\n",
            "CIFAR-100 Detection\n"
          ]
        },
        {
          "output_type": "stream",
          "name": "stderr",
          "text": [
            "/usr/local/lib/python3.7/dist-packages/ipykernel_launcher.py:14: UserWarning: Implicit dimension choice for softmax has been deprecated. Change the call to include dim=X as an argument.\n",
            "  \n"
          ]
        },
        {
          "output_type": "stream",
          "name": "stdout",
          "text": [
            "AUROC: \t\t\t87.95%\n"
          ]
        },
        {
          "output_type": "stream",
          "name": "stderr",
          "text": [
            "/usr/local/lib/python3.7/dist-packages/ipykernel_launcher.py:14: UserWarning: Implicit dimension choice for softmax has been deprecated. Change the call to include dim=X as an argument.\n",
            "  \n"
          ]
        }
      ]
    },
    {
      "cell_type": "code",
      "source": [
        "print(\"======= Cross Entropy AUROC Scores =======\")\n",
        "print_all_results(cross_entropy_anomaly_score, \"Cross Entropy\", pixmix_net, model_name = \"pixmix_trained_model\")"
      ],
      "metadata": {
        "id": "umUyonHj9oGm",
        "colab": {
          "base_uri": "https://localhost:8080/"
        },
        "outputId": "9ba192c8-e91b-402d-8a01-9401fbbe30cb"
      },
      "execution_count": 51,
      "outputs": [
        {
          "output_type": "stream",
          "name": "stdout",
          "text": [
            "======= Cross Entropy AUROC Scores =======\n"
          ]
        },
        {
          "output_type": "stream",
          "name": "stderr",
          "text": [
            "/usr/local/lib/python3.7/dist-packages/ipykernel_launcher.py:42: UserWarning: To copy construct from a tensor, it is recommended to use sourceTensor.clone().detach() or sourceTensor.clone().detach().requires_grad_(True), rather than torch.tensor(sourceTensor).\n"
          ]
        },
        {
          "output_type": "stream",
          "name": "stdout",
          "text": [
            "Rademacher Noise Detection\n",
            "AUROC: \t\t\t92.67%\n",
            "\n",
            "SVHN Detection\n"
          ]
        },
        {
          "output_type": "stream",
          "name": "stderr",
          "text": [
            "/usr/local/lib/python3.7/dist-packages/ipykernel_launcher.py:14: UserWarning: Implicit dimension choice for softmax has been deprecated. Change the call to include dim=X as an argument.\n",
            "  \n",
            "/usr/local/lib/python3.7/dist-packages/ipykernel_launcher.py:42: UserWarning: To copy construct from a tensor, it is recommended to use sourceTensor.clone().detach() or sourceTensor.clone().detach().requires_grad_(True), rather than torch.tensor(sourceTensor).\n"
          ]
        },
        {
          "output_type": "stream",
          "name": "stdout",
          "text": [
            "AUROC: \t\t\t91.15%\n",
            "\n",
            "CIFAR-100 Detection\n"
          ]
        },
        {
          "output_type": "stream",
          "name": "stderr",
          "text": [
            "/usr/local/lib/python3.7/dist-packages/ipykernel_launcher.py:14: UserWarning: Implicit dimension choice for softmax has been deprecated. Change the call to include dim=X as an argument.\n",
            "  \n",
            "/usr/local/lib/python3.7/dist-packages/ipykernel_launcher.py:42: UserWarning: To copy construct from a tensor, it is recommended to use sourceTensor.clone().detach() or sourceTensor.clone().detach().requires_grad_(True), rather than torch.tensor(sourceTensor).\n"
          ]
        },
        {
          "output_type": "stream",
          "name": "stdout",
          "text": [
            "AUROC: \t\t\t87.94%\n"
          ]
        },
        {
          "output_type": "stream",
          "name": "stderr",
          "text": [
            "/usr/local/lib/python3.7/dist-packages/ipykernel_launcher.py:14: UserWarning: Implicit dimension choice for softmax has been deprecated. Change the call to include dim=X as an argument.\n",
            "  \n"
          ]
        }
      ]
    },
    {
      "cell_type": "code",
      "source": [
        "print(\"======= ViM_anomaly_score_calculator =======\")\n",
        "w, b = pixmix_net.module.fc.weight.cpu().detach().numpy(), pixmix_net.module.fc.bias.cpu().detach().numpy()\n",
        "u = -np.matmul(pinv(w), b)\n",
        "principal_space, alpha = compute_ViM_principal_space_and_alpha(cifar10_loader, pixmix_net)\n",
        "print_all_results(ViM_anomaly_score_calculator, \"ViM\", pixmix_net, model_name = \"pixmix_trained_model\", use_penultimate = True)"
      ],
      "metadata": {
        "id": "mPyLCKXK9rtx",
        "colab": {
          "base_uri": "https://localhost:8080/"
        },
        "outputId": "3ad78ceb-b23f-48fc-e0d1-df9ea9c0c3f4"
      },
      "execution_count": 52,
      "outputs": [
        {
          "output_type": "stream",
          "name": "stdout",
          "text": [
            "======= ViM_anomaly_score_calculator =======\n",
            "x.shape (200, 256)\n",
            "Rademacher Noise Detection\n",
            "AUROC: \t\t\t94.78%\n",
            "\n",
            "SVHN Detection\n"
          ]
        },
        {
          "output_type": "stream",
          "name": "stderr",
          "text": [
            "/usr/local/lib/python3.7/dist-packages/ipykernel_launcher.py:14: UserWarning: Implicit dimension choice for softmax has been deprecated. Change the call to include dim=X as an argument.\n",
            "  \n"
          ]
        },
        {
          "output_type": "stream",
          "name": "stdout",
          "text": [
            "AUROC: \t\t\t94.84%\n",
            "\n",
            "CIFAR-100 Detection\n"
          ]
        },
        {
          "output_type": "stream",
          "name": "stderr",
          "text": [
            "/usr/local/lib/python3.7/dist-packages/ipykernel_launcher.py:14: UserWarning: Implicit dimension choice for softmax has been deprecated. Change the call to include dim=X as an argument.\n",
            "  \n"
          ]
        },
        {
          "output_type": "stream",
          "name": "stdout",
          "text": [
            "AUROC: \t\t\t92.55%\n"
          ]
        },
        {
          "output_type": "stream",
          "name": "stderr",
          "text": [
            "/usr/local/lib/python3.7/dist-packages/ipykernel_launcher.py:14: UserWarning: Implicit dimension choice for softmax has been deprecated. Change the call to include dim=X as an argument.\n",
            "  \n"
          ]
        }
      ]
    },
    {
      "cell_type": "markdown",
      "source": [
        "## Compare No-data-augmentation Model vs PixMix Model\n",
        "\n",
        "Let us now compare how the default model compared to the PixMix model by running the following cell. \n",
        "\n",
        "You should see that the PixMix model successfully helps us in OOD detection, and has a higher AUROC score."
      ],
      "metadata": {
        "id": "jt-XKgcq-8G9"
      }
    },
    {
      "cell_type": "code",
      "source": [
        "compare_all_results()"
      ],
      "metadata": {
        "id": "xBa5Gz0K9sTN",
        "colab": {
          "base_uri": "https://localhost:8080/"
        },
        "outputId": "eaa5fb05-1252-491e-ab3a-8ac2bba2045c"
      },
      "execution_count": 53,
      "outputs": [
        {
          "output_type": "stream",
          "name": "stdout",
          "text": [
            "            default_model |  Rademacher  |     SVHN     |  CIFAR-100   |   Average   \n",
            "=====================================================================================\n",
            "                Max Logit |    69.77%    |    91.43%    |    86.99%    |    82.73%   \n",
            "              Max Softmax |    80.10%    |    92.32%    |   *88.72%    |    87.05%   \n",
            "            Cross Entropy |    80.10%    |    91.99%    |    88.40%    |    86.83%   \n",
            "                      ViM |   *99.94%    |   *95.20%    |    82.82%    |   *92.65%   \n",
            "\n",
            "     pixmix_trained_model |  Rademacher  |     SVHN     |  CIFAR-100   |   Average   \n",
            "=====================================================================================\n",
            "                Max Logit |    94.40%    |    92.67%    |    87.10%    |    91.39%   \n",
            "  Max Softmax Probability |    92.64%    |    91.31%    |    87.95%    |    90.63%   \n",
            "            Cross Entropy |    92.67%    |    91.15%    |    87.94%    |    90.59%   \n",
            "                      ViM |   *94.78%    |   *94.84%    |   *92.55%    |   *94.06%   \n",
            "\n",
            "\n",
            "* highlights the maximum AUROC Score for an OOD Dataset\n"
          ]
        }
      ]
    },
    {
      "cell_type": "code",
      "source": [
        ""
      ],
      "metadata": {
        "id": "7k6UwqvX5Vez"
      },
      "execution_count": 53,
      "outputs": []
    },
    {
      "cell_type": "code",
      "source": [
        ""
      ],
      "metadata": {
        "id": "K2qSrKss6MJY"
      },
      "execution_count": 53,
      "outputs": []
    }
  ],
  "metadata": {
    "accelerator": "GPU",
    "colab": {
      "collapsed_sections": [],
      "name": "mlss_week7_anomaly_detection_code_skeleton_ver2.ipynb",
      "provenance": [],
      "machine_shape": "hm"
    },
    "kernelspec": {
      "display_name": "Python 3",
      "name": "python3"
    },
    "language_info": {
      "name": "python"
    },
    "gpuClass": "standard",
    "widgets": {
      "application/vnd.jupyter.widget-state+json": {
        "472b5d40c96448948dd011505278a891": {
          "model_module": "@jupyter-widgets/controls",
          "model_name": "HBoxModel",
          "model_module_version": "1.5.0",
          "state": {
            "_dom_classes": [],
            "_model_module": "@jupyter-widgets/controls",
            "_model_module_version": "1.5.0",
            "_model_name": "HBoxModel",
            "_view_count": null,
            "_view_module": "@jupyter-widgets/controls",
            "_view_module_version": "1.5.0",
            "_view_name": "HBoxView",
            "box_style": "",
            "children": [
              "IPY_MODEL_a3fef68ad5014018a07c69872a7d97c8",
              "IPY_MODEL_67ab63a3f57045b688ba077c2e08c395",
              "IPY_MODEL_49339add9082415fafd634f663bdb096"
            ],
            "layout": "IPY_MODEL_8452e0d2cf074fd5b6e895f8c7cf1478"
          }
        },
        "a3fef68ad5014018a07c69872a7d97c8": {
          "model_module": "@jupyter-widgets/controls",
          "model_name": "HTMLModel",
          "model_module_version": "1.5.0",
          "state": {
            "_dom_classes": [],
            "_model_module": "@jupyter-widgets/controls",
            "_model_module_version": "1.5.0",
            "_model_name": "HTMLModel",
            "_view_count": null,
            "_view_module": "@jupyter-widgets/controls",
            "_view_module_version": "1.5.0",
            "_view_name": "HTMLView",
            "description": "",
            "description_tooltip": null,
            "layout": "IPY_MODEL_0c7c48fdc80e403a91fe71eca72b61c2",
            "placeholder": "​",
            "style": "IPY_MODEL_b6e3408218f74bcdbfec9c503b260e88",
            "value": ""
          }
        },
        "67ab63a3f57045b688ba077c2e08c395": {
          "model_module": "@jupyter-widgets/controls",
          "model_name": "FloatProgressModel",
          "model_module_version": "1.5.0",
          "state": {
            "_dom_classes": [],
            "_model_module": "@jupyter-widgets/controls",
            "_model_module_version": "1.5.0",
            "_model_name": "FloatProgressModel",
            "_view_count": null,
            "_view_module": "@jupyter-widgets/controls",
            "_view_module_version": "1.5.0",
            "_view_name": "ProgressView",
            "bar_style": "success",
            "description": "",
            "description_tooltip": null,
            "layout": "IPY_MODEL_dfe2eca928974aaca40234ab1a4f0493",
            "max": 170498071,
            "min": 0,
            "orientation": "horizontal",
            "style": "IPY_MODEL_c6fd0a5d7b7b41b08e2ac3df9f034d8c",
            "value": 170498071
          }
        },
        "49339add9082415fafd634f663bdb096": {
          "model_module": "@jupyter-widgets/controls",
          "model_name": "HTMLModel",
          "model_module_version": "1.5.0",
          "state": {
            "_dom_classes": [],
            "_model_module": "@jupyter-widgets/controls",
            "_model_module_version": "1.5.0",
            "_model_name": "HTMLModel",
            "_view_count": null,
            "_view_module": "@jupyter-widgets/controls",
            "_view_module_version": "1.5.0",
            "_view_name": "HTMLView",
            "description": "",
            "description_tooltip": null,
            "layout": "IPY_MODEL_18a7617267ff430fa8eabd68e1cd1fe3",
            "placeholder": "​",
            "style": "IPY_MODEL_5f12785c0e5644fba6e8693c1fe0733a",
            "value": " 170499072/? [00:10&lt;00:00, 17368891.24it/s]"
          }
        },
        "8452e0d2cf074fd5b6e895f8c7cf1478": {
          "model_module": "@jupyter-widgets/base",
          "model_name": "LayoutModel",
          "model_module_version": "1.2.0",
          "state": {
            "_model_module": "@jupyter-widgets/base",
            "_model_module_version": "1.2.0",
            "_model_name": "LayoutModel",
            "_view_count": null,
            "_view_module": "@jupyter-widgets/base",
            "_view_module_version": "1.2.0",
            "_view_name": "LayoutView",
            "align_content": null,
            "align_items": null,
            "align_self": null,
            "border": null,
            "bottom": null,
            "display": null,
            "flex": null,
            "flex_flow": null,
            "grid_area": null,
            "grid_auto_columns": null,
            "grid_auto_flow": null,
            "grid_auto_rows": null,
            "grid_column": null,
            "grid_gap": null,
            "grid_row": null,
            "grid_template_areas": null,
            "grid_template_columns": null,
            "grid_template_rows": null,
            "height": null,
            "justify_content": null,
            "justify_items": null,
            "left": null,
            "margin": null,
            "max_height": null,
            "max_width": null,
            "min_height": null,
            "min_width": null,
            "object_fit": null,
            "object_position": null,
            "order": null,
            "overflow": null,
            "overflow_x": null,
            "overflow_y": null,
            "padding": null,
            "right": null,
            "top": null,
            "visibility": null,
            "width": null
          }
        },
        "0c7c48fdc80e403a91fe71eca72b61c2": {
          "model_module": "@jupyter-widgets/base",
          "model_name": "LayoutModel",
          "model_module_version": "1.2.0",
          "state": {
            "_model_module": "@jupyter-widgets/base",
            "_model_module_version": "1.2.0",
            "_model_name": "LayoutModel",
            "_view_count": null,
            "_view_module": "@jupyter-widgets/base",
            "_view_module_version": "1.2.0",
            "_view_name": "LayoutView",
            "align_content": null,
            "align_items": null,
            "align_self": null,
            "border": null,
            "bottom": null,
            "display": null,
            "flex": null,
            "flex_flow": null,
            "grid_area": null,
            "grid_auto_columns": null,
            "grid_auto_flow": null,
            "grid_auto_rows": null,
            "grid_column": null,
            "grid_gap": null,
            "grid_row": null,
            "grid_template_areas": null,
            "grid_template_columns": null,
            "grid_template_rows": null,
            "height": null,
            "justify_content": null,
            "justify_items": null,
            "left": null,
            "margin": null,
            "max_height": null,
            "max_width": null,
            "min_height": null,
            "min_width": null,
            "object_fit": null,
            "object_position": null,
            "order": null,
            "overflow": null,
            "overflow_x": null,
            "overflow_y": null,
            "padding": null,
            "right": null,
            "top": null,
            "visibility": null,
            "width": null
          }
        },
        "b6e3408218f74bcdbfec9c503b260e88": {
          "model_module": "@jupyter-widgets/controls",
          "model_name": "DescriptionStyleModel",
          "model_module_version": "1.5.0",
          "state": {
            "_model_module": "@jupyter-widgets/controls",
            "_model_module_version": "1.5.0",
            "_model_name": "DescriptionStyleModel",
            "_view_count": null,
            "_view_module": "@jupyter-widgets/base",
            "_view_module_version": "1.2.0",
            "_view_name": "StyleView",
            "description_width": ""
          }
        },
        "dfe2eca928974aaca40234ab1a4f0493": {
          "model_module": "@jupyter-widgets/base",
          "model_name": "LayoutModel",
          "model_module_version": "1.2.0",
          "state": {
            "_model_module": "@jupyter-widgets/base",
            "_model_module_version": "1.2.0",
            "_model_name": "LayoutModel",
            "_view_count": null,
            "_view_module": "@jupyter-widgets/base",
            "_view_module_version": "1.2.0",
            "_view_name": "LayoutView",
            "align_content": null,
            "align_items": null,
            "align_self": null,
            "border": null,
            "bottom": null,
            "display": null,
            "flex": null,
            "flex_flow": null,
            "grid_area": null,
            "grid_auto_columns": null,
            "grid_auto_flow": null,
            "grid_auto_rows": null,
            "grid_column": null,
            "grid_gap": null,
            "grid_row": null,
            "grid_template_areas": null,
            "grid_template_columns": null,
            "grid_template_rows": null,
            "height": null,
            "justify_content": null,
            "justify_items": null,
            "left": null,
            "margin": null,
            "max_height": null,
            "max_width": null,
            "min_height": null,
            "min_width": null,
            "object_fit": null,
            "object_position": null,
            "order": null,
            "overflow": null,
            "overflow_x": null,
            "overflow_y": null,
            "padding": null,
            "right": null,
            "top": null,
            "visibility": null,
            "width": null
          }
        },
        "c6fd0a5d7b7b41b08e2ac3df9f034d8c": {
          "model_module": "@jupyter-widgets/controls",
          "model_name": "ProgressStyleModel",
          "model_module_version": "1.5.0",
          "state": {
            "_model_module": "@jupyter-widgets/controls",
            "_model_module_version": "1.5.0",
            "_model_name": "ProgressStyleModel",
            "_view_count": null,
            "_view_module": "@jupyter-widgets/base",
            "_view_module_version": "1.2.0",
            "_view_name": "StyleView",
            "bar_color": null,
            "description_width": ""
          }
        },
        "18a7617267ff430fa8eabd68e1cd1fe3": {
          "model_module": "@jupyter-widgets/base",
          "model_name": "LayoutModel",
          "model_module_version": "1.2.0",
          "state": {
            "_model_module": "@jupyter-widgets/base",
            "_model_module_version": "1.2.0",
            "_model_name": "LayoutModel",
            "_view_count": null,
            "_view_module": "@jupyter-widgets/base",
            "_view_module_version": "1.2.0",
            "_view_name": "LayoutView",
            "align_content": null,
            "align_items": null,
            "align_self": null,
            "border": null,
            "bottom": null,
            "display": null,
            "flex": null,
            "flex_flow": null,
            "grid_area": null,
            "grid_auto_columns": null,
            "grid_auto_flow": null,
            "grid_auto_rows": null,
            "grid_column": null,
            "grid_gap": null,
            "grid_row": null,
            "grid_template_areas": null,
            "grid_template_columns": null,
            "grid_template_rows": null,
            "height": null,
            "justify_content": null,
            "justify_items": null,
            "left": null,
            "margin": null,
            "max_height": null,
            "max_width": null,
            "min_height": null,
            "min_width": null,
            "object_fit": null,
            "object_position": null,
            "order": null,
            "overflow": null,
            "overflow_x": null,
            "overflow_y": null,
            "padding": null,
            "right": null,
            "top": null,
            "visibility": null,
            "width": null
          }
        },
        "5f12785c0e5644fba6e8693c1fe0733a": {
          "model_module": "@jupyter-widgets/controls",
          "model_name": "DescriptionStyleModel",
          "model_module_version": "1.5.0",
          "state": {
            "_model_module": "@jupyter-widgets/controls",
            "_model_module_version": "1.5.0",
            "_model_name": "DescriptionStyleModel",
            "_view_count": null,
            "_view_module": "@jupyter-widgets/base",
            "_view_module_version": "1.2.0",
            "_view_name": "StyleView",
            "description_width": ""
          }
        },
        "b6d99eaa0ba141abb31b36eefb354aaa": {
          "model_module": "@jupyter-widgets/controls",
          "model_name": "HBoxModel",
          "model_module_version": "1.5.0",
          "state": {
            "_dom_classes": [],
            "_model_module": "@jupyter-widgets/controls",
            "_model_module_version": "1.5.0",
            "_model_name": "HBoxModel",
            "_view_count": null,
            "_view_module": "@jupyter-widgets/controls",
            "_view_module_version": "1.5.0",
            "_view_name": "HBoxView",
            "box_style": "",
            "children": [
              "IPY_MODEL_80111bc9245b4e719a17afa38d33b8ff",
              "IPY_MODEL_4beb554e810241aebaad5b69c2baeeaf",
              "IPY_MODEL_2b24f923590d421496f6e38303095264"
            ],
            "layout": "IPY_MODEL_edaf884248b84dd7ba3aefe6fd165136"
          }
        },
        "80111bc9245b4e719a17afa38d33b8ff": {
          "model_module": "@jupyter-widgets/controls",
          "model_name": "HTMLModel",
          "model_module_version": "1.5.0",
          "state": {
            "_dom_classes": [],
            "_model_module": "@jupyter-widgets/controls",
            "_model_module_version": "1.5.0",
            "_model_name": "HTMLModel",
            "_view_count": null,
            "_view_module": "@jupyter-widgets/controls",
            "_view_module_version": "1.5.0",
            "_view_name": "HTMLView",
            "description": "",
            "description_tooltip": null,
            "layout": "IPY_MODEL_39e161706c724eda94906eab797b594d",
            "placeholder": "​",
            "style": "IPY_MODEL_3088321e6ce24a1d99480ce02f1385a5",
            "value": ""
          }
        },
        "4beb554e810241aebaad5b69c2baeeaf": {
          "model_module": "@jupyter-widgets/controls",
          "model_name": "FloatProgressModel",
          "model_module_version": "1.5.0",
          "state": {
            "_dom_classes": [],
            "_model_module": "@jupyter-widgets/controls",
            "_model_module_version": "1.5.0",
            "_model_name": "FloatProgressModel",
            "_view_count": null,
            "_view_module": "@jupyter-widgets/controls",
            "_view_module_version": "1.5.0",
            "_view_name": "ProgressView",
            "bar_style": "success",
            "description": "",
            "description_tooltip": null,
            "layout": "IPY_MODEL_f731461a38204e0ea5ae2f873d38bdf7",
            "max": 64275384,
            "min": 0,
            "orientation": "horizontal",
            "style": "IPY_MODEL_4829445befb2421bb48f096013e14ccd",
            "value": 64275384
          }
        },
        "2b24f923590d421496f6e38303095264": {
          "model_module": "@jupyter-widgets/controls",
          "model_name": "HTMLModel",
          "model_module_version": "1.5.0",
          "state": {
            "_dom_classes": [],
            "_model_module": "@jupyter-widgets/controls",
            "_model_module_version": "1.5.0",
            "_model_name": "HTMLModel",
            "_view_count": null,
            "_view_module": "@jupyter-widgets/controls",
            "_view_module_version": "1.5.0",
            "_view_name": "HTMLView",
            "description": "",
            "description_tooltip": null,
            "layout": "IPY_MODEL_19dc112352954b8cb3ef4b1ed369d3ef",
            "placeholder": "​",
            "style": "IPY_MODEL_abd03ce9d10b48a3a5d8530eeed55c53",
            "value": " 64275456/? [00:06&lt;00:00, 22523146.32it/s]"
          }
        },
        "edaf884248b84dd7ba3aefe6fd165136": {
          "model_module": "@jupyter-widgets/base",
          "model_name": "LayoutModel",
          "model_module_version": "1.2.0",
          "state": {
            "_model_module": "@jupyter-widgets/base",
            "_model_module_version": "1.2.0",
            "_model_name": "LayoutModel",
            "_view_count": null,
            "_view_module": "@jupyter-widgets/base",
            "_view_module_version": "1.2.0",
            "_view_name": "LayoutView",
            "align_content": null,
            "align_items": null,
            "align_self": null,
            "border": null,
            "bottom": null,
            "display": null,
            "flex": null,
            "flex_flow": null,
            "grid_area": null,
            "grid_auto_columns": null,
            "grid_auto_flow": null,
            "grid_auto_rows": null,
            "grid_column": null,
            "grid_gap": null,
            "grid_row": null,
            "grid_template_areas": null,
            "grid_template_columns": null,
            "grid_template_rows": null,
            "height": null,
            "justify_content": null,
            "justify_items": null,
            "left": null,
            "margin": null,
            "max_height": null,
            "max_width": null,
            "min_height": null,
            "min_width": null,
            "object_fit": null,
            "object_position": null,
            "order": null,
            "overflow": null,
            "overflow_x": null,
            "overflow_y": null,
            "padding": null,
            "right": null,
            "top": null,
            "visibility": null,
            "width": null
          }
        },
        "39e161706c724eda94906eab797b594d": {
          "model_module": "@jupyter-widgets/base",
          "model_name": "LayoutModel",
          "model_module_version": "1.2.0",
          "state": {
            "_model_module": "@jupyter-widgets/base",
            "_model_module_version": "1.2.0",
            "_model_name": "LayoutModel",
            "_view_count": null,
            "_view_module": "@jupyter-widgets/base",
            "_view_module_version": "1.2.0",
            "_view_name": "LayoutView",
            "align_content": null,
            "align_items": null,
            "align_self": null,
            "border": null,
            "bottom": null,
            "display": null,
            "flex": null,
            "flex_flow": null,
            "grid_area": null,
            "grid_auto_columns": null,
            "grid_auto_flow": null,
            "grid_auto_rows": null,
            "grid_column": null,
            "grid_gap": null,
            "grid_row": null,
            "grid_template_areas": null,
            "grid_template_columns": null,
            "grid_template_rows": null,
            "height": null,
            "justify_content": null,
            "justify_items": null,
            "left": null,
            "margin": null,
            "max_height": null,
            "max_width": null,
            "min_height": null,
            "min_width": null,
            "object_fit": null,
            "object_position": null,
            "order": null,
            "overflow": null,
            "overflow_x": null,
            "overflow_y": null,
            "padding": null,
            "right": null,
            "top": null,
            "visibility": null,
            "width": null
          }
        },
        "3088321e6ce24a1d99480ce02f1385a5": {
          "model_module": "@jupyter-widgets/controls",
          "model_name": "DescriptionStyleModel",
          "model_module_version": "1.5.0",
          "state": {
            "_model_module": "@jupyter-widgets/controls",
            "_model_module_version": "1.5.0",
            "_model_name": "DescriptionStyleModel",
            "_view_count": null,
            "_view_module": "@jupyter-widgets/base",
            "_view_module_version": "1.2.0",
            "_view_name": "StyleView",
            "description_width": ""
          }
        },
        "f731461a38204e0ea5ae2f873d38bdf7": {
          "model_module": "@jupyter-widgets/base",
          "model_name": "LayoutModel",
          "model_module_version": "1.2.0",
          "state": {
            "_model_module": "@jupyter-widgets/base",
            "_model_module_version": "1.2.0",
            "_model_name": "LayoutModel",
            "_view_count": null,
            "_view_module": "@jupyter-widgets/base",
            "_view_module_version": "1.2.0",
            "_view_name": "LayoutView",
            "align_content": null,
            "align_items": null,
            "align_self": null,
            "border": null,
            "bottom": null,
            "display": null,
            "flex": null,
            "flex_flow": null,
            "grid_area": null,
            "grid_auto_columns": null,
            "grid_auto_flow": null,
            "grid_auto_rows": null,
            "grid_column": null,
            "grid_gap": null,
            "grid_row": null,
            "grid_template_areas": null,
            "grid_template_columns": null,
            "grid_template_rows": null,
            "height": null,
            "justify_content": null,
            "justify_items": null,
            "left": null,
            "margin": null,
            "max_height": null,
            "max_width": null,
            "min_height": null,
            "min_width": null,
            "object_fit": null,
            "object_position": null,
            "order": null,
            "overflow": null,
            "overflow_x": null,
            "overflow_y": null,
            "padding": null,
            "right": null,
            "top": null,
            "visibility": null,
            "width": null
          }
        },
        "4829445befb2421bb48f096013e14ccd": {
          "model_module": "@jupyter-widgets/controls",
          "model_name": "ProgressStyleModel",
          "model_module_version": "1.5.0",
          "state": {
            "_model_module": "@jupyter-widgets/controls",
            "_model_module_version": "1.5.0",
            "_model_name": "ProgressStyleModel",
            "_view_count": null,
            "_view_module": "@jupyter-widgets/base",
            "_view_module_version": "1.2.0",
            "_view_name": "StyleView",
            "bar_color": null,
            "description_width": ""
          }
        },
        "19dc112352954b8cb3ef4b1ed369d3ef": {
          "model_module": "@jupyter-widgets/base",
          "model_name": "LayoutModel",
          "model_module_version": "1.2.0",
          "state": {
            "_model_module": "@jupyter-widgets/base",
            "_model_module_version": "1.2.0",
            "_model_name": "LayoutModel",
            "_view_count": null,
            "_view_module": "@jupyter-widgets/base",
            "_view_module_version": "1.2.0",
            "_view_name": "LayoutView",
            "align_content": null,
            "align_items": null,
            "align_self": null,
            "border": null,
            "bottom": null,
            "display": null,
            "flex": null,
            "flex_flow": null,
            "grid_area": null,
            "grid_auto_columns": null,
            "grid_auto_flow": null,
            "grid_auto_rows": null,
            "grid_column": null,
            "grid_gap": null,
            "grid_row": null,
            "grid_template_areas": null,
            "grid_template_columns": null,
            "grid_template_rows": null,
            "height": null,
            "justify_content": null,
            "justify_items": null,
            "left": null,
            "margin": null,
            "max_height": null,
            "max_width": null,
            "min_height": null,
            "min_width": null,
            "object_fit": null,
            "object_position": null,
            "order": null,
            "overflow": null,
            "overflow_x": null,
            "overflow_y": null,
            "padding": null,
            "right": null,
            "top": null,
            "visibility": null,
            "width": null
          }
        },
        "abd03ce9d10b48a3a5d8530eeed55c53": {
          "model_module": "@jupyter-widgets/controls",
          "model_name": "DescriptionStyleModel",
          "model_module_version": "1.5.0",
          "state": {
            "_model_module": "@jupyter-widgets/controls",
            "_model_module_version": "1.5.0",
            "_model_name": "DescriptionStyleModel",
            "_view_count": null,
            "_view_module": "@jupyter-widgets/base",
            "_view_module_version": "1.2.0",
            "_view_name": "StyleView",
            "description_width": ""
          }
        },
        "3920f8de38eb4f9090f19c3c2e910655": {
          "model_module": "@jupyter-widgets/controls",
          "model_name": "HBoxModel",
          "model_module_version": "1.5.0",
          "state": {
            "_dom_classes": [],
            "_model_module": "@jupyter-widgets/controls",
            "_model_module_version": "1.5.0",
            "_model_name": "HBoxModel",
            "_view_count": null,
            "_view_module": "@jupyter-widgets/controls",
            "_view_module_version": "1.5.0",
            "_view_name": "HBoxView",
            "box_style": "",
            "children": [
              "IPY_MODEL_03139d569d73492ca4d76c4cceee5e5f",
              "IPY_MODEL_5232d83323ab4a28beae99b9ce91acf0",
              "IPY_MODEL_f6060e7bdbf149feaa7c7372c289eb03"
            ],
            "layout": "IPY_MODEL_bdbf127433ad412494917296db512efb"
          }
        },
        "03139d569d73492ca4d76c4cceee5e5f": {
          "model_module": "@jupyter-widgets/controls",
          "model_name": "HTMLModel",
          "model_module_version": "1.5.0",
          "state": {
            "_dom_classes": [],
            "_model_module": "@jupyter-widgets/controls",
            "_model_module_version": "1.5.0",
            "_model_name": "HTMLModel",
            "_view_count": null,
            "_view_module": "@jupyter-widgets/controls",
            "_view_module_version": "1.5.0",
            "_view_name": "HTMLView",
            "description": "",
            "description_tooltip": null,
            "layout": "IPY_MODEL_a293cc6cb72f469ebcbda68ae975186e",
            "placeholder": "​",
            "style": "IPY_MODEL_5a247ee6d20b41a29d13d4ff5e8f9f1d",
            "value": ""
          }
        },
        "5232d83323ab4a28beae99b9ce91acf0": {
          "model_module": "@jupyter-widgets/controls",
          "model_name": "FloatProgressModel",
          "model_module_version": "1.5.0",
          "state": {
            "_dom_classes": [],
            "_model_module": "@jupyter-widgets/controls",
            "_model_module_version": "1.5.0",
            "_model_name": "FloatProgressModel",
            "_view_count": null,
            "_view_module": "@jupyter-widgets/controls",
            "_view_module_version": "1.5.0",
            "_view_name": "ProgressView",
            "bar_style": "success",
            "description": "",
            "description_tooltip": null,
            "layout": "IPY_MODEL_5026a9882f8042c38937b884bf7be1df",
            "max": 169001437,
            "min": 0,
            "orientation": "horizontal",
            "style": "IPY_MODEL_9b4c380f718f449c9a1a082bf508876f",
            "value": 169001437
          }
        },
        "f6060e7bdbf149feaa7c7372c289eb03": {
          "model_module": "@jupyter-widgets/controls",
          "model_name": "HTMLModel",
          "model_module_version": "1.5.0",
          "state": {
            "_dom_classes": [],
            "_model_module": "@jupyter-widgets/controls",
            "_model_module_version": "1.5.0",
            "_model_name": "HTMLModel",
            "_view_count": null,
            "_view_module": "@jupyter-widgets/controls",
            "_view_module_version": "1.5.0",
            "_view_name": "HTMLView",
            "description": "",
            "description_tooltip": null,
            "layout": "IPY_MODEL_53199d8d1d15490ebc8f46eb2bc5c0e0",
            "placeholder": "​",
            "style": "IPY_MODEL_646963852515484088d585ce6ed5314b",
            "value": " 169001984/? [00:10&lt;00:00, 17962913.90it/s]"
          }
        },
        "bdbf127433ad412494917296db512efb": {
          "model_module": "@jupyter-widgets/base",
          "model_name": "LayoutModel",
          "model_module_version": "1.2.0",
          "state": {
            "_model_module": "@jupyter-widgets/base",
            "_model_module_version": "1.2.0",
            "_model_name": "LayoutModel",
            "_view_count": null,
            "_view_module": "@jupyter-widgets/base",
            "_view_module_version": "1.2.0",
            "_view_name": "LayoutView",
            "align_content": null,
            "align_items": null,
            "align_self": null,
            "border": null,
            "bottom": null,
            "display": null,
            "flex": null,
            "flex_flow": null,
            "grid_area": null,
            "grid_auto_columns": null,
            "grid_auto_flow": null,
            "grid_auto_rows": null,
            "grid_column": null,
            "grid_gap": null,
            "grid_row": null,
            "grid_template_areas": null,
            "grid_template_columns": null,
            "grid_template_rows": null,
            "height": null,
            "justify_content": null,
            "justify_items": null,
            "left": null,
            "margin": null,
            "max_height": null,
            "max_width": null,
            "min_height": null,
            "min_width": null,
            "object_fit": null,
            "object_position": null,
            "order": null,
            "overflow": null,
            "overflow_x": null,
            "overflow_y": null,
            "padding": null,
            "right": null,
            "top": null,
            "visibility": null,
            "width": null
          }
        },
        "a293cc6cb72f469ebcbda68ae975186e": {
          "model_module": "@jupyter-widgets/base",
          "model_name": "LayoutModel",
          "model_module_version": "1.2.0",
          "state": {
            "_model_module": "@jupyter-widgets/base",
            "_model_module_version": "1.2.0",
            "_model_name": "LayoutModel",
            "_view_count": null,
            "_view_module": "@jupyter-widgets/base",
            "_view_module_version": "1.2.0",
            "_view_name": "LayoutView",
            "align_content": null,
            "align_items": null,
            "align_self": null,
            "border": null,
            "bottom": null,
            "display": null,
            "flex": null,
            "flex_flow": null,
            "grid_area": null,
            "grid_auto_columns": null,
            "grid_auto_flow": null,
            "grid_auto_rows": null,
            "grid_column": null,
            "grid_gap": null,
            "grid_row": null,
            "grid_template_areas": null,
            "grid_template_columns": null,
            "grid_template_rows": null,
            "height": null,
            "justify_content": null,
            "justify_items": null,
            "left": null,
            "margin": null,
            "max_height": null,
            "max_width": null,
            "min_height": null,
            "min_width": null,
            "object_fit": null,
            "object_position": null,
            "order": null,
            "overflow": null,
            "overflow_x": null,
            "overflow_y": null,
            "padding": null,
            "right": null,
            "top": null,
            "visibility": null,
            "width": null
          }
        },
        "5a247ee6d20b41a29d13d4ff5e8f9f1d": {
          "model_module": "@jupyter-widgets/controls",
          "model_name": "DescriptionStyleModel",
          "model_module_version": "1.5.0",
          "state": {
            "_model_module": "@jupyter-widgets/controls",
            "_model_module_version": "1.5.0",
            "_model_name": "DescriptionStyleModel",
            "_view_count": null,
            "_view_module": "@jupyter-widgets/base",
            "_view_module_version": "1.2.0",
            "_view_name": "StyleView",
            "description_width": ""
          }
        },
        "5026a9882f8042c38937b884bf7be1df": {
          "model_module": "@jupyter-widgets/base",
          "model_name": "LayoutModel",
          "model_module_version": "1.2.0",
          "state": {
            "_model_module": "@jupyter-widgets/base",
            "_model_module_version": "1.2.0",
            "_model_name": "LayoutModel",
            "_view_count": null,
            "_view_module": "@jupyter-widgets/base",
            "_view_module_version": "1.2.0",
            "_view_name": "LayoutView",
            "align_content": null,
            "align_items": null,
            "align_self": null,
            "border": null,
            "bottom": null,
            "display": null,
            "flex": null,
            "flex_flow": null,
            "grid_area": null,
            "grid_auto_columns": null,
            "grid_auto_flow": null,
            "grid_auto_rows": null,
            "grid_column": null,
            "grid_gap": null,
            "grid_row": null,
            "grid_template_areas": null,
            "grid_template_columns": null,
            "grid_template_rows": null,
            "height": null,
            "justify_content": null,
            "justify_items": null,
            "left": null,
            "margin": null,
            "max_height": null,
            "max_width": null,
            "min_height": null,
            "min_width": null,
            "object_fit": null,
            "object_position": null,
            "order": null,
            "overflow": null,
            "overflow_x": null,
            "overflow_y": null,
            "padding": null,
            "right": null,
            "top": null,
            "visibility": null,
            "width": null
          }
        },
        "9b4c380f718f449c9a1a082bf508876f": {
          "model_module": "@jupyter-widgets/controls",
          "model_name": "ProgressStyleModel",
          "model_module_version": "1.5.0",
          "state": {
            "_model_module": "@jupyter-widgets/controls",
            "_model_module_version": "1.5.0",
            "_model_name": "ProgressStyleModel",
            "_view_count": null,
            "_view_module": "@jupyter-widgets/base",
            "_view_module_version": "1.2.0",
            "_view_name": "StyleView",
            "bar_color": null,
            "description_width": ""
          }
        },
        "53199d8d1d15490ebc8f46eb2bc5c0e0": {
          "model_module": "@jupyter-widgets/base",
          "model_name": "LayoutModel",
          "model_module_version": "1.2.0",
          "state": {
            "_model_module": "@jupyter-widgets/base",
            "_model_module_version": "1.2.0",
            "_model_name": "LayoutModel",
            "_view_count": null,
            "_view_module": "@jupyter-widgets/base",
            "_view_module_version": "1.2.0",
            "_view_name": "LayoutView",
            "align_content": null,
            "align_items": null,
            "align_self": null,
            "border": null,
            "bottom": null,
            "display": null,
            "flex": null,
            "flex_flow": null,
            "grid_area": null,
            "grid_auto_columns": null,
            "grid_auto_flow": null,
            "grid_auto_rows": null,
            "grid_column": null,
            "grid_gap": null,
            "grid_row": null,
            "grid_template_areas": null,
            "grid_template_columns": null,
            "grid_template_rows": null,
            "height": null,
            "justify_content": null,
            "justify_items": null,
            "left": null,
            "margin": null,
            "max_height": null,
            "max_width": null,
            "min_height": null,
            "min_width": null,
            "object_fit": null,
            "object_position": null,
            "order": null,
            "overflow": null,
            "overflow_x": null,
            "overflow_y": null,
            "padding": null,
            "right": null,
            "top": null,
            "visibility": null,
            "width": null
          }
        },
        "646963852515484088d585ce6ed5314b": {
          "model_module": "@jupyter-widgets/controls",
          "model_name": "DescriptionStyleModel",
          "model_module_version": "1.5.0",
          "state": {
            "_model_module": "@jupyter-widgets/controls",
            "_model_module_version": "1.5.0",
            "_model_name": "DescriptionStyleModel",
            "_view_count": null,
            "_view_module": "@jupyter-widgets/base",
            "_view_module_version": "1.2.0",
            "_view_name": "StyleView",
            "description_width": ""
          }
        }
      }
    }
  },
  "nbformat": 4,
  "nbformat_minor": 0
}