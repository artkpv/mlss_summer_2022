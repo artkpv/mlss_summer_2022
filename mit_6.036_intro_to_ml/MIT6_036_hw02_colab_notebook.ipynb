{
 "cells": [
  {
   "cell_type": "markdown",
   "metadata": {
    "id": "_xIaEwCD406A"
   },
   "source": [
    "#MIT 6.036 Spring 2019: Homework 2#\n",
    "\n",
    "This colab notebook provides code and a framework for problems 7-10 of [the homework](https://openlearninglibrary.mit.edu/courses/course-v1:MITx+6.036+1T2019/courseware/Week2/week2_homework/1).  You can work out your solutions here, then submit your results back on the homework page when ready.\n",
    "\n",
    "## <section>**Setup**</section>\n",
    "\n",
    "First, download the code distribution for this homework that contains test cases and helper functions (such as `positive`).\n",
    "\n",
    "Run the next code block to download and import the code for this lab.\n"
   ]
  },
  {
   "cell_type": "code",
   "execution_count": 3,
   "metadata": {
    "id": "2YM-_zLf9Bp-"
   },
   "outputs": [
    {
     "name": "stdout",
     "output_type": "stream",
     "text": [
      "Importing code_for_hw02\n",
      "New procedures added: tidy_plot, plot_separator, plot_data, plot_nonlin_sep, cv,\n",
      "                      rv, y, positive, score\n",
      "Data Sets: super_simple_separable_through_origin(), super_simple_separable(), xor(),\n",
      "           xor_more()\n",
      "Test data for problem 2.1: data1, labels1, data2, labels2\n",
      "Test data for problem 2.2: big_data, big_data_labels, gen_big_data(), gen_lin_separable(),\n",
      "                           big_higher_dim_separable(), gen_flipped_lin_separable()\n",
      "Test functions: test_linear_classifier(), test_perceptron(), test_averaged_perceptron(),\n",
      "                test_eval_classifier(), test_eval_learning_alg(), test_xval_learning_alg()\n",
      "\n",
      "For more information, use 'help', e.g. 'help tidy_plot'\n",
      "Done with import of code_for_hw02\n"
     ]
    }
   ],
   "source": [
    "!rm -f code_for_hw02.py*\n",
    "!wget --no-check-certificate --quiet https://introml_oll.odl.mit.edu/6.036/static/homework/hw02/code_for_hw02.py\n",
    "from code_for_hw02 import *"
   ]
  },
  {
   "cell_type": "code",
   "execution_count": 4,
   "metadata": {
    "colab": {
     "base_uri": "https://localhost:8080/",
     "height": 136
    },
    "id": "2z1zuhqltjBy",
    "outputId": "8275ce0c-9d59-4705-85eb-8c03d5214fb0"
   },
   "outputs": [
    {
     "name": "stdout",
     "output_type": "stream",
     "text": [
      "Help on function tidy_plot in module code_for_hw02:\n",
      "\n",
      "tidy_plot(xmin, xmax, ymin, ymax, center=False, title=None, xlabel=None, ylabel=None)\n",
      "    Set up axes for plotting\n",
      "    xmin, xmax, ymin, ymax = (float) plot extents\n",
      "    Return matplotlib axes\n",
      "\n"
     ]
    }
   ],
   "source": [
    "help(tidy_plot)"
   ]
  },
  {
   "cell_type": "markdown",
   "metadata": {
    "id": "xFxhrJ5XDlvb"
   },
   "source": []
  },
  {
   "cell_type": "code",
   "execution_count": 5,
   "metadata": {
    "id": "fdu6T1KpDohy"
   },
   "outputs": [],
   "source": [
    "def test(a):\n",
    "  return a + 53"
   ]
  },
  {
   "cell_type": "code",
   "execution_count": 6,
   "metadata": {
    "id": "T_soC87TDo69"
   },
   "outputs": [],
   "source": [
    "def methodB(a):\n",
    "  return test(a)"
   ]
  },
  {
   "cell_type": "code",
   "execution_count": 7,
   "metadata": {
    "id": "xnpAY-d_D4J5"
   },
   "outputs": [],
   "source": [
    "def someMethod():\n",
    "  test = 7\n",
    "  return methodB(test + 3)"
   ]
  },
  {
   "cell_type": "code",
   "execution_count": 8,
   "metadata": {
    "colab": {
     "base_uri": "https://localhost:8080/",
     "height": 34
    },
    "id": "T5_h5O0ND7Fq",
    "outputId": "04749b69-3b27-428e-f3be-0099cf003193"
   },
   "outputs": [
    {
     "data": {
      "text/plain": [
       "63"
      ]
     },
     "execution_count": 8,
     "metadata": {},
     "output_type": "execute_result"
    }
   ],
   "source": [
    "someMethod()"
   ]
  },
  {
   "cell_type": "markdown",
   "metadata": {
    "id": "_bhI4dQB1-UZ"
   },
   "source": [
    "# <section>**7) Implement perceptron**</section>\n",
    "\n",
    "Implement [the perceptron algorithm](https://lms.mitx.mit.edu/courses/course-v1:MITx+6.036+2019_Spring/courseware/Week2/perceptron/2), where\n",
    "\n",
    "* `data` is a numpy array of dimension $d$ by $n$\n",
    "* `labels` is numpy array of dimension $1$ by $n$\n",
    "* `params` is a dictionary specifying extra parameters to this algorithm; your algorithm should run a number of iterations equal to $T$\n",
    "* `hook` is either None or a function that takes the tuple `(th, th0)` as an argument and displays the separator graphically.  We won't be testing this in the Tutor, but it will help you in debugging on your own machine.\n",
    "\n",
    "It should return a tuple of $\\theta$ (a $d$ by 1 array) and $\\theta_0$ (a 1 by 1 array).\n",
    "\n",
    "We have given you some  data sets in the code file for you to test your implementation.\n",
    "\n",
    "Your function should initialize all parameters to 0, then run through the data, in the order it is given, performing an update to the parameters whenever the current parameters would make a mistake on that data point. Perform $T$ iterations through the data. "
   ]
  },
  {
   "cell_type": "code",
   "execution_count": 9,
   "metadata": {
    "id": "1VOOY4DR-O-q"
   },
   "outputs": [],
   "source": [
    "import numpy as np"
   ]
  },
  {
   "cell_type": "code",
   "execution_count": 248,
   "metadata": {
    "id": "VtYf8ysk-VQU"
   },
   "outputs": [],
   "source": [
    "def perceptron(data, labels, params={}, hook=None):\n",
    "    # if T not in params, default to 100\n",
    "    T = params.get('T', 100)\n",
    "    d = data.shape[0]\n",
    "    n = data.shape[1]\n",
    "    theta = np.transpose([[0.0] * d])\n",
    "    theta_0 = 0.0\n",
    "    #ax = plot_data(data, labels)\n",
    "    for test in range(T):\n",
    "        founderror = False\n",
    "        for i in range(n):\n",
    "            xi = data[:,i:i+1]\n",
    "            yi = labels[0, i]\n",
    "            if yi * np.sign(theta.T @ xi + theta_0) <= 0:\n",
    "                founderror = True\n",
    "                theta += yi * xi\n",
    "                theta_0 += yi\n",
    "                if hook:\n",
    "                    hook(theta, theta_0)\n",
    "        if not founderror:\n",
    "            break\n",
    "    #plot_separator(ax=ax, th=theta, th_0=theta_0)\n",
    "    return (theta, np.array([[theta_0]]))\n"
   ]
  },
  {
   "cell_type": "code",
   "execution_count": 249,
   "metadata": {
    "colab": {
     "base_uri": "https://localhost:8080/",
     "height": 187
    },
    "id": "92r2oL42-yfM",
    "outputId": "692d7dd0-8894-41fd-ceb1-b181c641d539"
   },
   "outputs": [
    {
     "name": "stdout",
     "output_type": "stream",
     "text": [
      "-----------Test Perceptron 0-----------\n",
      "Passed! \n",
      "\n",
      "-----------Test Perceptron 1-----------\n",
      "Passed! \n",
      "\n"
     ]
    }
   ],
   "source": [
    "test_perceptron(perceptron)"
   ]
  },
  {
   "cell_type": "markdown",
   "metadata": {
    "id": "hQMcSWlmB4-Y"
   },
   "source": [
    "# <section>8) Implement averaged perceptron</section>\n",
    "\n",
    "Regular perceptron can be somewhat sensitive to the most recent examples that it sees. Instead, averaged perceptron produces a more stable output by outputting the average value of `th` and `th0` across all iterations.\n",
    "\n",
    "Implement averaged perceptron with the same spec as regular perceptron, and using the pseudocode below as a guide.\n",
    "<pre>\n",
    "procedure averaged_perceptron({(x^(i), y^(i)), i=1,...n}, T)\n",
    "    th = 0 (d by 1); th0 = 0 (1 by 1)\n",
    "    ths = 0 (d by 1); th0s = 0 (1 by 1)\n",
    "    for t = 1,...,T do:\n",
    "        for i = 1,...,n do:\n",
    "\t        if y^(i)(th . x^(i) + th0) <= 0 then\n",
    "              th = th + y^(i)x^(i)\n",
    "              th0 = th0 + y^(i)\n",
    "\t        ths = ths + th\n",
    "\t        th0s = th0s + th0\n",
    "    return ths/(nT), th0s/(nT)\n",
    "</pre>"
   ]
  },
  {
   "cell_type": "code",
   "execution_count": 367,
   "metadata": {
    "id": "XAwW00MU_FzS"
   },
   "outputs": [],
   "source": [
    "import numpy as np\n",
    "\n",
    "def averaged_perceptron(data, labels, params={}, hook=None):\n",
    "    # if T not in params, default to 100\n",
    "    T = params.get('T', 100)\n",
    "    d = data.shape[0]\n",
    "    n = data.shape[1]\n",
    "    th = np.transpose([[0.0] * d])\n",
    "    th0 = 0.0\n",
    "    ths = np.transpose([[0.0] * d])\n",
    "    th0s = 0.0\n",
    "    #ax = plot_data(data, labels)\n",
    "    for test in range(T):\n",
    "        for i in range(n):\n",
    "            xi = data[:,i:i+1]\n",
    "            yi = labels[0, i]\n",
    "            if yi * np.sign(th.T @ xi + th0) <= 0:\n",
    "                founderror = True\n",
    "                th += yi * xi\n",
    "                th0 += yi\n",
    "                if hook:\n",
    "                    hook(th, th0)\n",
    "            ths += th\n",
    "            th0s += th0\n",
    "    #plot_separator(ax=ax, th=th, th_0=th0)\n",
    "    return (ths/(n*T), np.array([[th0s/(n*T)]]))"
   ]
  },
  {
   "cell_type": "code",
   "execution_count": 251,
   "metadata": {
    "colab": {
     "base_uri": "https://localhost:8080/",
     "height": 153
    },
    "id": "kyLGH0_cBFSU",
    "outputId": "1fbb2057-d2e8-4b03-8bbb-9d48e40422d4"
   },
   "outputs": [
    {
     "name": "stdout",
     "output_type": "stream",
     "text": [
      "-----------Test Averaged Perceptron 0-----------\n",
      "Passed! \n",
      "\n",
      "-----------Test Averaged Perceptron 1-----------\n",
      "Passed! \n",
      "\n"
     ]
    }
   ],
   "source": [
    "test_averaged_perceptron(averaged_perceptron)"
   ]
  },
  {
   "cell_type": "markdown",
   "metadata": {
    "id": "NTfGq7LNGceQ"
   },
   "source": [
    "# 9) Implement evaluation strategies\n",
    "  \n",
    "## 9.1)  Evaluating a classifier\n",
    "\n",
    "To evaluate a classifier, we are interested in how well it performs on data that it wasn't trained on. Construct a testing procedure that uses a training data set, calls a learning algorithm to get a linear separator (a tuple of $\\theta, \\theta_0$), and then reports the percentage correct on a new testing set as a float between 0. and 1..\n",
    "\n",
    "The learning algorithm is passed as a function that takes a data array and a labels vector.  Your evaluator should be able to interchangeably evaluate `perceptron` or `averaged_perceptron` (or future algorithms with the same spec), depending on what is passed through the `learner` parameter.\n",
    "\n",
    "The `eval_classifier` function should accept the following parameters:\n",
    "\n",
    "* <tt>learner</tt> - a function, such as perceptron or averaged_perceptron\n",
    "* <tt>data_train</tt> - training data\n",
    "* <tt>labels_train</tt> - training labels\n",
    "* <tt>data_test</tt> - test data\n",
    "* <tt>labels_test</tt> - test labels\n",
    "\n",
    "Assume that you have available the function `score` from HW 1, which takes inputs:\n",
    "\n",
    "* <tt>data</tt>: a <tt>d</tt> by <tt>n</tt> array of floats (representing <tt>n</tt> data points in <tt>d</tt> dimensions)\n",
    "* <tt>labels</tt>: a <tt>1</tt> by <tt>n</tt> array of elements in <tt>(+1, -1)</tt>, representing target labels\n",
    "* <tt>th</tt>: a <tt>d</tt> by <tt>1</tt> array of floats that together with\n",
    "* <tt>th0</tt>: a single scalar or 1 by 1 array, represents a hyperplane\n",
    "\n",
    "and returns 1 by 1 matrix with an integer indicating number of data points correct for the separator."
   ]
  },
  {
   "cell_type": "code",
   "execution_count": 252,
   "metadata": {
    "id": "uSip1lfHBKaT"
   },
   "outputs": [],
   "source": [
    "import numpy as np\n",
    "\n",
    "def eval_classifier(learner, data_train, labels_train, data_test, labels_test):\n",
    "    th, th0 = learner(data_train, labels_train)\n",
    "    n = data_test.shape[1]\n",
    "    correctnum = score(data_test, labels_test, th, th0)\n",
    "    return correctnum / n\n"
   ]
  },
  {
   "cell_type": "code",
   "execution_count": 253,
   "metadata": {
    "colab": {
     "base_uri": "https://localhost:8080/",
     "height": 289
    },
    "id": "beHMGAb6BTu1",
    "outputId": "3ab1cb49-51f7-4274-a305-791c524faa9a"
   },
   "outputs": [
    {
     "name": "stdout",
     "output_type": "stream",
     "text": [
      "-----------Test Eval Classifier 0-----------\n",
      "Passed! \n",
      "\n",
      "-----------Test Eval Classifier 1-----------\n",
      "Passed! \n",
      "\n"
     ]
    }
   ],
   "source": [
    "test_eval_classifier(eval_classifier,perceptron)"
   ]
  },
  {
   "cell_type": "markdown",
   "metadata": {
    "id": "-WPStky3GiJb"
   },
   "source": [
    "## <subsection>9.2) Evaluating a learning algorithm using a data source</subsection>\n",
    "\n",
    "Construct a testing procedure that takes a learning algorithm and a data source as input and runs the learning algorithm multiple times, each time evaluating the resulting classifier as above. It should report the overall average classification accuracy.\n",
    "\n",
    "You can use our implementation of `eval_classifier` as above.\n",
    "\n",
    "Write the function `eval_learning_alg` that takes:\n",
    "\n",
    "* <tt>learner</tt> - a function, such as perceptron or averaged_perceptron\n",
    "* <tt>data_gen</tt> - a data generator, call it with a desired data set size; returns a tuple (data, labels)\n",
    "* <tt>n_train</tt> - the size of the learning sets\n",
    "* <tt>n_test</tt> - the size of the test sets\n",
    "* <tt>it</tt> - the number of iterations to average over\n",
    "\n",
    "and returns the average classification accuracy as a float between 0. and 1..  \n",
    "\n",
    "** Note: Be sure to generate your training data and then testing data in that order, to ensure that the pseudorandomly generated data matches that in the test code. **"
   ]
  },
  {
   "cell_type": "code",
   "execution_count": 254,
   "metadata": {
    "id": "6qytb8giBXZq"
   },
   "outputs": [],
   "source": [
    "import numpy as np\n",
    "\n",
    "def eval_learning_alg(learner, data_gen, n_train, n_test, it):\n",
    "    sum_ = 0\n",
    "    for i in range(it):\n",
    "        n = n_train + n_test\n",
    "        x, y = data_gen(n)\n",
    "        inxs = np.arange(n)\n",
    "        #np.random.shuffle(inxs)\n",
    "        data_train = x[:,inxs[:n_train]]\n",
    "        labels_train = y[:,inxs[:n_train]]\n",
    "        data_test = x[:,inxs[n_train:]]\n",
    "        labels_test = y[:,inxs[n_train:]]\n",
    "        sum_ += eval_classifier(learner, data_train, labels_train, data_test, labels_test)\n",
    "    return sum_/ it\n",
    "        \n"
   ]
  },
  {
   "cell_type": "code",
   "execution_count": 255,
   "metadata": {
    "colab": {
     "base_uri": "https://localhost:8080/",
     "height": 578
    },
    "id": "uCZojUBJBb06",
    "outputId": "c829e6d3-a291-400f-fe05-8c98713989f2"
   },
   "outputs": [
    {
     "name": "stdout",
     "output_type": "stream",
     "text": [
      "-----------Test Eval Learning Algo-----------\n",
      "Passed! \n",
      "\n"
     ]
    }
   ],
   "source": [
    "test_eval_learning_alg(eval_learning_alg,perceptron)"
   ]
  },
  {
   "cell_type": "markdown",
   "metadata": {
    "id": "60u9G0QnGzv-"
   },
   "source": [
    "## <subsection>9.3) Evaluating a learning algorithm with a fixed dataset</subsection>\n",
    "\n",
    "Cross-validation is a strategy for evaluating a learning algorithm, using a single training set of size $n$. Cross-validation takes in a learning algorithm $L$, a fixed data set $\\mathcal{D}$, and a parameter $k$. It will run the learning algorithm $k$ different times, then evaluate the accuracy of the resulting classifier, and ultimately return the average of the accuracies over each of the $k$ \"runs\" of $L$. It is structured like this:\n",
    "\n",
    "<pre><code>divide D into k parts, as equally as possible;  call them D_i for i == 0 .. k-1\n",
    "# be sure the data is shuffled in case someone put all the positive examples first in the data!\n",
    "for j from 0 to k-1:\n",
    "    D_minus_j = union of all the datasets D_i, except for D_j\n",
    "    h_j = L(D_minus_j)\n",
    "    score_j = accuracy of h_j measured on D_j\n",
    "return average(score0, ..., score(k-1))\n",
    "</code></pre>\n",
    "\n",
    "So, each time, it trains on  $k−1$ of the pieces of the data set and tests the resulting hypothesis on the piece that was not used for training.\n",
    "\n",
    "When $k=n$, it is called *leave-one-out cross validation*.\n",
    "\n",
    "Implement cross validation **assuming that the input data is shuffled already** so that the positives and negatives are distributed randomly. If the size of the data does not evenly divide by k, split the data into n % k sub-arrays of size n//k + 1 and the rest of size n//k. (Hint: You can use <a href=\"https://docs.scipy.org/doc/numpy/reference/generated/numpy.array_split.html\">numpy.array_split</a>\n",
    "and <a href=\"https://docs.scipy.org/doc/numpy/reference/generated/numpy.concatenate.html\">numpy.concatenate</a> with axis arguments to split and rejoin the data as you desire.)\n",
    "\n",
    "Note: In Python, n//k indicates integer division, e.g. 2//3 gives 0 and 4//3 gives 1."
   ]
  },
  {
   "cell_type": "code",
   "execution_count": 291,
   "metadata": {},
   "outputs": [],
   "source": [
    "a = np.array([[1, 2], [3, 4]])\n",
    "b = np.array([[5, 6]])\n"
   ]
  },
  {
   "cell_type": "code",
   "execution_count": 292,
   "metadata": {},
   "outputs": [
    {
     "data": {
      "text/plain": [
       "(array([[1, 2],\n",
       "        [3, 4],\n",
       "        [5, 6]]),\n",
       " array([[1, 2, 5],\n",
       "        [3, 4, 6]]),\n",
       " array([1, 2, 3, 4, 5, 6]))"
      ]
     },
     "execution_count": 292,
     "metadata": {},
     "output_type": "execute_result"
    }
   ],
   "source": [
    "np.concatenate((a, b), axis=0), np.concatenate((a, b.T), axis=1),  np.concatenate((a, b), axis=None)"
   ]
  },
  {
   "cell_type": "code",
   "execution_count": 347,
   "metadata": {
    "id": "W5_iixOmBgR7"
   },
   "outputs": [],
   "source": [
    "import numpy as np\n",
    "\n",
    "def xval_learning_alg(learner, indata, inlabels, k):\n",
    "    ds = np.split(indata, k, axis=1)\n",
    "    ls = np.split(inlabels, k, axis=1)\n",
    "    scores = []\n",
    "    for j in range(k):\n",
    "        data = np.concatenate(ds[:j] + ds[j+1:], axis=1)\n",
    "        labels = np.concatenate(ls[:j] + ls[j+1:], axis=1)\n",
    "        th, th0 = learner(data, labels)\n",
    "        correctnum = score(ds[j], ls[j], th, th0)\n",
    "        n = len(ls[j][0])\n",
    "        print(correctnum, n)\n",
    "        scores += [correctnum * 1. / n]\n",
    "    return np.average(scores)\n"
   ]
  },
  {
   "cell_type": "code",
   "execution_count": 348,
   "metadata": {
    "colab": {
     "base_uri": "https://localhost:8080/",
     "height": 136
    },
    "id": "iUiUgtMHBiZX",
    "outputId": "d56471f5-dde1-4a98-a1e5-02120decb9d4"
   },
   "outputs": [
    {
     "name": "stdout",
     "output_type": "stream",
     "text": [
      "11 20\n",
      "12 20\n",
      "10 20\n",
      "13 20\n",
      "15 20\n",
      "-----------Test Cross-eval Learning Algo-----------\n",
      "Passed! \n",
      "\n"
     ]
    }
   ],
   "source": [
    "test_xval_learning_alg(xval_learning_alg,perceptron)"
   ]
  },
  {
   "cell_type": "markdown",
   "metadata": {
    "id": "crF8flfB3hr1"
   },
   "source": [
    "## 10) Testing\n",
    "\n",
    "In this section, we compare the effectiveness of perceptron and averaged perceptron on some data that are not necessarily linearly separable.\n",
    "\n",
    "Use your `eval_learning_alg` and the `gen_flipped_lin_separable` generator in the code file to evaluate the accuracy of `perceptron` vs. a`veraged_perceptron`. `gen_flipped_lin_separable` can be called with an integer to return a data set and labels. Note that this generates linearly separable data and then \"flips\" the labels with some specified probability (the argument pflip); so most of the results will not be linearly separable. You can also specifiy pflip in the call to the generator. You should use the default values of th and th_0 to retain consistency with the Tutor.\n",
    "\n",
    "Run enough trials so that you can confidently predict the accuracy of these algorithms on new data from that same generator; assume training/test sets on the order of 20 points. The Tutor will check that your answer is within 0.025 of the answer we got using the same generator."
   ]
  },
  {
   "cell_type": "code",
   "execution_count": 358,
   "metadata": {
    "id": "CXFoptqiI6Aw"
   },
   "outputs": [
    {
     "name": "stdout",
     "output_type": "stream",
     "text": [
      "0.7590500000000006\n"
     ]
    }
   ],
   "source": [
    "print(eval_learning_alg(perceptron, gen_flipped_lin_separable(pflip=.1), 20, 20, 1000))"
   ]
  },
  {
   "cell_type": "code",
   "execution_count": 359,
   "metadata": {},
   "outputs": [
    {
     "name": "stdout",
     "output_type": "stream",
     "text": [
      "0.8048499999999997\n"
     ]
    }
   ],
   "source": [
    "print(eval_learning_alg(averaged_perceptron, gen_flipped_lin_separable(pflip=.1), 20, 20, 1000))"
   ]
  },
  {
   "cell_type": "code",
   "execution_count": 360,
   "metadata": {},
   "outputs": [
    {
     "name": "stdout",
     "output_type": "stream",
     "text": [
      "0.5873500000000001\n"
     ]
    }
   ],
   "source": [
    "\n",
    "print(eval_learning_alg(perceptron, gen_flipped_lin_separable(pflip=.25), 20, 20, 1000))"
   ]
  },
  {
   "cell_type": "code",
   "execution_count": 361,
   "metadata": {},
   "outputs": [
    {
     "name": "stdout",
     "output_type": "stream",
     "text": [
      "0.6375000000000007\n"
     ]
    }
   ],
   "source": [
    "print(eval_learning_alg(averaged_perceptron, gen_flipped_lin_separable(pflip=.25), 20, 20, 1000))"
   ]
  },
  {
   "cell_type": "code",
   "execution_count": 362,
   "metadata": {},
   "outputs": [],
   "source": [
    "\n",
    "def eval_learning_alg_wrong(learner, data_gen, n_train, n_test, it):\n",
    "    sum_ = 0\n",
    "    for i in range(it):\n",
    "        n = n_train + n_test\n",
    "        x, y = data_gen(n)\n",
    "        inxs = np.arange(n)\n",
    "        #np.random.shuffle(inxs)\n",
    "        data_train = x[:,inxs[:n_train]]\n",
    "        labels_train = y[:,inxs[:n_train]]\n",
    "        data_test = x[:,inxs[n_train:]]\n",
    "        labels_test = y[:,inxs[n_train:]]\n",
    "        sum_ += eval_classifier(learner, data_train, labels_train, data_train, labels_train)\n",
    "    return sum_/ it\n",
    "        "
   ]
  },
  {
   "cell_type": "code",
   "execution_count": 363,
   "metadata": {
    "id": "CXFoptqiI6Aw"
   },
   "outputs": [
    {
     "name": "stdout",
     "output_type": "stream",
     "text": [
      "0.8195\n"
     ]
    }
   ],
   "source": [
    "print(eval_learning_alg_wrong(perceptron, gen_flipped_lin_separable(pflip=.1), 20, 20, 1000))"
   ]
  },
  {
   "cell_type": "code",
   "execution_count": 364,
   "metadata": {},
   "outputs": [
    {
     "name": "stdout",
     "output_type": "stream",
     "text": [
      "0.8665999999999997\n"
     ]
    }
   ],
   "source": [
    "print(eval_learning_alg_wrong(averaged_perceptron, gen_flipped_lin_separable(pflip=.1), 20, 20, 1000))"
   ]
  },
  {
   "cell_type": "code",
   "execution_count": 365,
   "metadata": {},
   "outputs": [
    {
     "name": "stdout",
     "output_type": "stream",
     "text": [
      "0.6714499999999998\n"
     ]
    }
   ],
   "source": [
    "\n",
    "print(eval_learning_alg_wrong(perceptron, gen_flipped_lin_separable(pflip=.25), 20, 20, 1000))"
   ]
  },
  {
   "cell_type": "code",
   "execution_count": 366,
   "metadata": {},
   "outputs": [
    {
     "name": "stdout",
     "output_type": "stream",
     "text": [
      "0.7329499999999997\n"
     ]
    }
   ],
   "source": [
    "print(eval_learning_alg_wrong(averaged_perceptron, gen_flipped_lin_separable(pflip=.25), 20, 20, 1000))"
   ]
  },
  {
   "cell_type": "code",
   "execution_count": null,
   "metadata": {},
   "outputs": [],
   "source": []
  }
 ],
 "metadata": {
  "colab": {
   "collapsed_sections": [],
   "name": "MIT6.036 hw02 colab notebook",
   "provenance": []
  },
  "kernelspec": {
   "display_name": "Python 3 (ipykernel)",
   "language": "python",
   "name": "python3"
  },
  "language_info": {
   "codemirror_mode": {
    "name": "ipython",
    "version": 3
   },
   "file_extension": ".py",
   "mimetype": "text/x-python",
   "name": "python",
   "nbconvert_exporter": "python",
   "pygments_lexer": "ipython3",
   "version": "3.10.5"
  }
 },
 "nbformat": 4,
 "nbformat_minor": 4
}
