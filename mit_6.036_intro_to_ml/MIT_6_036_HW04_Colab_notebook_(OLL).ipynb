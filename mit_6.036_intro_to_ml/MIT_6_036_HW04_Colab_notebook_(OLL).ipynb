{
 "cells": [
  {
   "cell_type": "markdown",
   "metadata": {
    "id": "Wmv3jlgr4_Ji"
   },
   "source": [
    "# MIT 6.036 Spring 2019: Homework 4\n",
    "This homework does not include provided Python code. Instead, we\n",
    "encourage you to write your own code to help you answer some of these\n",
    "problems, and/or test and debug the code components we do ask for.\n",
    "Some of the problems below are simple enough that hand calculation\n",
    "should be possible; your hand solutions can serve as test cases for\n",
    "your code.  You may also find that including utilities written in\n",
    "previous labs (like a `sd` or signed distance function) will be\n",
    "helpful, as you build up additional functions and utilities for\n",
    "calculation of margins, different loss functions, gradients, and other\n",
    "functions needed for margin maximization and gradient descent."
   ]
  },
  {
   "cell_type": "code",
   "execution_count": 1,
   "metadata": {
    "id": "N622h8-D5i-M"
   },
   "outputs": [],
   "source": [
    "import numpy as np"
   ]
  },
  {
   "cell_type": "markdown",
   "metadata": {},
   "source": [
    "## 1) "
   ]
  },
  {
   "cell_type": "code",
   "execution_count": 2,
   "metadata": {},
   "outputs": [],
   "source": [
    "data = np.array([[1, 2, 1, 2, 10, 10.3, 10.5, 10.7],\n",
    "                 [1, 1, 2, 2,  2,  2,  2, 2]])\n",
    "labels = np.array([[-1, -1, 1, 1, 1, 1, 1, 1]])\n",
    "blue_th = np.array([[0, 1]]).T\n",
    "blue_th0 = -1.5\n",
    "red_th = np.array([[1, 0]]).T\n",
    "red_th0 = -2.5"
   ]
  },
  {
   "cell_type": "code",
   "execution_count": 3,
   "metadata": {},
   "outputs": [],
   "source": [
    "def gamma(x, y, th, th0):\n",
    "    return y * (th.T @ x + th0) / np.linalg.norm(th)\n",
    "\n",
    "def s_sum(x, y, th, th0):\n",
    "    return sum(gamma(x[:,i:i+1], y[:,i], th, th0) for i in range(x.shape[1]))[0][0]\n",
    "\n",
    "def s_min(x, y, th, th0):\n",
    "    return min(gamma(x[:,i:i+1], y[:,i], th, th0) for i in range(x.shape[1]))[0][0]\n",
    "\n",
    "def s_max(x, y, th, th0):\n",
    "    return max(gamma(x[:,i:i+1], y[:,i], th, th0) for i in range(x.shape[1]))[0][0]"
   ]
  },
  {
   "cell_type": "code",
   "execution_count": 34,
   "metadata": {},
   "outputs": [
    {
     "data": {
      "text/plain": [
       "[31.5, -1.5, 8.2]"
      ]
     },
     "execution_count": 34,
     "metadata": {},
     "output_type": "execute_result"
    }
   ],
   "source": [
    "[\n",
    "    s_sum(data, labels, red_th, red_th0),\n",
    "    s_min(data, labels, red_th, red_th0),\n",
    "    s_max(data, labels, red_th, red_th0)\n",
    "]"
   ]
  },
  {
   "cell_type": "code",
   "execution_count": 35,
   "metadata": {},
   "outputs": [
    {
     "data": {
      "text/plain": [
       "[4.0, 0.5, 0.5]"
      ]
     },
     "execution_count": 35,
     "metadata": {},
     "output_type": "execute_result"
    }
   ],
   "source": [
    "[\n",
    "    s_sum(data, labels, blue_th, blue_th0),\n",
    "    s_min(data, labels, blue_th, blue_th0),\n",
    "    s_max(data, labels, blue_th, blue_th0)\n",
    "]\n"
   ]
  },
  {
   "cell_type": "markdown",
   "metadata": {},
   "source": [
    "## 3) "
   ]
  },
  {
   "cell_type": "code",
   "execution_count": 2,
   "metadata": {},
   "outputs": [
    {
     "data": {
      "text/plain": [
       "(2.409602165190182, 2.567739315055543)"
      ]
     },
     "execution_count": 2,
     "metadata": {},
     "output_type": "execute_result"
    }
   ],
   "source": [
    "np.linalg.norm([[-0.0737901],[2.40847205]]), np.linalg.norm([[-0.23069578],[2.55735501]])"
   ]
  },
  {
   "cell_type": "code",
   "execution_count": 3,
   "metadata": {},
   "outputs": [
    {
     "data": {
      "text/plain": [
       "(1.4204927238739404, 4.525230920153827, 4.131878940912039)"
      ]
     },
     "execution_count": 3,
     "metadata": {},
     "output_type": "execute_result"
    }
   ],
   "source": [
    "np.linalg.norm([[-0.01280916],[-1.42043497]]), np.linalg.norm([[0.45589866],[-4.50220738]]), np.linalg.norm([[0.04828952],[-4.13159675]])"
   ]
  },
  {
   "cell_type": "markdown",
   "metadata": {},
   "source": [
    "## 4) \n",
    "            [1, 2],\n",
    "            [2, 3],\n",
    "            [3, 5],\n",
    "            [1, 4]\n",
    "    1 2 3 1  \n",
    "    2 3 5 4\n",
    "\n",
    "\n",
    "1+4+9+1  2+6+15+4\n",
    "2+6+15+4 4+9+25+16\n",
    "\n",
    "15 27\n",
    "27 44\n",
    "\n",
    "15 * 44 - 27 * 27\n",
    "\n",
    "-69\n",
    "\n"
   ]
  },
  {
   "cell_type": "markdown",
   "metadata": {
    "id": "jUS51a8m5rEI"
   },
   "source": [
    "## 6) Implementing gradient descent\n",
    "\n",
    "In this section we will implement generic versions of gradient descent and apply these to the SVM objective.\n",
    "\n",
    "<b>Note: </b> If you need a refresher on gradient descent,\n",
    "you may want to reference\n",
    "<a href=\"https://openlearninglibrary.mit.edu/courses/course-v1:MITx+6.036+1T2019/courseware/Week4/gradient_descent/2\">this week's notes</a>.\n",
    "\n",
    "### 6.1) Implementing Gradient Descent\n",
    "We want to find the $x$ that minimizes the value of the *objective\n",
    "function* $f(x)$, for an arbitrary scalar function $f$.  The function\n",
    "$f$ will be implemented as a Python function of one argument, that\n",
    "will be a numpy column vector.  For efficiency, we will work with\n",
    "Python functions that return not just the value of $f$ at $f(x)$ but\n",
    "also return the gradient vector at $x$, that is, $\\nabla_x f(x)$.\n",
    "\n",
    "We will now implement a generic gradient descent function, `gd`, that\n",
    "has the following input arguments:\n",
    "\n",
    "* `f`: a function whose input is an `x`, a column vector, and\n",
    "  returns a scalar.\n",
    "* `df`: a function whose input is an `x`, a column vector, and\n",
    "  returns a column vector representing the gradient of `f` at `x`.\n",
    "* `x0`: an initial value of $x$, `x0`, which is a column vector.\n",
    "* `step_size_fn`: a function that is given the iteration index (an\n",
    "  integer) and returns a step size.\n",
    "* `max_iter`: the number of iterations to perform\n",
    "\n",
    "Our function `gd` returns a tuple:\n",
    "\n",
    "* `x`: the value at the final step\n",
    "* `fs`: the list of values of `f` found during all the iterations (including `f(x0)`)\n",
    "* `xs`: the list of values of `x` found during all the iterations (including `x0`)\n",
    "\n",
    "**Hint:** This is a short function!\n",
    "\n",
    "**Hint 2:** If you do `temp_x = x` where `x` is a vector\n",
    "(numpy array), then `temp_x` is just another name for the same vector\n",
    "as `x` and changing an entry in one will change an entry in the other.\n",
    "You should either use `x.copy()` or remember to change entries back after modification.\n",
    "\n",
    "Some utilities you may find useful are included below."
   ]
  },
  {
   "cell_type": "code",
   "execution_count": 4,
   "metadata": {
    "id": "fYOF0HS34YOj"
   },
   "outputs": [],
   "source": [
    "def rv(value_list):\n",
    "    return np.array([value_list])\n",
    "\n",
    "def cv(value_list):\n",
    "    return np.transpose(rv(value_list))\n",
    "\n",
    "def f1(x):\n",
    "    return float((2 * x + 3)**2)\n",
    "\n",
    "def df1(x):\n",
    "    return 2 * 2 * (2 * x + 3)\n",
    "\n",
    "def f2(v):\n",
    "    x = float(v[0]); y = float(v[1])\n",
    "    return (x - 2.) * (x - 3.) * (x + 3.) * (x + 1.) + (x + y -1)**2\n",
    "\n",
    "def df2(v):\n",
    "    x = float(v[0]); y = float(v[1])\n",
    "    return cv([(-3. + x) * (-2. + x) * (1. + x) + \\\n",
    "               (-3. + x) * (-2. + x) * (3. + x) + \\\n",
    "               (-3. + x) * (1. + x) * (3. + x) + \\\n",
    "               (-2. + x) * (1. + x) * (3. + x) + \\\n",
    "               2 * (-1. + x + y),\n",
    "               2 * (-1. + x + y)])"
   ]
  },
  {
   "cell_type": "markdown",
   "metadata": {
    "id": "s03NFuxG6kvt"
   },
   "source": [
    "The main function to implement is `gd`, defined below."
   ]
  },
  {
   "cell_type": "code",
   "execution_count": 8,
   "metadata": {
    "id": "mNsLE3bg6jt9"
   },
   "outputs": [],
   "source": [
    "def gd(f, df, x0, step_size_fn, max_iter):\n",
    "    fs = [f(x0)]\n",
    "    xs = [x0]\n",
    "    for t in range(max_iter):\n",
    "        xs += [xs[-1] - step_size_fn(t) * df(xs[-1])]\n",
    "        fs += [f(xs[-1])]\n",
    "    return xs[-1], fs, xs"
   ]
  },
  {
   "cell_type": "markdown",
   "metadata": {
    "id": "jXu60n-H5_Hz"
   },
   "source": [
    "To evaluate results, we also use a simple `package_ans` function,\n",
    "which checks the final `x`, as well as the first and last values in\n",
    "`fs`, `xs`."
   ]
  },
  {
   "cell_type": "code",
   "execution_count": 9,
   "metadata": {
    "id": "GJcClaqN4nE6"
   },
   "outputs": [],
   "source": [
    "def package_ans(gd_vals):\n",
    "    x, fs, xs = gd_vals\n",
    "    return [x.tolist(), [fs[0], fs[-1]], [xs[0].tolist(), xs[-1].tolist()]]"
   ]
  },
  {
   "cell_type": "markdown",
   "metadata": {
    "id": "aN_XbacQ6Rue"
   },
   "source": [
    "The test cases are provided below, but you should feel free (and are encouraged!) to write more of your own."
   ]
  },
  {
   "cell_type": "code",
   "execution_count": 10,
   "metadata": {
    "id": "jq0OJLEf6Dan"
   },
   "outputs": [
    {
     "name": "stdout",
     "output_type": "stream",
     "text": [
      "[[[-1.5]], [9.0, 0.0], [[[0.0]], [[-1.5]]]]\n",
      "[[[-2.2058239041648853], [3.205823890926977]], [19.0, -20.967239611348752], [[[0.0], [0.0]], [[-2.2058239041648853], [3.205823890926977]]]]\n"
     ]
    }
   ],
   "source": [
    "# Test case 1\n",
    "ans=package_ans(gd(f1, df1, cv([0.]), lambda i: 0.1, 1000))\n",
    "print(ans)\n",
    "\n",
    "# Test case 2\n",
    "ans=package_ans(gd(f2, df2, cv([0., 0.]), lambda i: 0.01, 1000))\n",
    "print(ans)"
   ]
  },
  {
   "cell_type": "markdown",
   "metadata": {
    "id": "pbuSt5hY645k"
   },
   "source": [
    "### 6.2) Numerical Gradient\n",
    "Getting the analytic gradient correct for complicated functions is\n",
    "tricky.  A very handy method of verifying the analytic gradient or\n",
    "even substituting for it is to estimate the gradient at a point by\n",
    "means of *finite differences*.\n",
    "\n",
    "Assume that we are given a function $f(x)$ that takes a column vector\n",
    "as its argument and returns a scalar value.  In gradient descent, we\n",
    "will want to estimate the gradient of $f$ at a particular $x_0.$\n",
    "\n",
    "The $i^{th}$ component of $\\nabla_x f(x_0)$ can be estimated as\n",
    "$$\\frac{f(x_0+\\delta^{i}) - f(x_0-\\delta^{i})}{2\\delta}$$\n",
    "where $\\delta^{i}$ is a column vector whose $i^{th}$ coordinate is\n",
    "$\\delta$, a small constant such as 0.001, and whose other components\n",
    "are zero.\n",
    "Note that adding or subtracting $\\delta^{i}$ is the same as\n",
    "incrementing or decrementing the $i^{th}$ component of $x_0$ by\n",
    "$\\delta$, leaving the other components of $x_0$ unchanged.  Using\n",
    "these results, we can estimate the $i^{th}$ component of the gradient.\n",
    "\n",
    "For example, if $x_0 = (1,1,\\dots,1)^T$ and $\\delta = 0.01$,\n",
    "we may approximate the first component of $\\nabla_x f(x_0)$ as\n",
    "$$\\frac{f((1,1,1,\\dots)^T+(0.01,0,0,\\dots)^T) - f((1,1,1,\\dots)^T-(0.01,0,0,\\dots)^T)}{2\\cdot 0.01}.$$\n",
    "(We add the transpose so that these are column vectors.)\n",
    "**This process should be done for each dimension independently,\n",
    "and together the results of each computation are compiled to give the\n",
    "estimated gradient, which is $d$ dimensional.**\n",
    "\n",
    "Implement this as a function `num_grad` that takes as arguments the\n",
    "objective function `f` and a value of `delta`, and returns a new\n",
    "**function** that takes an `x` (a column vector of parameters) and\n",
    "returns a gradient column vector.\n",
    "\n",
    "**Note:** As in the previous part, make sure you do not modify your input vector."
   ]
  },
  {
   "cell_type": "code",
   "execution_count": 11,
   "metadata": {
    "id": "WPVwGZ-l6XvW"
   },
   "outputs": [],
   "source": [
    "def num_grad(f, delta=0.001):\n",
    "    def df(x):\n",
    "        d, n = x.shape\n",
    "        ds = np.identity(d) * delta\n",
    "        gr = np.zeros((d, n))\n",
    "        for i in range(d):\n",
    "            gr[i] = ( f(x + ds[:,i:i+1]) - f(x - ds[:,i:i+1]) ) / (2 * delta)\n",
    "        return gr\n",
    "    return df"
   ]
  },
  {
   "cell_type": "markdown",
   "metadata": {
    "id": "kElTR0bL7cbG"
   },
   "source": [
    "The test cases are shown below; these use the functions defined in the previous exercise.\n"
   ]
  },
  {
   "cell_type": "code",
   "execution_count": 83,
   "metadata": {
    "id": "3D7BHu4S7Z8D"
   },
   "outputs": [
    {
     "name": "stdout",
     "output_type": "stream",
     "text": [
      "ds [[0.001 0.   ]\n",
      " [0.    0.001]]\n",
      "ds[:,i:i+1] [[0.001]\n",
      " [0.   ]]\n",
      "i gr 0 [[6.999999]\n",
      " [0.      ]]\n",
      "ds[:,i:i+1] [[0.   ]\n",
      " [0.001]]\n",
      "i gr 1 [[ 6.999999]\n",
      " [-2.      ]]\n",
      "([[6.99999899999959], [-2.000000000000668]], [[0.0], [0.0]]) ([[6.99999899999959], [-2.000000000000668]],)\n",
      "False\n",
      "ds [[0.001 0.   ]\n",
      " [0.    0.001]]\n",
      "ds[:,i:i+1] [[0.001]\n",
      " [0.   ]]\n",
      "i gr 0 [[4.7739994]\n",
      " [0.       ]]\n",
      "ds[:,i:i+1] [[0.   ]\n",
      " [0.001]]\n",
      "i gr 1 [[ 4.7739994]\n",
      " [-2.       ]]\n",
      "([[4.7739994000011166], [-2.000000000000668]], [[0.1], [-0.1]])\n"
     ]
    }
   ],
   "source": [
    "x = cv([0.])\n",
    "#ans=(num_grad(f1)(x).tolist(), x.tolist())\n",
    "#print(ans)\n",
    "\n",
    "x = cv([0.1])\n",
    "#ans=(num_grad(f1)(x).tolist(), x.tolist())\n",
    "#print(ans)\n",
    "\n",
    "x = cv([0., 0.])\n",
    "ans=(num_grad(f2)(x).tolist(), x.tolist())\n",
    "expected = [[6.99999899999959], [-2.000000000000668]],\n",
    "print(ans ,expected)\n",
    "print(ans[0] == expected)\n",
    "\n",
    "\n",
    "x = cv([0.1, -0.1])\n",
    "ans=(num_grad(f2)(x).tolist(), x.tolist())\n",
    "print(ans)"
   ]
  },
  {
   "cell_type": "code",
   "execution_count": null,
   "metadata": {},
   "outputs": [],
   "source": []
  },
  {
   "cell_type": "markdown",
   "metadata": {
    "id": "WASaSsYu75sG"
   },
   "source": [
    "A faster (one function evaluation per entry), though sometimes less\n",
    "accurate, estimate is to use:\n",
    "$$\\frac{f(x_0+\\delta^{i}) - f(x_0)}{\\delta}$$\n",
    "for the $i^{th}$ component of $\\nabla_x f(x_0).$"
   ]
  },
  {
   "cell_type": "markdown",
   "metadata": {
    "id": "E31sdqyG78jD"
   },
   "source": [
    "### 6.3) Using the Numerical Gradient\n",
    "Recall that our generic gradient descent function takes both a function\n",
    "`f` that returns the value of our function at a given point, and `df`,\n",
    "a function that returns a gradient at a given point.  Write a function\n",
    "`minimize` that takes only a function `f` and uses this function and\n",
    "numerical gradient descent to return the local minimum.  We have\n",
    "provided you with our implementations of `num_grad` and `gd`, so you\n",
    "should not redefine them in the code box below.\n",
    "You may use the default of `delta=0.001` for `num_grad`.\n",
    "\n",
    "**Hint:** Your definition of `minimize` should call `num_grad` exactly\n",
    "once, to return a function that is called many times.\n",
    "You should return the same outputs as `gd`."
   ]
  },
  {
   "cell_type": "code",
   "execution_count": 12,
   "metadata": {
    "id": "CStwqDem76Bx"
   },
   "outputs": [],
   "source": [
    "def minimize(f, x0, step_size_fn, max_iter):\n",
    "    fs = [f(x0)]\n",
    "    xs = [x0]\n",
    "    df = num_grad(f, delta=0.001)\n",
    "    for t in range(max_iter):\n",
    "        xs += [xs[-1] - step_size_fn(t) * df(xs[-1])]\n",
    "        fs += [f(xs[-1])]\n",
    "    return xs[-1], fs, xs"
   ]
  },
  {
   "cell_type": "markdown",
   "metadata": {
    "id": "4gl0FTby8EQq"
   },
   "source": [
    "The test cases are below."
   ]
  },
  {
   "cell_type": "code",
   "execution_count": 13,
   "metadata": {
    "id": "UxBLWJFm8DnV"
   },
   "outputs": [
    {
     "name": "stdout",
     "output_type": "stream",
     "text": [
      "[[[-1.5]], [9.0, 0.0], [[[0.0]], [[-1.5]]]]\n",
      "[[[-2.2058237062057517], [3.205823692967833]], [19.0, -20.967239611347775], [[[0.0], [0.0]], [[-2.2058237062057517], [3.205823692967833]]]]\n"
     ]
    }
   ],
   "source": [
    "ans = package_ans(minimize(f1, cv([0.]), lambda i: 0.1, 1000))\n",
    "print(ans)\n",
    "\n",
    "ans = package_ans(minimize(f2, cv([0., 0.]), lambda i: 0.01, 1000))\n",
    "print(ans)"
   ]
  },
  {
   "cell_type": "markdown",
   "metadata": {
    "id": "BH-1e98V8LtM"
   },
   "source": [
    "## 7) Applying gradient descent to SVM objective\n",
    "\n",
    "**Note:** In this section,\n",
    "you will code many individual functions, each of which depends on previous ones.\n",
    "We **strongly recommend** that you test each of the components on your own to debug.\n",
    "\n",
    "### 7.1) Calculating the SVM objective\n",
    "\n",
    "Implement the single-argument hinge function, which computes $L_h$,\n",
    "and use that to implement hinge loss for a data point and separator.\n",
    "Using the latter function, implement the SVM objective.\n",
    "Note that these functions should work for matrix/vector arguments,\n",
    "so that we can compute the objective for a whole dataset with one call.\n",
    "<pre> x is d x n, y is 1 x n, th is d x 1, th0 is 1 x 1, lam is a scalar </pre>\n",
    "\n",
    "Hint: Look at `np.where` for implementing `hinge`."
   ]
  },
  {
   "cell_type": "code",
   "execution_count": 6,
   "metadata": {},
   "outputs": [
    {
     "data": {
      "text/plain": [
       "array([0, 1, 2, 3, 4, 0, 0, 0, 0, 0])"
      ]
     },
     "execution_count": 6,
     "metadata": {},
     "output_type": "execute_result"
    }
   ],
   "source": [
    "a = np.arange(10)\n",
    "np.where(a < 5, a, 0)"
   ]
  },
  {
   "cell_type": "code",
   "execution_count": 14,
   "metadata": {
    "id": "F_6E78BF8e2W"
   },
   "outputs": [],
   "source": [
    "def hinge(v):\n",
    "    return max(0, 1 - v)\n",
    "\n",
    "# x is dxn, y is 1xn, th is dx1, th0 is 1x1\n",
    "def hinge_loss(x, y, th, th0):\n",
    "    return np.where(\n",
    "        y * (th.T @ x + th0) < 1, \n",
    "        1 - y * (th.T @ x + th0), \n",
    "        0)\n",
    "\n",
    "# x is dxn, y is 1xn, th is dx1, th0 is 1x1, lam is a scalar\n",
    "def svm_obj(x, y, th, th0, lam):\n",
    "    n = y.shape[1]\n",
    "    return np.sum(hinge_loss(x, y, th, th0) + lam * np.linalg.norm(th)**2) / n"
   ]
  },
  {
   "cell_type": "code",
   "execution_count": 15,
   "metadata": {
    "id": "muPDf4etYsoy"
   },
   "outputs": [],
   "source": [
    "# add your tests here\n",
    "\n",
    "assert hinge(1) == 0, 'Actual: \"{}\"'.format(hinge(1))\n",
    "assert hinge(-1) == 2\n",
    "assert hinge(1.5) == 0\n",
    "assert hinge(0) == 1\n",
    "assert hinge(0.5) == 0.5\n"
   ]
  },
  {
   "cell_type": "markdown",
   "metadata": {
    "id": "QY1NJEOP8jCC"
   },
   "source": [
    "In the test cases for this problem, we'll use the following\n",
    "`super_simple_separable` test dataset and test separator for some of\n",
    "the tests.  A couple of the test cases are also shown below."
   ]
  },
  {
   "cell_type": "code",
   "execution_count": 16,
   "metadata": {
    "id": "POFvK7zW8iYK"
   },
   "outputs": [
    {
     "name": "stdout",
     "output_type": "stream",
     "text": [
      "0.15668396890496103\n",
      "0.0\n"
     ]
    }
   ],
   "source": [
    "def super_simple_separable():\n",
    "    X = np.array([[2, 3, 9, 12],\n",
    "                  [5, 2, 6, 5]])\n",
    "    y = np.array([[1, -1, 1, -1]])\n",
    "    return X, y\n",
    "\n",
    "sep_e_separator = np.array([[-0.40338351], [1.1849563]]), np.array([[-2.26910091]])\n",
    "\n",
    "# Test case 1\n",
    "x_1, y_1 = super_simple_separable()\n",
    "th1, th1_0 = sep_e_separator\n",
    "ans = svm_obj(x_1, y_1, th1, th1_0, .1)\n",
    "print(ans)\n",
    "\n",
    "# Test case 2\n",
    "ans = svm_obj(x_1, y_1, th1, th1_0, 0.0)\n",
    "print(ans)"
   ]
  },
  {
   "cell_type": "markdown",
   "metadata": {
    "id": "ZjBB0R4u8tF1"
   },
   "source": [
    "### 7.2) Calculating the SVM gradient\n",
    "\n",
    "Define a function `svm_obj_grad` that returns the gradient of the SVM\n",
    "objective function with respect to $\\theta$ and $\\theta_0$ in a single\n",
    "column vector.  The last component of the gradient vector should be\n",
    "the partial derivative with respect to $\\theta_0$.  Look at\n",
    "`np.vstack` as a simple way of stacking two matrices/vectors\n",
    "vertically.  We have broken it down into pieces that mimic steps in\n",
    "the chain rule; this leads to code that is a bit inefficient but\n",
    "easier to write and debug.  We can worry about efficiency later."
   ]
  },
  {
   "cell_type": "code",
   "execution_count": null,
   "metadata": {},
   "outputs": [],
   "source": []
  },
  {
   "cell_type": "code",
   "execution_count": 17,
   "metadata": {
    "id": "lAtDiGVK8vnt"
   },
   "outputs": [],
   "source": [
    "#eta = 1\n",
    "# Returns the gradient of hinge(v) with respect to v.\n",
    "def d_hinge(v):\n",
    "    return np.where(v >= 1, 0, -1)\n",
    "\n",
    "# Returns the gradient of hinge_loss(x, y, th, th0) with respect to th\n",
    "def d_hinge_loss_th(x, y, th, th0):\n",
    "    d, n = x.shape\n",
    "    g = np.where(y * (th.T @ x + th0) < 1, -1, 0)\n",
    "    return x * y * g\n",
    "\n",
    "# Returns the gradient of hinge_loss(x, y, th, th0) with respect to th0\n",
    "def d_hinge_loss_th0(x, y, th, th0):\n",
    "    return y * np.where(y * (th.T @ x + th0) < 1, -1, 0)\n",
    "\n",
    "# Returns the gradient of svm_obj(x, y, th, th0) with respect to th\n",
    "def d_svm_obj_th(x, y, th, th0, lam):\n",
    "    d, n = x.shape\n",
    "    # x - d x n\n",
    "    # y - 1 x n\n",
    "    dhlth = d_hinge_loss_th(x, y, th, th0) \n",
    "    assert dhlth.shape == (d, n)\n",
    "    s = np.sum(dhlth, axis=1, keepdims=True)  \n",
    "    return s / n  + 2 * lam * th\n",
    "\n",
    "# Returns the gradient of svm_obj(x, y, th, th0) with respect to th0\n",
    "def d_svm_obj_th0(x, y, th, th0, lam):\n",
    "    d, n = x.shape\n",
    "    dth0s = d_hinge_loss_th0(x, y, th, th0)\n",
    "    assert dth0s.shape == (1, n)\n",
    "    return np.sum(dth0s, axis=1, keepdims=True) / n\n",
    "\n",
    "# Returns the full gradient as a single vector\n",
    "def svm_obj_grad(X, y, th, th0, lam):\n",
    "    return np.vstack((\n",
    "        d_svm_obj_th(X, y, th, th0, lam), \n",
    "        d_svm_obj_th0(X, y, th, th0, lam)\n",
    "    ))"
   ]
  },
  {
   "cell_type": "markdown",
   "metadata": {
    "id": "LDP6H_2P80vm"
   },
   "source": [
    "Some test cases that may be of use are shown below."
   ]
  },
  {
   "cell_type": "code",
   "execution_count": 18,
   "metadata": {
    "id": "xNuF6-c38yji"
   },
   "outputs": [],
   "source": [
    "X1 = np.array([[1, 2, 3, 9, 10]])\n",
    "y1 = np.array([[1, 1, 1, -1, -1]])\n",
    "th1, th10 = np.array([[-0.31202807]]), np.array([[1.834     ]])\n",
    "X2 = np.array([[2, 3, 9, 12],\n",
    "               [5, 2, 6, 5]])\n",
    "y2 = np.array([[1, -1, 1, -1]])\n",
    "th2, th20=np.array([[ -3.,  15.]]).T, np.array([[ 2.]])"
   ]
  },
  {
   "cell_type": "code",
   "execution_count": 19,
   "metadata": {},
   "outputs": [
    {
     "data": {
      "text/plain": [
       "array([[  4,   9,  81, 144],\n",
       "       [ 25,   4,  36,  25]])"
      ]
     },
     "execution_count": 19,
     "metadata": {},
     "output_type": "execute_result"
    }
   ],
   "source": [
    "X2 * X2"
   ]
  },
  {
   "cell_type": "code",
   "execution_count": 20,
   "metadata": {
    "id": "tZ9Q6k935tLY"
   },
   "outputs": [
    {
     "data": {
      "text/plain": [
       "([[0]], [[-1]], [[0, -1]])"
      ]
     },
     "execution_count": 20,
     "metadata": {},
     "output_type": "execute_result"
    }
   ],
   "source": [
    "(\n",
    "d_hinge(np.array([[ 71.]])).tolist(),\n",
    "d_hinge(np.array([[ -23.]])).tolist(),\n",
    "d_hinge(np.array([[ 71, -23.]])).tolist(),\n",
    ")"
   ]
  },
  {
   "cell_type": "code",
   "execution_count": 21,
   "metadata": {},
   "outputs": [],
   "source": [
    "def mytest(actual, expected):\n",
    "    assert actual == expected, f\"Actual: '{actual}' <> Expected: '{expected}'\""
   ]
  },
  {
   "cell_type": "code",
   "execution_count": 22,
   "metadata": {
    "id": "5fcjaWEo5uWo"
   },
   "outputs": [],
   "source": [
    "\n",
    "mytest(d_hinge_loss_th(X2[:,0:1], y2[:,0:1], th2, th20).tolist(), [[0], [0]])\n",
    "\n",
    "#d_hinge_loss_th(X2, y2, th2, th20).tolist()\n",
    "#d_hinge_loss_th0(X2[:,0:1], y2[:,0:1], th2, th20).tolist()\n",
    "#d_hinge_loss_th0(X2, y2, th2, th20).tolist()\n",
    "\n",
    "mytest(\n",
    "    d_hinge_loss_th(X2, y2, th2, th20).tolist(),\n",
    "    [[0, 3, 0, 12], [0, 2, 0, 5]]\n",
    ")\n",
    "\n",
    "mytest(\n",
    "    d_hinge_loss_th0(X2, y2, th2, th20).tolist() ,\n",
    "[[0.0, 1.0, 0.0, 1.0]]\n",
    ")"
   ]
  },
  {
   "cell_type": "code",
   "execution_count": 23,
   "metadata": {
    "id": "FkjrEb5y5xBU"
   },
   "outputs": [],
   "source": [
    "mytest(\n",
    "    d_svm_obj_th(X2[:,0:1], y2[:,0:1], th2, th20, 0.01).tolist(),   \n",
    "    [[-0.06], [0.3]]\n",
    ")\n",
    "\n",
    "#d_svm_obj_th(X2[:,0:1], y2[:,0:1], th2, th20, 0.01).tolist()\n",
    "#d_svm_obj_th(X2, y2, th2, th20, 0.01).tolist()\n",
    "\n",
    "#d_svm_obj_th0(X2[:,0:1], y2[:,0:1], th2, th20, 0.01).tolist()\n",
    "# d_svm_obj_th0(X2, y2, th2, th20, 0.01).tolist()"
   ]
  },
  {
   "cell_type": "code",
   "execution_count": 24,
   "metadata": {},
   "outputs": [],
   "source": [
    "\n",
    "mytest(\n",
    "    d_svm_obj_th(X2, y2, th2, th20, 0.01).tolist(),\n",
    "    [[3.69], [2.05]]\n",
    ")"
   ]
  },
  {
   "cell_type": "code",
   "execution_count": 25,
   "metadata": {},
   "outputs": [],
   "source": [
    "mytest(\n",
    "    d_svm_obj_th0(X2, y2, th2, th20, 0.01).tolist(),\n",
    "    [[0.5]]\n",
    ")"
   ]
  },
  {
   "cell_type": "code",
   "execution_count": 26,
   "metadata": {
    "id": "BB7axWab58Lp"
   },
   "outputs": [
    {
     "data": {
      "text/plain": [
       "[[-0.06], [0.3], [0.0]]"
      ]
     },
     "execution_count": 26,
     "metadata": {},
     "output_type": "execute_result"
    }
   ],
   "source": [
    "svm_obj_grad(X2, y2, th2, th20, 0.01).tolist()\n",
    "svm_obj_grad(X2[:,0:1], y2[:,0:1], th2, th20, 0.01).tolist()"
   ]
  },
  {
   "cell_type": "markdown",
   "metadata": {
    "id": "3vf6OFEU89pC"
   },
   "source": [
    "### 7.3) Batch SVM minimize\n",
    "\n",
    "Putting it all together, use the functions you built earlier to write\n",
    "a gradient descent minimizer for the SVM objective.  You do not need\n",
    "to paste in your previous definitions; you can just call the ones\n",
    "defined by the staff.  You will need to call `gd`, which is already\n",
    "defined for you as well; your function `batch_svm_min` should return\n",
    "the values that `gd` does.\n",
    "\n",
    "* Initialize all the separator parameters to zero,\n",
    "* use the step size function provided below, and\n",
    "* specify 10 iterations."
   ]
  },
  {
   "cell_type": "code",
   "execution_count": 59,
   "metadata": {
    "id": "dIqWIYnq8_Nb"
   },
   "outputs": [],
   "source": [
    "def batch_svm_min(data, labels, lam):\n",
    "    def svm_min_step_size_fn(i):\n",
    "       return 2/(i+1)**0.5\n",
    "    d, n = data.shape\n",
    "    x0 = np.vstack((\n",
    "        np.repeat(0, d).reshape((d,1)),\n",
    "        np.repeat(0, 1)\n",
    "    ))\n",
    "    print(x0[0:d])\n",
    "    return gd(\n",
    "        lambda x: svm_obj(data, labels, x[0:d], x[d:], lam),\n",
    "        lambda x: svm_obj_grad(data, labels, x[0:d], x[d:], lam),\n",
    "        x0,\n",
    "        svm_min_step_size_fn, \n",
    "        10\n",
    "    )\n",
    "        \n",
    "    "
   ]
  },
  {
   "cell_type": "markdown",
   "metadata": {
    "id": "JH4xd7C-9BIm"
   },
   "source": [
    "Test cases are shown below, where an additional separable test\n",
    "data set has been specified."
   ]
  },
  {
   "cell_type": "code",
   "execution_count": 58,
   "metadata": {
    "id": "HgOC_i879Acd"
   },
   "outputs": [
    {
     "name": "stdout",
     "output_type": "stream",
     "text": [
      "[[0]\n",
      " [0]]\n",
      "[[0]\n",
      " [0]]\n"
     ]
    },
    {
     "ename": "AssertionError",
     "evalue": "Actual: '[[[-1.4810507930100065], [4.406219189763341], [-0.40377305279098563]], [1.0, 2.457217409802802], [[[0], [0], [0]], [[-1.4810507930100065], [4.406219189763341], [-0.40377305279098563]]]]' <> Expected: '[[[-2.430041469694636], [3.7742410656579057], [-0.40377305279098563]], [1.0, 0.37283613860066195], [[[0.0], [0.0], [0.0]], [[-2.430041469694636], [3.7742410656579057], [-0.40377305279098563]]]]'",
     "output_type": "error",
     "traceback": [
      "\u001b[0;31m---------------------------------------------------------------------------\u001b[0m",
      "\u001b[0;31mAssertionError\u001b[0m                            Traceback (most recent call last)",
      "Input \u001b[0;32mIn [58]\u001b[0m, in \u001b[0;36m<cell line: 13>\u001b[0;34m()\u001b[0m\n\u001b[1;32m     10\u001b[0m x_1,y_1\u001b[38;5;241m=\u001b[39msuper_simple_separable()\n\u001b[1;32m     11\u001b[0m ans\u001b[38;5;241m=\u001b[39mpackage_ans(batch_svm_min(x_1, y_1, \u001b[38;5;241m0.0001\u001b[39m))\n\u001b[0;32m---> 13\u001b[0m \u001b[43mmytest\u001b[49m\u001b[43m(\u001b[49m\u001b[43mans\u001b[49m\u001b[43m,\u001b[49m\n\u001b[1;32m     14\u001b[0m \u001b[43m[\u001b[49m\n\u001b[1;32m     15\u001b[0m \u001b[43m    \u001b[49m\u001b[43m[\u001b[49m\u001b[43m[\u001b[49m\u001b[38;5;241;43m-\u001b[39;49m\u001b[38;5;241;43m2.430041469694636\u001b[39;49m\u001b[43m]\u001b[49m\u001b[43m,\u001b[49m\u001b[43m \u001b[49m\u001b[43m[\u001b[49m\u001b[38;5;241;43m3.7742410656579057\u001b[39;49m\u001b[43m]\u001b[49m\u001b[43m,\u001b[49m\u001b[43m \u001b[49m\u001b[43m[\u001b[49m\u001b[38;5;241;43m-\u001b[39;49m\u001b[38;5;241;43m0.40377305279098563\u001b[39;49m\u001b[43m]\u001b[49m\u001b[43m]\u001b[49m\u001b[43m,\u001b[49m\u001b[43m \u001b[49m\n\u001b[1;32m     16\u001b[0m \u001b[43m    \u001b[49m\u001b[43m[\u001b[49m\u001b[38;5;241;43m1.0\u001b[39;49m\u001b[43m,\u001b[49m\u001b[43m \u001b[49m\u001b[38;5;241;43m0.37283613860066195\u001b[39;49m\u001b[43m]\u001b[49m\u001b[43m,\u001b[49m\n\u001b[1;32m     17\u001b[0m \u001b[43m    \u001b[49m\u001b[43m[\u001b[49m\n\u001b[1;32m     18\u001b[0m \u001b[43m        \u001b[49m\u001b[43m[\u001b[49m\u001b[43m[\u001b[49m\u001b[38;5;241;43m0.0\u001b[39;49m\u001b[43m]\u001b[49m\u001b[43m,\u001b[49m\u001b[43m \u001b[49m\u001b[43m[\u001b[49m\u001b[38;5;241;43m0.0\u001b[39;49m\u001b[43m]\u001b[49m\u001b[43m,\u001b[49m\u001b[43m \u001b[49m\u001b[43m[\u001b[49m\u001b[38;5;241;43m0.0\u001b[39;49m\u001b[43m]\u001b[49m\u001b[43m]\u001b[49m\u001b[43m,\u001b[49m\n\u001b[1;32m     19\u001b[0m \u001b[43m        \u001b[49m\u001b[43m[\u001b[49m\u001b[43m[\u001b[49m\u001b[38;5;241;43m-\u001b[39;49m\u001b[38;5;241;43m2.430041469694636\u001b[39;49m\u001b[43m]\u001b[49m\u001b[43m,\u001b[49m\u001b[43m \u001b[49m\u001b[43m[\u001b[49m\u001b[38;5;241;43m3.7742410656579057\u001b[39;49m\u001b[43m]\u001b[49m\u001b[43m,\u001b[49m\u001b[43m \u001b[49m\u001b[43m[\u001b[49m\u001b[38;5;241;43m-\u001b[39;49m\u001b[38;5;241;43m0.40377305279098563\u001b[39;49m\u001b[43m]\u001b[49m\u001b[43m]\u001b[49m\n\u001b[1;32m     20\u001b[0m \u001b[43m    \u001b[49m\u001b[43m]\u001b[49m\n\u001b[1;32m     21\u001b[0m \u001b[43m    \u001b[49m\n\u001b[1;32m     22\u001b[0m \u001b[43m]\u001b[49m\u001b[43m)\u001b[49m\n\u001b[1;32m     23\u001b[0m x_1, y_1 \u001b[38;5;241m=\u001b[39m separable_medium()\n\u001b[1;32m     24\u001b[0m ans \u001b[38;5;241m=\u001b[39m package_ans(batch_svm_min(x_1, y_1, \u001b[38;5;241m0.0001\u001b[39m))\n",
      "Input \u001b[0;32mIn [21]\u001b[0m, in \u001b[0;36mmytest\u001b[0;34m(actual, expected)\u001b[0m\n\u001b[1;32m      1\u001b[0m \u001b[38;5;28;01mdef\u001b[39;00m \u001b[38;5;21mmytest\u001b[39m(actual, expected):\n\u001b[0;32m----> 2\u001b[0m     \u001b[38;5;28;01massert\u001b[39;00m actual \u001b[38;5;241m==\u001b[39m expected, \u001b[38;5;124mf\u001b[39m\u001b[38;5;124m\"\u001b[39m\u001b[38;5;124mActual: \u001b[39m\u001b[38;5;124m'\u001b[39m\u001b[38;5;132;01m{\u001b[39;00mactual\u001b[38;5;132;01m}\u001b[39;00m\u001b[38;5;124m'\u001b[39m\u001b[38;5;124m <> Expected: \u001b[39m\u001b[38;5;124m'\u001b[39m\u001b[38;5;132;01m{\u001b[39;00mexpected\u001b[38;5;132;01m}\u001b[39;00m\u001b[38;5;124m'\u001b[39m\u001b[38;5;124m\"\u001b[39m\n",
      "\u001b[0;31mAssertionError\u001b[0m: Actual: '[[[-1.4810507930100065], [4.406219189763341], [-0.40377305279098563]], [1.0, 2.457217409802802], [[[0], [0], [0]], [[-1.4810507930100065], [4.406219189763341], [-0.40377305279098563]]]]' <> Expected: '[[[-2.430041469694636], [3.7742410656579057], [-0.40377305279098563]], [1.0, 0.37283613860066195], [[[0.0], [0.0], [0.0]], [[-2.430041469694636], [3.7742410656579057], [-0.40377305279098563]]]]'"
     ]
    }
   ],
   "source": [
    "def separable_medium():\n",
    "    X = np.array([[2, -1, 1, 1],\n",
    "                  [-2, 2, 2, -1]])\n",
    "    y = np.array([[1, -1, 1, -1]])\n",
    "    return X, y\n",
    "sep_m_separator = np.array([[ 2.69231855], [ 0.67624906]]), np.array([[-3.02402521]])\n",
    "\n",
    "x_1, y_1 = super_simple_separable()\n",
    "ans = package_ans(batch_svm_min(x_1, y_1, 0.0001))\n",
    "x_1,y_1=super_simple_separable()\n",
    "ans=package_ans(batch_svm_min(x_1, y_1, 0.0001))\n",
    "\n",
    "mytest(ans,\n",
    "[\n",
    "    [[-2.430041469694636], [3.7742410656579057], [-0.40377305279098563]], \n",
    "    [1.0, 0.37283613860066195],\n",
    "    [\n",
    "        [[0.0], [0.0], [0.0]],\n",
    "        [[-2.430041469694636], [3.7742410656579057], [-0.40377305279098563]]\n",
    "    ]\n",
    "    \n",
    "])\n",
    "x_1, y_1 = separable_medium()\n",
    "ans = package_ans(batch_svm_min(x_1, y_1, 0.0001))"
   ]
  },
  {
   "cell_type": "markdown",
   "metadata": {
    "id": "4tFslLvo5X9w"
   },
   "source": [
    "### 7.4) Numerical SVM objective (Optional)\n",
    "\n",
    "Recall from the previous question that we were able to closely approximate gradients\n",
    "with numerical estimates.\n",
    "We may apply the same technique to optimize the SVM objective.\n",
    "\n",
    "Using your definition of `minimize` and `num_grad` from the previous problem,\n",
    "implement a function that optimizes the SVM objective through numeric approximations.\n",
    "\n",
    "How well does this function perform, compared to the analytical result?\n",
    "Consider both accuracy and runtime."
   ]
  },
  {
   "cell_type": "code",
   "execution_count": null,
   "metadata": {
    "id": "bLt1LwN05b3k"
   },
   "outputs": [],
   "source": [
    "# your code here"
   ]
  }
 ],
 "metadata": {
  "colab": {
   "collapsed_sections": [],
   "name": "MIT 6.036 HW04 Colab notebook (OLL)",
   "provenance": []
  },
  "kernelspec": {
   "display_name": "Python 3 (ipykernel)",
   "language": "python",
   "name": "python3"
  },
  "language_info": {
   "codemirror_mode": {
    "name": "ipython",
    "version": 3
   },
   "file_extension": ".py",
   "mimetype": "text/x-python",
   "name": "python",
   "nbconvert_exporter": "python",
   "pygments_lexer": "ipython3",
   "version": "3.10.5"
  }
 },
 "nbformat": 4,
 "nbformat_minor": 4
}
