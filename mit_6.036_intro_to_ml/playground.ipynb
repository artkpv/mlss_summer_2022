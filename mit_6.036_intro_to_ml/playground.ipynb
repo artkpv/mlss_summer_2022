{
 "cells": [
  {
   "cell_type": "code",
   "execution_count": 2,
   "id": "9d8edf35-7483-45d9-a92d-46586db18c7d",
   "metadata": {},
   "outputs": [],
   "source": [
    "import numpy as np"
   ]
  },
  {
   "cell_type": "code",
   "execution_count": 9,
   "id": "e01d66d3-b35a-4454-84a3-c884659cfd75",
   "metadata": {},
   "outputs": [
    {
     "data": {
      "text/plain": [
       "(array([[ 0,  1,  2,  3],\n",
       "        [ 4,  5,  6,  7],\n",
       "        [ 8,  9, 10, 11]]),\n",
       " array([0, 1, 2]),\n",
       " array([[ 0,  4, 16],\n",
       "        [ 0,  5, 18],\n",
       "        [ 0,  6, 20],\n",
       "        [ 0,  7, 22]]))"
      ]
     },
     "execution_count": 9,
     "metadata": {},
     "output_type": "execute_result"
    }
   ],
   "source": [
    "a = np.arange(12).reshape((3,4))\n",
    "b = np.arange(3)\n",
    "a, b, a.T * b"
   ]
  },
  {
   "cell_type": "code",
   "execution_count": null,
   "id": "8350dba4-c9a0-4a5b-aa92-00caf95cfb15",
   "metadata": {},
   "outputs": [],
   "source": []
  }
 ],
 "metadata": {
  "kernelspec": {
   "display_name": "Python 3 (ipykernel)",
   "language": "python",
   "name": "python3"
  },
  "language_info": {
   "codemirror_mode": {
    "name": "ipython",
    "version": 3
   },
   "file_extension": ".py",
   "mimetype": "text/x-python",
   "name": "python",
   "nbconvert_exporter": "python",
   "pygments_lexer": "ipython3",
   "version": "3.10.5"
  }
 },
 "nbformat": 4,
 "nbformat_minor": 5
}
